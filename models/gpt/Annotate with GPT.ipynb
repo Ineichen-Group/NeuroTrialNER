{
 "cells": [
  {
   "cell_type": "code",
   "execution_count": 1,
   "id": "5292809a-a6bf-45b8-bfd6-1589ee42a7b1",
   "metadata": {},
   "outputs": [],
   "source": [
    "import pandas as pd\n",
    "import openai\n"
   ]
  },
  {
   "cell_type": "code",
   "execution_count": 67,
   "id": "ffe27d41-2dd1-4c6e-9395-ecdfb4234e8f",
   "metadata": {},
   "outputs": [
    {
     "data": {
      "text/html": [
       "<div>\n",
       "<style scoped>\n",
       "    .dataframe tbody tr th:only-of-type {\n",
       "        vertical-align: middle;\n",
       "    }\n",
       "\n",
       "    .dataframe tbody tr th {\n",
       "        vertical-align: top;\n",
       "    }\n",
       "\n",
       "    .dataframe thead th {\n",
       "        text-align: right;\n",
       "    }\n",
       "</style>\n",
       "<table border=\"1\" class=\"dataframe\">\n",
       "  <thead>\n",
       "    <tr style=\"text-align: right;\">\n",
       "      <th></th>\n",
       "      <th>nct_id</th>\n",
       "      <th>text</th>\n",
       "    </tr>\n",
       "  </thead>\n",
       "  <tbody>\n",
       "    <tr>\n",
       "      <th>0</th>\n",
       "      <td>NCT04849741</td>\n",
       "      <td>A Phase 1-3, Double-Blind, Randomized, Placebo...</td>\n",
       "    </tr>\n",
       "    <tr>\n",
       "      <th>1</th>\n",
       "      <td>NCT04576507</td>\n",
       "      <td>Effects of Repeated Cannabis Administration on...</td>\n",
       "    </tr>\n",
       "    <tr>\n",
       "      <th>2</th>\n",
       "      <td>NCT00261508</td>\n",
       "      <td>Efficacy And Safety Of Risperidone In The Trea...</td>\n",
       "    </tr>\n",
       "    <tr>\n",
       "      <th>3</th>\n",
       "      <td>NCT01495923</td>\n",
       "      <td>Randomized, Double-blind, Comparative-effectiv...</td>\n",
       "    </tr>\n",
       "    <tr>\n",
       "      <th>4</th>\n",
       "      <td>NCT03150563</td>\n",
       "      <td>Effects of Different Intensities of Passive St...</td>\n",
       "    </tr>\n",
       "  </tbody>\n",
       "</table>\n",
       "</div>"
      ],
      "text/plain": [
       "        nct_id                                               text\n",
       "0  NCT04849741  A Phase 1-3, Double-Blind, Randomized, Placebo...\n",
       "1  NCT04576507  Effects of Repeated Cannabis Administration on...\n",
       "2  NCT00261508  Efficacy And Safety Of Risperidone In The Trea...\n",
       "3  NCT01495923  Randomized, Double-blind, Comparative-effectiv...\n",
       "4  NCT03150563  Effects of Different Intensities of Passive St..."
      ]
     },
     "execution_count": 67,
     "metadata": {},
     "output_type": "execute_result"
    }
   ],
   "source": [
    "ds_annotated_full = pd.read_csv(\"../../data/annotated_data/data_splits/ct_neuro_test_merged_90.csv\")[['nct_id','text']]\n",
    "ds_annotated_full.head()"
   ]
  },
  {
   "cell_type": "code",
   "execution_count": 40,
   "id": "5410c439-9e4e-4878-90c0-e8ca1d25c2ef",
   "metadata": {},
   "outputs": [],
   "source": [
    "def load_pass(file_path, key_to_find):\n",
    "    with open(file_path, 'r') as file:\n",
    "        for line in file:\n",
    "            parts = line.strip().split(\"=\")\n",
    "            if len(parts) == 2 and parts[0] == key_to_find:\n",
    "                found_password = parts[1]\n",
    "                break\n",
    "    if found_password:\n",
    "        print(\"Found password.\")\n",
    "        return found_password\n",
    "    else:\n",
    "        print(\"Password not found for key:\", key_to_find)"
   ]
  },
  {
   "cell_type": "code",
   "execution_count": 41,
   "id": "3ea3f587-8b26-4b55-a423-cad38eb7bad1",
   "metadata": {},
   "outputs": [],
   "source": [
    "import time\n",
    "def query_gpt(input_raw_text, prompt, gpt_model=\"gpt-3.5-turbo\", max_retries=5, retry_delay=2):\n",
    "    # Add a 20-second delay at the beginning of the function\n",
    "    time.sleep(3)\n",
    "    #print(prompt)\n",
    "    \n",
    "    retries = 0\n",
    "    while retries < max_retries:\n",
    "        try:\n",
    "            completion = openai.ChatCompletion.create(\n",
    "                model=gpt_model,\n",
    "                temperature=0.6,\n",
    "                max_tokens=2000,\n",
    "                messages=[\n",
    "                    {\"role\": \"system\", \"content\": \"You are an expert information extraction assistant from clinical trials.\"},\n",
    "                    {\"role\": \"user\",\n",
    "                     \"content\": prompt + \"'''\" + input_raw_text + \"'''\"}\n",
    "                ]\n",
    "            )\n",
    "            return completion.choices[0].message.content\n",
    "        except openai.error.Timeout as e:\n",
    "          #Handle timeout error, e.g. retry or log\n",
    "          print(f\"OpenAI API request timed out: {e}\")\n",
    "          pass\n",
    "        except openai.error.APIError as e:\n",
    "          #Handle API error, e.g. retry or log\n",
    "          print(f\"OpenAI API returned an API Error: {e}\")\n",
    "          pass\n",
    "        except openai.error.APIConnectionError as e:\n",
    "          #Handle connection error, e.g. check network or log\n",
    "          print(f\"OpenAI API request failed to connect: {e}\")\n",
    "          pass\n",
    "        except openai.error.InvalidRequestError as e:\n",
    "          #Handle invalid request error, e.g. validate parameters or log\n",
    "          print(f\"OpenAI API request was invalid: {e}\")\n",
    "          pass\n",
    "        except openai.error.AuthenticationError as e:\n",
    "          #Handle authentication error, e.g. check credentials or log\n",
    "          print(f\"OpenAI API request was not authorized: {e}\")\n",
    "          pass\n",
    "        except openai.error.PermissionError as e:\n",
    "          #Handle permission error, e.g. check scope or log\n",
    "          print(f\"OpenAI API request was not permitted: {e}\")\n",
    "          pass\n",
    "        except openai.error.RateLimitError as e:\n",
    "          #Handle rate limit error, e.g. wait or log\n",
    "          print(f\"OpenAI API request exceeded rate limit: {e}\")\n",
    "          pass # Re-raise the exception for other errors\n",
    "    raise RuntimeError(\"Max retries reached. Unable to complete the API call.\")\n"
   ]
  },
  {
   "cell_type": "code",
   "execution_count": 42,
   "id": "77f8697d-b0c0-4231-92f4-e7e0946961b5",
   "metadata": {},
   "outputs": [
    {
     "name": "stdout",
     "output_type": "stream",
     "text": [
      "Found password.\n"
     ]
    }
   ],
   "source": [
    "openai.api_key = load_pass(\"../../credentials.txt\", \"OPENAI\")\n"
   ]
  },
  {
   "cell_type": "markdown",
   "id": "5e499f63-3b2b-4c5e-8d7b-e90b606e02f3",
   "metadata": {},
   "source": [
    "## Prompts"
   ]
  },
  {
   "cell_type": "code",
   "execution_count": 43,
   "id": "495d3af5-edbf-48a3-a583-b7a29cb44aa7",
   "metadata": {},
   "outputs": [],
   "source": [
    "interventions_prompt_v1 = \"Extract the drug names from the following clinical trial and return them in a list separated with the | symbol. If none is found, return only the word none.: \"\n",
    "conditions_prompt_v1 = \"Extract the investigated disease names and related symptoms from the following clinical trial. Return them in a single list separated with the | symbol. If none is found, return only the word none: \"\n"
   ]
  },
  {
   "cell_type": "code",
   "execution_count": 44,
   "id": "6f520362-3d88-4bf8-a8b8-f7910cf9514f",
   "metadata": {},
   "outputs": [],
   "source": [
    "interventions_prompt_v2 = \"Review the clinical trial document enclosed within triple quotes. Extract only the names of drugs that are actively being investigated in the trial. List these names separated by the '|' symbol without any additional text or explanation. Exclude drugs merely mentioned and not under investigation. If there are no drugs actively investigated, simply respond with 'none'. Focus solely on the drug names for clarity and precision.\"\n",
    "conditions_prompt_v2 = \"Examine the clinical trial document within the triple quotes. Identify and list only the names of diseases and related symptoms under investigation. Format this list with each name or symptom separated by the '|' symbol, omitting any additional descriptions or text. Exclude diseases and symptoms that are only mentioned but not investigated. If there are no diseases or symptoms actively investigated, answer with 'none'. The response should strictly contain the list of names and symptoms.\""
   ]
  },
  {
   "cell_type": "markdown",
   "id": "3ed68849-8c6e-459f-9f44-cea1033f7a11",
   "metadata": {},
   "source": [
    "### example"
   ]
  },
  {
   "cell_type": "code",
   "execution_count": 45,
   "id": "7a71e4d0-1294-403a-9f88-79315921f2df",
   "metadata": {},
   "outputs": [
    {
     "data": {
      "text/plain": [
       "'A Phase 1-3, Double-Blind, Randomized, Placebo-Controlled Study to Evaluate the Efficacy, Safety, Pharmacokinetics and Pharmacodynamics of Intrathecally Administered ION373 in Patients With Alexander Disease | The purpose of this study is to evaluate the safety and efficacy of ION373 in improving or stabilizing gross motor function across the full range of affected domains in patients with AxD.'"
      ]
     },
     "execution_count": 45,
     "metadata": {},
     "output_type": "execute_result"
    }
   ],
   "source": [
    "ds_annotated_full['text'][0]"
   ]
  },
  {
   "cell_type": "code",
   "execution_count": 46,
   "id": "b38c016d-cf2f-493b-af2e-38a9d21150f3",
   "metadata": {},
   "outputs": [
    {
     "data": {
      "text/plain": [
       "\"Polyphenol Rich Supplementation on Markers of Recovery From Intense Resistance Exercise | Strength training is commonly used as an intervention to increase muscle mass, thus improving a person's ability to undertake activities of daily living, or enhance athletic performance. The strength training regimen itself, while ultimately having beneficial effects, causes muscle fibers to be damaged, which the body has to recover from. As the body recovers, it rebuilds the muscle tissue and after multiple consecutive bouts of strength training, the muscle eventually becomes larger and stronger. Thus, it is the recovery from strength training exercise that ultimately determines how well the body adapts. Where inadequate recovery could eventually lead to overtraining and/or injury, optimizing the recovery process from strength training could maximize strength training adaptations. This concept of optimizing recovery has led to development of many supplements, including antioxidants, which may reduce the damage associated with strength training activities and therefore enhance positive adaptations. The purpose of this study is to assess the ability of a polyphenol rich supplementation to aid the recovery process from a demanding bout of resistance exercise\""
      ]
     },
     "execution_count": 46,
     "metadata": {},
     "output_type": "execute_result"
    }
   ],
   "source": [
    "ds_annotated_full['text'][89]"
   ]
  },
  {
   "cell_type": "code",
   "execution_count": 47,
   "id": "09b02909-ff3f-49c8-8955-8c0bff5da7cf",
   "metadata": {},
   "outputs": [
    {
     "data": {
      "text/plain": [
       "'Alexander Disease | none'"
      ]
     },
     "execution_count": 47,
     "metadata": {},
     "output_type": "execute_result"
    }
   ],
   "source": [
    "query_gpt(ds_annotated_full['text'][0], prompt=conditions_prompt_v1)"
   ]
  },
  {
   "cell_type": "code",
   "execution_count": 48,
   "id": "406a4257-5b37-4ff3-b03d-f18b155ff9f3",
   "metadata": {},
   "outputs": [
    {
     "data": {
      "text/plain": [
       "'Strength training'"
      ]
     },
     "execution_count": 48,
     "metadata": {},
     "output_type": "execute_result"
    }
   ],
   "source": [
    "query_gpt(ds_annotated_full['text'][89], prompt=physical_prompt)"
   ]
  },
  {
   "cell_type": "code",
   "execution_count": 50,
   "id": "66659ded-b440-46f8-b2d9-6fc0e2085843",
   "metadata": {},
   "outputs": [
    {
     "data": {
      "text/plain": [
       "'Strength training|resistance exercise'"
      ]
     },
     "execution_count": 50,
     "metadata": {},
     "output_type": "execute_result"
    }
   ],
   "source": [
    "query_gpt(ds_annotated_full['text'][89], prompt=physical_prompt, gpt_model=\"gpt-4\")"
   ]
  },
  {
   "cell_type": "code",
   "execution_count": null,
   "id": "c167931f-52bb-484c-9877-7da0bcc647f4",
   "metadata": {},
   "outputs": [],
   "source": [
    "query_gpt(ds_annotated_full['text'][0], prompt=conditions_prompt_v2, gpt_model=\"gpt-3.5-turbo\")"
   ]
  },
  {
   "cell_type": "code",
   "execution_count": null,
   "id": "5b4bd1fc-70ef-4ece-87ac-81ed11b6d114",
   "metadata": {},
   "outputs": [],
   "source": [
    "query_gpt(ds_annotated_full['text'][86], prompt=interventions_prompt_v2, gpt_model=\"gpt-3.5-turbo\")"
   ]
  },
  {
   "cell_type": "markdown",
   "id": "326be4a0-365e-48b8-8812-23522a8a7d1c",
   "metadata": {},
   "source": [
    "## run over full test dataset"
   ]
  },
  {
   "cell_type": "code",
   "execution_count": 51,
   "id": "0dbbd227-0520-4a52-bcd2-4aca38229e3c",
   "metadata": {},
   "outputs": [],
   "source": [
    "#ds_annotated_full['gpt_predictions_interventions'] = ds_annotated_full['text'].apply(lambda text: query_gpt(text, \"extract_interventions\"))\n",
    "from tqdm import tqdm  # Import tqdm for the progress bar\n",
    "\n",
    "# Define a function to apply GPT queries with a progress bar\n",
    "def apply_gpt_with_progress(data_series, gpt_prompt, gpt_model=\"gpt-3.5-turbo\"):\n",
    "    results = []\n",
    "    total_items = len(data_series)\n",
    "    #print(f\"Using {gpt_model} with prompt {gpt_prompt}.\")\n",
    "\n",
    "    # Create a tqdm progress bar\n",
    "    with tqdm(total=total_items, desc=f\"Processing {gpt_prompt} with {gpt_model}\") as pbar:\n",
    "        for text in data_series:\n",
    "            result = query_gpt(text, prompt=gpt_prompt, gpt_model=gpt_model)\n",
    "            results.append(result)\n",
    "            pbar.update(1)  # Update the progress bar\n",
    "\n",
    "    return results\n"
   ]
  },
  {
   "cell_type": "code",
   "execution_count": 52,
   "id": "39c592e5-ab25-41f4-8027-f56b504e3eb1",
   "metadata": {},
   "outputs": [],
   "source": [
    "def clean_data(df, conditions_col, interventions_col):\n",
    "    \"\"\"\n",
    "    Clean and format the 'conditions' and 'interventions' columns in a dataframe.\n",
    "\n",
    "    Args:\n",
    "    df (DataFrame): The dataframe containing the data.\n",
    "    conditions_col (str): The name of the column containing condition data.\n",
    "    interventions_col (str): The name of the column containing intervention data.\n",
    "\n",
    "    Returns:\n",
    "    DataFrame: The dataframe with cleaned and formatted data.\n",
    "    \"\"\"\n",
    "\n",
    "    # Cleaning the conditions column\n",
    "    df[conditions_col] = df[conditions_col].str.replace(r'\\(.*\\)', '', regex=True)\n",
    "    df[conditions_col] = df[conditions_col].str.replace(',','|')\n",
    "    df[conditions_col] = df[conditions_col].str.replace('\\\"','')\n",
    "    df[conditions_col] = df[conditions_col].str.replace('investigated disease names:','', case=False)\n",
    "    df[conditions_col] = df[conditions_col].str.replace('disease names:','', case=False)\n",
    "    df[conditions_col] = df[conditions_col].str.replace('diseases:','', case=False)\n",
    "    df[conditions_col] = df[conditions_col].str.replace('related symptoms:','|', case=False)\n",
    "    df[conditions_col] = df[conditions_col].str.replace('symptoms:','|', case=False)\n",
    "\n",
    "\n",
    "    # Cleaning the interventions column\n",
    "    intervention_phrases = [\n",
    "        'The drug names in the given clinical trial are:',\n",
    "        'The drug names found in the clinical trial are:',\n",
    "        'The drug names mentioned in the clinical trial are:',\n",
    "        'The drugs being actively investigated in this clinical trial are:',\n",
    "        'The drugs being actively investigated in this clinical trial are',\n",
    "        'The drug being actively investigated in this clinical trial is'\n",
    "\n",
    "    ]\n",
    "    for phrase in intervention_phrases:\n",
    "        df[interventions_col] = df[interventions_col].str.replace(phrase, '')\n",
    "\n",
    "    return df"
   ]
  },
  {
   "cell_type": "code",
   "execution_count": 53,
   "id": "f521d7ab-3af3-40ec-9af7-c4c55641ad8f",
   "metadata": {},
   "outputs": [],
   "source": [
    "def annotate_clean_save(df, gpt_model, prompt_conditions, prompt_drugs, out_file_suffix=\"prompt_v2\"):\n",
    "    conditions_col_name = f'{gpt_model}_predictions_conditions'\n",
    "    interventions_col_name = f'{gpt_model}_predictions_interventions'\n",
    "    \n",
    "    df[f'{gpt_model}_predictions_conditions'] = apply_gpt_with_progress(df['text'], gpt_prompt=prompt_conditions, gpt_model=gpt_model)\n",
    "    df[f'{gpt_model}_predictions_interventions'] = apply_gpt_with_progress(df['text'], gpt_prompt=prompt_drugs, gpt_model=gpt_model)\n",
    "    \n",
    "    ds_annotated_full_copy = df.copy()\n",
    "    cleaned_df = clean_data(ds_annotated_full_copy, conditions_col_name, interventions_col_name)\n",
    "\n",
    "    cleaned_df.to_csv(f\"../predictions/ct_neuro_test_annotated_{gpt_model}_{out_file_suffix}_20240129.csv\")\n",
    "    \n",
    "    return cleaned_df"
   ]
  },
  {
   "cell_type": "code",
   "execution_count": 66,
   "id": "79c83dd8-0ab4-4b93-9926-4516f328804b",
   "metadata": {},
   "outputs": [
    {
     "data": {
      "text/html": [
       "<div>\n",
       "<style scoped>\n",
       "    .dataframe tbody tr th:only-of-type {\n",
       "        vertical-align: middle;\n",
       "    }\n",
       "\n",
       "    .dataframe tbody tr th {\n",
       "        vertical-align: top;\n",
       "    }\n",
       "\n",
       "    .dataframe thead th {\n",
       "        text-align: right;\n",
       "    }\n",
       "</style>\n",
       "<table border=\"1\" class=\"dataframe\">\n",
       "  <thead>\n",
       "    <tr style=\"text-align: right;\">\n",
       "      <th></th>\n",
       "      <th>nct_id</th>\n",
       "      <th>text</th>\n",
       "      <th>gpt-3.5-turbo_predictions_behavioural</th>\n",
       "      <th>gpt-3.5-turbo_predictions_surgical</th>\n",
       "      <th>gpt-3.5-turbo_predictions_radiotherapy</th>\n",
       "      <th>gpt-3.5-turbo_predictions_physical</th>\n",
       "      <th>gpt-3.5-turbo_predictions_other</th>\n",
       "      <th>gpt-3.5-turbo_predictions_control</th>\n",
       "    </tr>\n",
       "  </thead>\n",
       "  <tbody>\n",
       "    <tr>\n",
       "      <th>0</th>\n",
       "      <td>NCT04849741</td>\n",
       "      <td>A Phase 1-3, Double-Blind, Randomized, Placebo...</td>\n",
       "      <td>none</td>\n",
       "      <td>none</td>\n",
       "      <td>none</td>\n",
       "      <td>none</td>\n",
       "      <td>none</td>\n",
       "      <td>The comparator intervention in the provided cl...</td>\n",
       "    </tr>\n",
       "    <tr>\n",
       "      <th>1</th>\n",
       "      <td>NCT04576507</td>\n",
       "      <td>Effects of Repeated Cannabis Administration on...</td>\n",
       "      <td>The behavioral interventions mentioned in the ...</td>\n",
       "      <td>none</td>\n",
       "      <td>none</td>\n",
       "      <td>The physical interventions extracted from the ...</td>\n",
       "      <td>Virtual Reality | Medical massage</td>\n",
       "      <td>The comparators interventions in the clinical ...</td>\n",
       "    </tr>\n",
       "    <tr>\n",
       "      <th>2</th>\n",
       "      <td>NCT00261508</td>\n",
       "      <td>Efficacy And Safety Of Risperidone In The Trea...</td>\n",
       "      <td>none</td>\n",
       "      <td>none</td>\n",
       "      <td>none</td>\n",
       "      <td>none</td>\n",
       "      <td>none</td>\n",
       "      <td>The comparator intervention in the provided cl...</td>\n",
       "    </tr>\n",
       "    <tr>\n",
       "      <th>3</th>\n",
       "      <td>NCT01495923</td>\n",
       "      <td>Randomized, Double-blind, Comparative-effectiv...</td>\n",
       "      <td>The behavioral interventions in the clinical t...</td>\n",
       "      <td>Epidural steroid injections</td>\n",
       "      <td>Epidural steroid injections | Gabapentin</td>\n",
       "      <td>Epidural steroid injections | Gabapentin</td>\n",
       "      <td>Epidural steroid injections | Gabapentin</td>\n",
       "      <td>The comparator interventions in the clinical t...</td>\n",
       "    </tr>\n",
       "    <tr>\n",
       "      <th>4</th>\n",
       "      <td>NCT03150563</td>\n",
       "      <td>Effects of Different Intensities of Passive St...</td>\n",
       "      <td>The behavioral interventions mentioned in the ...</td>\n",
       "      <td>none</td>\n",
       "      <td>none</td>\n",
       "      <td>Passive static stretching is mentioned in the ...</td>\n",
       "      <td>Virtual Reality | none</td>\n",
       "      <td>The comparator interventions in the provided c...</td>\n",
       "    </tr>\n",
       "  </tbody>\n",
       "</table>\n",
       "</div>"
      ],
      "text/plain": [
       "        nct_id                                               text  \\\n",
       "0  NCT04849741  A Phase 1-3, Double-Blind, Randomized, Placebo...   \n",
       "1  NCT04576507  Effects of Repeated Cannabis Administration on...   \n",
       "2  NCT00261508  Efficacy And Safety Of Risperidone In The Trea...   \n",
       "3  NCT01495923  Randomized, Double-blind, Comparative-effectiv...   \n",
       "4  NCT03150563  Effects of Different Intensities of Passive St...   \n",
       "\n",
       "               gpt-3.5-turbo_predictions_behavioural  \\\n",
       "0                                               none   \n",
       "1  The behavioral interventions mentioned in the ...   \n",
       "2                                               none   \n",
       "3  The behavioral interventions in the clinical t...   \n",
       "4  The behavioral interventions mentioned in the ...   \n",
       "\n",
       "  gpt-3.5-turbo_predictions_surgical  \\\n",
       "0                               none   \n",
       "1                               none   \n",
       "2                               none   \n",
       "3        Epidural steroid injections   \n",
       "4                               none   \n",
       "\n",
       "     gpt-3.5-turbo_predictions_radiotherapy  \\\n",
       "0                                      none   \n",
       "1                                      none   \n",
       "2                                      none   \n",
       "3  Epidural steroid injections | Gabapentin   \n",
       "4                                      none   \n",
       "\n",
       "                  gpt-3.5-turbo_predictions_physical  \\\n",
       "0                                               none   \n",
       "1  The physical interventions extracted from the ...   \n",
       "2                                               none   \n",
       "3           Epidural steroid injections | Gabapentin   \n",
       "4  Passive static stretching is mentioned in the ...   \n",
       "\n",
       "            gpt-3.5-turbo_predictions_other  \\\n",
       "0                                      none   \n",
       "1         Virtual Reality | Medical massage   \n",
       "2                                      none   \n",
       "3  Epidural steroid injections | Gabapentin   \n",
       "4                    Virtual Reality | none   \n",
       "\n",
       "                   gpt-3.5-turbo_predictions_control  \n",
       "0  The comparator intervention in the provided cl...  \n",
       "1  The comparators interventions in the clinical ...  \n",
       "2  The comparator intervention in the provided cl...  \n",
       "3  The comparator interventions in the clinical t...  \n",
       "4  The comparator interventions in the provided c...  "
      ]
     },
     "execution_count": 66,
     "metadata": {},
     "output_type": "execute_result"
    }
   ],
   "source": [
    "ds_annotated_full.head()"
   ]
  },
  {
   "cell_type": "markdown",
   "id": "dcc91a54-8a4c-4879-b87e-c6d45a59d19a",
   "metadata": {},
   "source": [
    "### gpt-3.5-turbo"
   ]
  },
  {
   "cell_type": "code",
   "execution_count": 37,
   "id": "2b85e674-9781-45a5-9fd4-643ad71fd7e7",
   "metadata": {},
   "outputs": [
    {
     "data": {
      "text/plain": [
       "'Extract the investigated disease names and related symptoms from the following clinical trial. Return them in a single list separated with the | symbol. If none is found, return only the word none: '"
      ]
     },
     "execution_count": 37,
     "metadata": {},
     "output_type": "execute_result"
    }
   ],
   "source": [
    "conditions_prompt_v1"
   ]
  },
  {
   "cell_type": "code",
   "execution_count": 38,
   "id": "de5c19f1-7ff5-4566-a757-98520380b54d",
   "metadata": {},
   "outputs": [
    {
     "data": {
      "text/plain": [
       "'Extract the drug names from the following clinical trial and return them in a list separated with the | symbol. If none is found, return only the word none.: '"
      ]
     },
     "execution_count": 38,
     "metadata": {},
     "output_type": "execute_result"
    }
   ],
   "source": [
    "interventions_prompt_v1"
   ]
  },
  {
   "cell_type": "code",
   "execution_count": 20,
   "id": "62789be2-65b1-44c6-935c-6ad021159113",
   "metadata": {},
   "outputs": [
    {
     "name": "stderr",
     "output_type": "stream",
     "text": [
      "Processing Extract the investigated disease names and related symptoms from the following clinical trial. Return them in a single list separated with the | symbol. If none is found, return only the word none:  with gpt-3.5-t\n",
      "Processing Extract the drug names from the following clinical trial and return them in a list separated with the | symbol. If none is found, return only the word none.:  with gpt-3.5-turbo: 100%|█| 90/90 [06:36<00:00,  4.41s\n"
     ]
    }
   ],
   "source": [
    "annotations_gpt_3_5 = annotate_clean_save(ds_annotated_full.copy(), \"gpt-3.5-turbo\", conditions_prompt_v1, interventions_prompt_v1, out_file_suffix=\"prompt_v1\")"
   ]
  },
  {
   "cell_type": "code",
   "execution_count": 39,
   "id": "7f834f0f-b35c-4254-96be-973db44f0d03",
   "metadata": {},
   "outputs": [
    {
     "data": {
      "text/plain": [
       "\"Examine the clinical trial document within the triple quotes. Identify and list only the names of diseases and related symptoms under investigation. Format this list with each name or symptom separated by the '|' symbol, omitting any additional descriptions or text. Exclude diseases and symptoms that are only mentioned but not investigated. If there are no diseases or symptoms actively investigated, answer with 'none'. The response should strictly contain the list of names and symptoms.\""
      ]
     },
     "execution_count": 39,
     "metadata": {},
     "output_type": "execute_result"
    }
   ],
   "source": [
    "conditions_prompt_v2"
   ]
  },
  {
   "cell_type": "code",
   "execution_count": 40,
   "id": "127e09f7-d55b-4d4b-8184-e294e77a4b28",
   "metadata": {},
   "outputs": [
    {
     "data": {
      "text/plain": [
       "\"Review the clinical trial document enclosed within triple quotes. Extract only the names of drugs that are actively being investigated in the trial. List these names separated by the '|' symbol without any additional text or explanation. Exclude drugs merely mentioned and not under investigation. If there are no drugs actively investigated, simply respond with 'none'. Focus solely on the drug names for clarity and precision.\""
      ]
     },
     "execution_count": 40,
     "metadata": {},
     "output_type": "execute_result"
    }
   ],
   "source": [
    "interventions_prompt_v2"
   ]
  },
  {
   "cell_type": "code",
   "execution_count": 23,
   "id": "461f7f9f-64c2-44cd-a2da-b299f4a3420f",
   "metadata": {},
   "outputs": [
    {
     "name": "stderr",
     "output_type": "stream",
     "text": [
      "Processing Examine the clinical trial document within the triple quotes. Identify and list only the names of diseases and related symptoms under investigation. Format this list with each name or symptom separated by the '|' \n",
      "Processing Review the clinical trial document enclosed within triple quotes. Extract only the names of drugs that are actively being investigated in the trial. List these names separated by the '|' symbol without any additio\n"
     ]
    }
   ],
   "source": [
    "annotations_gpt_3_5 = annotate_clean_save(ds_annotated_full.copy(), \"gpt-3.5-turbo\", conditions_prompt_v2, interventions_prompt_v2, out_file_suffix=\"prompt_v2\")"
   ]
  },
  {
   "cell_type": "markdown",
   "id": "01127cbc-c33f-4c5b-8a7f-a20610193061",
   "metadata": {},
   "source": [
    "### gpt-4"
   ]
  },
  {
   "cell_type": "code",
   "execution_count": 22,
   "id": "9fdc6dba-4a00-4c15-9256-459cca541ce9",
   "metadata": {},
   "outputs": [
    {
     "name": "stderr",
     "output_type": "stream",
     "text": [
      "Processing Extract the investigated disease names and related symptoms from the following clinical trial. Return them in a single list separated with the | symbol. If none is found, return only the word none:  with gpt-4: 10\n",
      "Processing Extract the drug names from the following clinical trial and return them in a list separated with the | symbol. If none is found, return only the word none.:  with gpt-4: 100%|█████| 90/90 [05:45<00:00,  3.84s/it]\n"
     ]
    }
   ],
   "source": [
    "annotations_gpt_4 = annotate_clean_save(ds_annotated_full.copy(), \"gpt-4\", conditions_prompt_v1, interventions_prompt_v1, out_file_suffix=\"prompt_v1\")"
   ]
  },
  {
   "cell_type": "code",
   "execution_count": 24,
   "id": "00146bfb-9f7a-45a6-bc1e-57c00f86be98",
   "metadata": {},
   "outputs": [
    {
     "name": "stderr",
     "output_type": "stream",
     "text": [
      "Processing Examine the clinical trial document within the triple quotes. Identify and list only the names of diseases and related symptoms under investigation. Format this list with each name or symptom separated by the '|' \n",
      "Processing Review the clinical trial document enclosed within triple quotes. Extract only the names of drugs that are actively being investigated in the trial. List these names separated by the '|' symbol without any additio\n"
     ]
    }
   ],
   "source": [
    "annotations_gpt_4 = annotate_clean_save(ds_annotated_full.copy(), \"gpt-4\", conditions_prompt_v2, interventions_prompt_v2, out_file_suffix=\"prompt_v2\")"
   ]
  },
  {
   "cell_type": "code",
   "execution_count": 31,
   "id": "2a319570-d8a5-490f-be25-b64d8ca0c07a",
   "metadata": {},
   "outputs": [],
   "source": [
    "gpt_model = \"gpt-4\"\n",
    "out_file_suffix = \"prompt_v2\"\n",
    "gpt_4 = pd.read_csv(f\"../predictions/ct_neuro_test_annotated_{gpt_model}_{out_file_suffix}_20240129.csv\")"
   ]
  },
  {
   "cell_type": "code",
   "execution_count": 32,
   "id": "ff4c3160-2947-4b64-9c4e-482a5164243f",
   "metadata": {},
   "outputs": [
    {
     "data": {
      "text/html": [
       "<div>\n",
       "<style scoped>\n",
       "    .dataframe tbody tr th:only-of-type {\n",
       "        vertical-align: middle;\n",
       "    }\n",
       "\n",
       "    .dataframe tbody tr th {\n",
       "        vertical-align: top;\n",
       "    }\n",
       "\n",
       "    .dataframe thead th {\n",
       "        text-align: right;\n",
       "    }\n",
       "</style>\n",
       "<table border=\"1\" class=\"dataframe\">\n",
       "  <thead>\n",
       "    <tr style=\"text-align: right;\">\n",
       "      <th></th>\n",
       "      <th>Unnamed: 0</th>\n",
       "      <th>nct_id</th>\n",
       "      <th>text</th>\n",
       "      <th>gpt-4_predictions_conditions</th>\n",
       "      <th>gpt-4_predictions_interventions</th>\n",
       "    </tr>\n",
       "  </thead>\n",
       "  <tbody>\n",
       "    <tr>\n",
       "      <th>0</th>\n",
       "      <td>0</td>\n",
       "      <td>NCT04849741</td>\n",
       "      <td>A Phase 1-3, Double-Blind, Randomized, Placebo...</td>\n",
       "      <td>Alexander Disease | gross motor function</td>\n",
       "      <td>ION373</td>\n",
       "    </tr>\n",
       "    <tr>\n",
       "      <th>1</th>\n",
       "      <td>1</td>\n",
       "      <td>NCT04576507</td>\n",
       "      <td>Effects of Repeated Cannabis Administration on...</td>\n",
       "      <td>Chronic pain|opioid use disorders|hyperalgesia</td>\n",
       "      <td>Cannabis | delta-9-tetrahydrocannabinol (THC) ...</td>\n",
       "    </tr>\n",
       "    <tr>\n",
       "      <th>2</th>\n",
       "      <td>2</td>\n",
       "      <td>NCT00261508</td>\n",
       "      <td>Efficacy And Safety Of Risperidone In The Trea...</td>\n",
       "      <td>Autistic Disorder|Pervasive Developmental Diso...</td>\n",
       "      <td>Risperidone</td>\n",
       "    </tr>\n",
       "    <tr>\n",
       "      <th>3</th>\n",
       "      <td>3</td>\n",
       "      <td>NCT01495923</td>\n",
       "      <td>Randomized, Double-blind, Comparative-effectiv...</td>\n",
       "      <td>Lumbosacral Radiculopathy | Lumbosacral Radicu...</td>\n",
       "      <td>Epidural Steroid Injections|Gabapentin</td>\n",
       "    </tr>\n",
       "    <tr>\n",
       "      <th>4</th>\n",
       "      <td>4</td>\n",
       "      <td>NCT03150563</td>\n",
       "      <td>Effects of Different Intensities of Passive St...</td>\n",
       "      <td>none</td>\n",
       "      <td>none</td>\n",
       "    </tr>\n",
       "    <tr>\n",
       "      <th>...</th>\n",
       "      <td>...</td>\n",
       "      <td>...</td>\n",
       "      <td>...</td>\n",
       "      <td>...</td>\n",
       "      <td>...</td>\n",
       "    </tr>\n",
       "    <tr>\n",
       "      <th>85</th>\n",
       "      <td>85</td>\n",
       "      <td>NCT03755362</td>\n",
       "      <td>Treatment of Periodontitis to Prevent Dementia...</td>\n",
       "      <td>Periodontitis | Dementia | Asymptomatic Caroti...</td>\n",
       "      <td>none</td>\n",
       "    </tr>\n",
       "    <tr>\n",
       "      <th>86</th>\n",
       "      <td>86</td>\n",
       "      <td>NCT00506415</td>\n",
       "      <td>A 48-Week, Multicenter, Randomized, Double-Bli...</td>\n",
       "      <td>Alzheimer's Disease | Functional Decline | Cog...</td>\n",
       "      <td>Exelon | rivastigmine patch</td>\n",
       "    </tr>\n",
       "    <tr>\n",
       "      <th>87</th>\n",
       "      <td>87</td>\n",
       "      <td>NCT01344447</td>\n",
       "      <td>Multicenter, Open-label Study to Evaluate the ...</td>\n",
       "      <td>\"Vascular Disease of the Supra-aortic Vessels\"</td>\n",
       "      <td>Gadobutrol</td>\n",
       "    </tr>\n",
       "    <tr>\n",
       "      <th>88</th>\n",
       "      <td>88</td>\n",
       "      <td>NCT04184206</td>\n",
       "      <td>Effects of Attention Training Interventions on...</td>\n",
       "      <td>Depression | Major depressive disorder</td>\n",
       "      <td>none</td>\n",
       "    </tr>\n",
       "    <tr>\n",
       "      <th>89</th>\n",
       "      <td>89</td>\n",
       "      <td>NCT03540602</td>\n",
       "      <td>Polyphenol Rich Supplementation on Markers of ...</td>\n",
       "      <td>none</td>\n",
       "      <td>Polyphenol Rich Supplementation</td>\n",
       "    </tr>\n",
       "  </tbody>\n",
       "</table>\n",
       "<p>90 rows × 5 columns</p>\n",
       "</div>"
      ],
      "text/plain": [
       "    Unnamed: 0       nct_id  \\\n",
       "0            0  NCT04849741   \n",
       "1            1  NCT04576507   \n",
       "2            2  NCT00261508   \n",
       "3            3  NCT01495923   \n",
       "4            4  NCT03150563   \n",
       "..         ...          ...   \n",
       "85          85  NCT03755362   \n",
       "86          86  NCT00506415   \n",
       "87          87  NCT01344447   \n",
       "88          88  NCT04184206   \n",
       "89          89  NCT03540602   \n",
       "\n",
       "                                                 text  \\\n",
       "0   A Phase 1-3, Double-Blind, Randomized, Placebo...   \n",
       "1   Effects of Repeated Cannabis Administration on...   \n",
       "2   Efficacy And Safety Of Risperidone In The Trea...   \n",
       "3   Randomized, Double-blind, Comparative-effectiv...   \n",
       "4   Effects of Different Intensities of Passive St...   \n",
       "..                                                ...   \n",
       "85  Treatment of Periodontitis to Prevent Dementia...   \n",
       "86  A 48-Week, Multicenter, Randomized, Double-Bli...   \n",
       "87  Multicenter, Open-label Study to Evaluate the ...   \n",
       "88  Effects of Attention Training Interventions on...   \n",
       "89  Polyphenol Rich Supplementation on Markers of ...   \n",
       "\n",
       "                         gpt-4_predictions_conditions  \\\n",
       "0            Alexander Disease | gross motor function   \n",
       "1      Chronic pain|opioid use disorders|hyperalgesia   \n",
       "2   Autistic Disorder|Pervasive Developmental Diso...   \n",
       "3   Lumbosacral Radiculopathy | Lumbosacral Radicu...   \n",
       "4                                                none   \n",
       "..                                                ...   \n",
       "85  Periodontitis | Dementia | Asymptomatic Caroti...   \n",
       "86  Alzheimer's Disease | Functional Decline | Cog...   \n",
       "87     \"Vascular Disease of the Supra-aortic Vessels\"   \n",
       "88             Depression | Major depressive disorder   \n",
       "89                                               none   \n",
       "\n",
       "                      gpt-4_predictions_interventions  \n",
       "0                                              ION373  \n",
       "1   Cannabis | delta-9-tetrahydrocannabinol (THC) ...  \n",
       "2                                         Risperidone  \n",
       "3              Epidural Steroid Injections|Gabapentin  \n",
       "4                                                none  \n",
       "..                                                ...  \n",
       "85                                               none  \n",
       "86                        Exelon | rivastigmine patch  \n",
       "87                                         Gadobutrol  \n",
       "88                                               none  \n",
       "89                    Polyphenol Rich Supplementation  \n",
       "\n",
       "[90 rows x 5 columns]"
      ]
     },
     "execution_count": 32,
     "metadata": {},
     "output_type": "execute_result"
    }
   ],
   "source": [
    "gpt_4"
   ]
  },
  {
   "cell_type": "code",
   "execution_count": 35,
   "id": "2bd23d7c-74ca-4c27-a485-862eecae9c99",
   "metadata": {},
   "outputs": [
    {
     "data": {
      "text/html": [
       "<div>\n",
       "<style scoped>\n",
       "    .dataframe tbody tr th:only-of-type {\n",
       "        vertical-align: middle;\n",
       "    }\n",
       "\n",
       "    .dataframe tbody tr th {\n",
       "        vertical-align: top;\n",
       "    }\n",
       "\n",
       "    .dataframe thead th {\n",
       "        text-align: right;\n",
       "    }\n",
       "</style>\n",
       "<table border=\"1\" class=\"dataframe\">\n",
       "  <thead>\n",
       "    <tr style=\"text-align: right;\">\n",
       "      <th></th>\n",
       "      <th>Unnamed: 0</th>\n",
       "      <th>nct_id</th>\n",
       "      <th>text</th>\n",
       "      <th>gpt-4_predictions_conditions</th>\n",
       "      <th>gpt-4_predictions_interventions</th>\n",
       "    </tr>\n",
       "  </thead>\n",
       "  <tbody>\n",
       "    <tr>\n",
       "      <th>0</th>\n",
       "      <td>0</td>\n",
       "      <td>NCT04849741</td>\n",
       "      <td>A Phase 1-3, Double-Blind, Randomized, Placebo...</td>\n",
       "      <td>Alexander Disease | gross motor function</td>\n",
       "      <td>ION373</td>\n",
       "    </tr>\n",
       "    <tr>\n",
       "      <th>1</th>\n",
       "      <td>1</td>\n",
       "      <td>NCT04576507</td>\n",
       "      <td>Effects of Repeated Cannabis Administration on...</td>\n",
       "      <td>Chronic pain|opioid use disorders|hyperalgesia</td>\n",
       "      <td>Cannabis | delta-9-tetrahydrocannabinol (THC) ...</td>\n",
       "    </tr>\n",
       "    <tr>\n",
       "      <th>2</th>\n",
       "      <td>2</td>\n",
       "      <td>NCT00261508</td>\n",
       "      <td>Efficacy And Safety Of Risperidone In The Trea...</td>\n",
       "      <td>Autistic Disorder|Pervasive Developmental Diso...</td>\n",
       "      <td>Risperidone</td>\n",
       "    </tr>\n",
       "    <tr>\n",
       "      <th>3</th>\n",
       "      <td>3</td>\n",
       "      <td>NCT01495923</td>\n",
       "      <td>Randomized, Double-blind, Comparative-effectiv...</td>\n",
       "      <td>Lumbosacral Radiculopathy | Lumbosacral Radicu...</td>\n",
       "      <td>Epidural Steroid Injections|Gabapentin</td>\n",
       "    </tr>\n",
       "    <tr>\n",
       "      <th>4</th>\n",
       "      <td>4</td>\n",
       "      <td>NCT03150563</td>\n",
       "      <td>Effects of Different Intensities of Passive St...</td>\n",
       "      <td>none</td>\n",
       "      <td>none</td>\n",
       "    </tr>\n",
       "    <tr>\n",
       "      <th>...</th>\n",
       "      <td>...</td>\n",
       "      <td>...</td>\n",
       "      <td>...</td>\n",
       "      <td>...</td>\n",
       "      <td>...</td>\n",
       "    </tr>\n",
       "    <tr>\n",
       "      <th>85</th>\n",
       "      <td>85</td>\n",
       "      <td>NCT03755362</td>\n",
       "      <td>Treatment of Periodontitis to Prevent Dementia...</td>\n",
       "      <td>Periodontitis | Dementia | Asymptomatic Caroti...</td>\n",
       "      <td>none</td>\n",
       "    </tr>\n",
       "    <tr>\n",
       "      <th>86</th>\n",
       "      <td>86</td>\n",
       "      <td>NCT00506415</td>\n",
       "      <td>A 48-Week, Multicenter, Randomized, Double-Bli...</td>\n",
       "      <td>Alzheimer's Disease | Functional Decline | Cog...</td>\n",
       "      <td>Exelon | rivastigmine patch</td>\n",
       "    </tr>\n",
       "    <tr>\n",
       "      <th>87</th>\n",
       "      <td>87</td>\n",
       "      <td>NCT01344447</td>\n",
       "      <td>Multicenter, Open-label Study to Evaluate the ...</td>\n",
       "      <td>Vascular Disease of the Supra-aortic Vessels</td>\n",
       "      <td>Gadobutrol</td>\n",
       "    </tr>\n",
       "    <tr>\n",
       "      <th>88</th>\n",
       "      <td>88</td>\n",
       "      <td>NCT04184206</td>\n",
       "      <td>Effects of Attention Training Interventions on...</td>\n",
       "      <td>Depression | Major depressive disorder</td>\n",
       "      <td>none</td>\n",
       "    </tr>\n",
       "    <tr>\n",
       "      <th>89</th>\n",
       "      <td>89</td>\n",
       "      <td>NCT03540602</td>\n",
       "      <td>Polyphenol Rich Supplementation on Markers of ...</td>\n",
       "      <td>none</td>\n",
       "      <td>Polyphenol Rich Supplementation</td>\n",
       "    </tr>\n",
       "  </tbody>\n",
       "</table>\n",
       "<p>90 rows × 5 columns</p>\n",
       "</div>"
      ],
      "text/plain": [
       "    Unnamed: 0       nct_id  \\\n",
       "0            0  NCT04849741   \n",
       "1            1  NCT04576507   \n",
       "2            2  NCT00261508   \n",
       "3            3  NCT01495923   \n",
       "4            4  NCT03150563   \n",
       "..         ...          ...   \n",
       "85          85  NCT03755362   \n",
       "86          86  NCT00506415   \n",
       "87          87  NCT01344447   \n",
       "88          88  NCT04184206   \n",
       "89          89  NCT03540602   \n",
       "\n",
       "                                                 text  \\\n",
       "0   A Phase 1-3, Double-Blind, Randomized, Placebo...   \n",
       "1   Effects of Repeated Cannabis Administration on...   \n",
       "2   Efficacy And Safety Of Risperidone In The Trea...   \n",
       "3   Randomized, Double-blind, Comparative-effectiv...   \n",
       "4   Effects of Different Intensities of Passive St...   \n",
       "..                                                ...   \n",
       "85  Treatment of Periodontitis to Prevent Dementia...   \n",
       "86  A 48-Week, Multicenter, Randomized, Double-Bli...   \n",
       "87  Multicenter, Open-label Study to Evaluate the ...   \n",
       "88  Effects of Attention Training Interventions on...   \n",
       "89  Polyphenol Rich Supplementation on Markers of ...   \n",
       "\n",
       "                         gpt-4_predictions_conditions  \\\n",
       "0            Alexander Disease | gross motor function   \n",
       "1      Chronic pain|opioid use disorders|hyperalgesia   \n",
       "2   Autistic Disorder|Pervasive Developmental Diso...   \n",
       "3   Lumbosacral Radiculopathy | Lumbosacral Radicu...   \n",
       "4                                                none   \n",
       "..                                                ...   \n",
       "85  Periodontitis | Dementia | Asymptomatic Caroti...   \n",
       "86  Alzheimer's Disease | Functional Decline | Cog...   \n",
       "87       Vascular Disease of the Supra-aortic Vessels   \n",
       "88             Depression | Major depressive disorder   \n",
       "89                                               none   \n",
       "\n",
       "                      gpt-4_predictions_interventions  \n",
       "0                                              ION373  \n",
       "1   Cannabis | delta-9-tetrahydrocannabinol (THC) ...  \n",
       "2                                         Risperidone  \n",
       "3              Epidural Steroid Injections|Gabapentin  \n",
       "4                                                none  \n",
       "..                                                ...  \n",
       "85                                               none  \n",
       "86                        Exelon | rivastigmine patch  \n",
       "87                                         Gadobutrol  \n",
       "88                                               none  \n",
       "89                    Polyphenol Rich Supplementation  \n",
       "\n",
       "[90 rows x 5 columns]"
      ]
     },
     "execution_count": 35,
     "metadata": {},
     "output_type": "execute_result"
    }
   ],
   "source": [
    "# Removing quotation marks that surround text values\n",
    "gpt_4['gpt-4_predictions_conditions'] = gpt_4['gpt-4_predictions_conditions'].str.replace('^\"|\"$', '', regex=True)\n",
    "gpt_4['gpt-4_predictions_conditions'] = gpt_4['gpt-4_predictions_conditions'].str.replace('^[\"\\']|[\"\\']$', '', regex=True)\n",
    "\n",
    "# Display the modified DataFrame\n",
    "gpt_4"
   ]
  },
  {
   "cell_type": "code",
   "execution_count": 36,
   "id": "b0422daf-eaaa-416a-a2e2-7b7b6bc0eab2",
   "metadata": {},
   "outputs": [],
   "source": [
    "gpt_4.to_csv(f\"../predictions/ct_neuro_test_annotated_{gpt_model}_{out_file_suffix}_20240129.csv\")"
   ]
  },
  {
   "cell_type": "markdown",
   "id": "ea0afbdd-64d7-467a-9d1a-d21db7f65e71",
   "metadata": {},
   "source": [
    "## Rebuttal April 2024\n",
    "- include all entity types"
   ]
  },
  {
   "cell_type": "markdown",
   "id": "323f3578-cc8b-47ee-a47b-ae2e26202287",
   "metadata": {},
   "source": [
    "### predictions with GPT for the remaining entities"
   ]
  },
  {
   "cell_type": "code",
   "execution_count": 68,
   "id": "6e0b62ca-ab89-4257-97c7-36d3ec714a9a",
   "metadata": {},
   "outputs": [
    {
     "data": {
      "text/html": [
       "<div>\n",
       "<style scoped>\n",
       "    .dataframe tbody tr th:only-of-type {\n",
       "        vertical-align: middle;\n",
       "    }\n",
       "\n",
       "    .dataframe tbody tr th {\n",
       "        vertical-align: top;\n",
       "    }\n",
       "\n",
       "    .dataframe thead th {\n",
       "        text-align: right;\n",
       "    }\n",
       "</style>\n",
       "<table border=\"1\" class=\"dataframe\">\n",
       "  <thead>\n",
       "    <tr style=\"text-align: right;\">\n",
       "      <th></th>\n",
       "      <th>nct_id</th>\n",
       "      <th>text</th>\n",
       "    </tr>\n",
       "  </thead>\n",
       "  <tbody>\n",
       "    <tr>\n",
       "      <th>0</th>\n",
       "      <td>NCT04849741</td>\n",
       "      <td>A Phase 1-3, Double-Blind, Randomized, Placebo...</td>\n",
       "    </tr>\n",
       "    <tr>\n",
       "      <th>1</th>\n",
       "      <td>NCT04576507</td>\n",
       "      <td>Effects of Repeated Cannabis Administration on...</td>\n",
       "    </tr>\n",
       "    <tr>\n",
       "      <th>2</th>\n",
       "      <td>NCT00261508</td>\n",
       "      <td>Efficacy And Safety Of Risperidone In The Trea...</td>\n",
       "    </tr>\n",
       "    <tr>\n",
       "      <th>3</th>\n",
       "      <td>NCT01495923</td>\n",
       "      <td>Randomized, Double-blind, Comparative-effectiv...</td>\n",
       "    </tr>\n",
       "    <tr>\n",
       "      <th>4</th>\n",
       "      <td>NCT03150563</td>\n",
       "      <td>Effects of Different Intensities of Passive St...</td>\n",
       "    </tr>\n",
       "  </tbody>\n",
       "</table>\n",
       "</div>"
      ],
      "text/plain": [
       "        nct_id                                               text\n",
       "0  NCT04849741  A Phase 1-3, Double-Blind, Randomized, Placebo...\n",
       "1  NCT04576507  Effects of Repeated Cannabis Administration on...\n",
       "2  NCT00261508  Efficacy And Safety Of Risperidone In The Trea...\n",
       "3  NCT01495923  Randomized, Double-blind, Comparative-effectiv...\n",
       "4  NCT03150563  Effects of Different Intensities of Passive St..."
      ]
     },
     "execution_count": 68,
     "metadata": {},
     "output_type": "execute_result"
    }
   ],
   "source": [
    "ds_annotated_full.head()"
   ]
  },
  {
   "cell_type": "code",
   "execution_count": 75,
   "id": "c859f890-bf14-44e7-b4ee-ec3181437b66",
   "metadata": {},
   "outputs": [],
   "source": [
    "behavioural_prompt = \"Extract the therapeutic behavioural interventions from the following clinical trial and return them in a list separated with the | symbol. If none is found, return only the word none.\"\n",
    "surgical_prompt = \"Extract the surgical interventions from the following clinical trial and return them in a list separated with the | symbol. If none is found, return only the word none.\"\n",
    "radiotherapy_prompt = \"Extract the radiotherapy interventions from the following clinical trial and return them in a list separated with the | symbol. If none is found, return only the word none.\"\n",
    "physical_prompt = \"Extract the therapeutic physcial interventions from the following clinical trial and return them in a list separated with the | symbol. If none is found, return only the word none.\"\n",
    "other_prompt = \"Extract any other therapeutic interventions from the following clinical trial, which are not behavioural, surgical, radiotherapy or physical. Return them in a list separated with the | symbol. If none is found, return only the word none.\"\n",
    "control_prompt = \"Extract the comparator interventions from the following clinical trial and return them in a list separated with the | symbol. If none is found, return only the word none.\"\n"
   ]
  },
  {
   "cell_type": "code",
   "execution_count": 76,
   "id": "52799326-a432-4fce-ac4f-da7bcd2278ae",
   "metadata": {},
   "outputs": [],
   "source": [
    "prompt_list = [behavioural_prompt, surgical_prompt, radiotherapy_prompt, physical_prompt, other_prompt, control_prompt]\n",
    "prompt_types_list = [\"behavioural\", \"surgical\", \"radiotherapy\", \"physical\", \"other\", \"control\"]"
   ]
  },
  {
   "cell_type": "code",
   "execution_count": 77,
   "id": "aa79288a-0b02-4cfb-8d24-ab5a6fdad5d7",
   "metadata": {},
   "outputs": [],
   "source": [
    "def annotate_clean_save(df, gpt_model, prompt, prompt_type, out_file_suffix=\"prompt_v2\"):\n",
    "    predictions_col_name = f'{gpt_model}_predictions_{prompt_type}'\n",
    "    \n",
    "    df[predictions_col_name] = apply_gpt_with_progress(df['text'], gpt_prompt=prompt, gpt_model=gpt_model)\n",
    "    \n",
    "    #ds_annotated_full_copy = df.copy()\n",
    "    #cleaned_df = clean_data(ds_annotated_full_copy, conditions_col_name, interventions_col_name)\n",
    "    df_to_save = df[['nct_id', 'text', predictions_col_name]]\n",
    "    df_to_save.to_csv(f\"../predictions/rebuttal/ct_neuro_test_annotated_{gpt_model}_{prompt_type}_20240408.csv\")\n",
    "    \n",
    "    return df"
   ]
  },
  {
   "cell_type": "code",
   "execution_count": 78,
   "id": "eb389426-4402-403a-8ced-8e9bd759ff31",
   "metadata": {},
   "outputs": [
    {
     "name": "stdout",
     "output_type": "stream",
     "text": [
      "Processing behavioural prompt...\n"
     ]
    },
    {
     "name": "stderr",
     "output_type": "stream",
     "text": [
      "Processing Extract the therapeutic behavioural interventions from the following clinical trial and return them in a list separated with the | symbol. If none is found, return only the word none. with gpt-3.5-turbo: 100%|█| 90/90 [05:58<00:0\n"
     ]
    },
    {
     "name": "stdout",
     "output_type": "stream",
     "text": [
      "Completed behavioural prompt.\n",
      "Processing surgical prompt...\n"
     ]
    },
    {
     "name": "stderr",
     "output_type": "stream",
     "text": [
      "Processing Extract the surgical interventions from the following clinical trial and return them in a list separated with the | symbol. If none is found, return only the word none. with gpt-3.5-turbo: 100%|███| 90/90 [05:43<00:00,  3.81s/it]\n"
     ]
    },
    {
     "name": "stdout",
     "output_type": "stream",
     "text": [
      "Completed surgical prompt.\n",
      "Processing radiotherapy prompt...\n"
     ]
    },
    {
     "name": "stderr",
     "output_type": "stream",
     "text": [
      "Processing Extract the radiotherapy interventions from the following clinical trial and return them in a list separated with the | symbol. If none is found, return only the word none. with gpt-3.5-turbo: 100%|█| 90/90 [05:24<00:00,  3.60s/i\n"
     ]
    },
    {
     "name": "stdout",
     "output_type": "stream",
     "text": [
      "Completed radiotherapy prompt.\n",
      "Processing physical prompt...\n"
     ]
    },
    {
     "name": "stderr",
     "output_type": "stream",
     "text": [
      "Processing Extract the therapeutic physcial interventions from the following clinical trial and return them in a list separated with the | symbol. If none is found, return only the word none. with gpt-3.5-turbo: 100%|█| 90/90 [05:39<00:00, \n"
     ]
    },
    {
     "name": "stdout",
     "output_type": "stream",
     "text": [
      "Completed physical prompt.\n",
      "Processing other prompt...\n"
     ]
    },
    {
     "name": "stderr",
     "output_type": "stream",
     "text": [
      "Processing Extract any other therapeutic interventions from the following clinical trial, which are not behavioural, surgical, radiotherapy or physical. Return them in a list separated with the | symbol. If none is found, return only the wo\n"
     ]
    },
    {
     "name": "stdout",
     "output_type": "stream",
     "text": [
      "Completed other prompt.\n",
      "Processing control prompt...\n"
     ]
    },
    {
     "name": "stderr",
     "output_type": "stream",
     "text": [
      "Processing Extract the comparator interventions from the following clinical trial and return them in a list separated with the | symbol. If none is found, return only the word none. with gpt-3.5-turbo: 100%|█| 90/90 [05:51<00:00,  3.90s/it]"
     ]
    },
    {
     "name": "stdout",
     "output_type": "stream",
     "text": [
      "Completed control prompt.\n"
     ]
    },
    {
     "name": "stderr",
     "output_type": "stream",
     "text": [
      "\n"
     ]
    }
   ],
   "source": [
    "gpt_model = \"gpt-3.5-turbo\"\n",
    "for prompt, prompt_type in zip(prompt_list, prompt_types_list):\n",
    "    print(f\"Processing {prompt_type} prompt...\")\n",
    "    annotated_df = annotate_clean_save(ds_annotated_full, gpt_model, prompt, prompt_type)\n",
    "    print(f\"Completed {prompt_type} prompt.\")\n",
    "annotated_df.to_csv(f\"../predictions/rebuttal/ct_neuro_test_annotated_{gpt_model}_additional_types_20240408.csv\")"
   ]
  },
  {
   "cell_type": "code",
   "execution_count": 79,
   "id": "c252c705-3f05-447d-89da-d806a310f3d9",
   "metadata": {},
   "outputs": [
    {
     "data": {
      "text/html": [
       "<div>\n",
       "<style scoped>\n",
       "    .dataframe tbody tr th:only-of-type {\n",
       "        vertical-align: middle;\n",
       "    }\n",
       "\n",
       "    .dataframe tbody tr th {\n",
       "        vertical-align: top;\n",
       "    }\n",
       "\n",
       "    .dataframe thead th {\n",
       "        text-align: right;\n",
       "    }\n",
       "</style>\n",
       "<table border=\"1\" class=\"dataframe\">\n",
       "  <thead>\n",
       "    <tr style=\"text-align: right;\">\n",
       "      <th></th>\n",
       "      <th>nct_id</th>\n",
       "      <th>text</th>\n",
       "    </tr>\n",
       "  </thead>\n",
       "  <tbody>\n",
       "    <tr>\n",
       "      <th>0</th>\n",
       "      <td>NCT04849741</td>\n",
       "      <td>A Phase 1-3, Double-Blind, Randomized, Placebo...</td>\n",
       "    </tr>\n",
       "    <tr>\n",
       "      <th>1</th>\n",
       "      <td>NCT04576507</td>\n",
       "      <td>Effects of Repeated Cannabis Administration on...</td>\n",
       "    </tr>\n",
       "    <tr>\n",
       "      <th>2</th>\n",
       "      <td>NCT00261508</td>\n",
       "      <td>Efficacy And Safety Of Risperidone In The Trea...</td>\n",
       "    </tr>\n",
       "    <tr>\n",
       "      <th>3</th>\n",
       "      <td>NCT01495923</td>\n",
       "      <td>Randomized, Double-blind, Comparative-effectiv...</td>\n",
       "    </tr>\n",
       "    <tr>\n",
       "      <th>4</th>\n",
       "      <td>NCT03150563</td>\n",
       "      <td>Effects of Different Intensities of Passive St...</td>\n",
       "    </tr>\n",
       "  </tbody>\n",
       "</table>\n",
       "</div>"
      ],
      "text/plain": [
       "        nct_id                                               text\n",
       "0  NCT04849741  A Phase 1-3, Double-Blind, Randomized, Placebo...\n",
       "1  NCT04576507  Effects of Repeated Cannabis Administration on...\n",
       "2  NCT00261508  Efficacy And Safety Of Risperidone In The Trea...\n",
       "3  NCT01495923  Randomized, Double-blind, Comparative-effectiv...\n",
       "4  NCT03150563  Effects of Different Intensities of Passive St..."
      ]
     },
     "execution_count": 79,
     "metadata": {},
     "output_type": "execute_result"
    }
   ],
   "source": [
    "ds_annotated_full = pd.read_csv(\"../../data/annotated_data/data_splits/ct_neuro_test_merged_90.csv\")[['nct_id','text']]\n",
    "ds_annotated_full.head()"
   ]
  },
  {
   "cell_type": "code",
   "execution_count": 81,
   "id": "a7fda821-56b7-4984-bfb8-e16a37240a1f",
   "metadata": {},
   "outputs": [],
   "source": [
    "prompt_list = [other_prompt, control_prompt]\n",
    "prompt_types_list = [\"other\", \"control\"]"
   ]
  },
  {
   "cell_type": "code",
   "execution_count": 82,
   "id": "89b5499c-87d5-4658-8119-f50c9800f214",
   "metadata": {},
   "outputs": [
    {
     "name": "stdout",
     "output_type": "stream",
     "text": [
      "Processing other prompt...\n"
     ]
    },
    {
     "name": "stderr",
     "output_type": "stream",
     "text": [
      "Processing Extract any other therapeutic interventions from the following clinical trial, which are not behavioural, surgical, radiotherapy or physical. Return them in a list separated with the | symbol. If none is found, return only the wo\n"
     ]
    },
    {
     "name": "stdout",
     "output_type": "stream",
     "text": [
      "Completed other prompt.\n",
      "Processing control prompt...\n"
     ]
    },
    {
     "name": "stderr",
     "output_type": "stream",
     "text": [
      "Processing Extract the comparator interventions from the following clinical trial and return them in a list separated with the | symbol. If none is found, return only the word none. with gpt-4: 100%|█████████| 90/90 [05:52<00:00,  3.92s/it]"
     ]
    },
    {
     "name": "stdout",
     "output_type": "stream",
     "text": [
      "Completed control prompt.\n"
     ]
    },
    {
     "name": "stderr",
     "output_type": "stream",
     "text": [
      "\n"
     ]
    }
   ],
   "source": [
    "gpt_model = \"gpt-4\"\n",
    "for prompt, prompt_type in zip(prompt_list, prompt_types_list):\n",
    "    print(f\"Processing {prompt_type} prompt...\")\n",
    "    annotated_df = annotate_clean_save(ds_annotated_full, gpt_model, prompt, prompt_type)\n",
    "    print(f\"Completed {prompt_type} prompt.\")\n",
    "annotated_df.to_csv(f\"../predictions/rebuttal/ct_neuro_test_annotated_{gpt_model}_additional_types_20240408.csv\")"
   ]
  },
  {
   "cell_type": "markdown",
   "id": "f9541b9e-cf20-432a-b902-3ab962b017a5",
   "metadata": {},
   "source": [
    "### clean annotations"
   ]
  },
  {
   "cell_type": "code",
   "execution_count": 234,
   "id": "81b85164-6996-42c7-95bf-3d3642bc5d94",
   "metadata": {},
   "outputs": [],
   "source": [
    "df_all_annotations = pd.read_csv(\"../predictions/rebuttal/ct_neuro_test_annotated_gpt-3.5-turbo_additional_types_20240408.csv\")"
   ]
  },
  {
   "cell_type": "code",
   "execution_count": 235,
   "id": "95549b32-7aa6-44df-84f3-b45f94d792b0",
   "metadata": {},
   "outputs": [
    {
     "data": {
      "text/html": [
       "<div>\n",
       "<style scoped>\n",
       "    .dataframe tbody tr th:only-of-type {\n",
       "        vertical-align: middle;\n",
       "    }\n",
       "\n",
       "    .dataframe tbody tr th {\n",
       "        vertical-align: top;\n",
       "    }\n",
       "\n",
       "    .dataframe thead th {\n",
       "        text-align: right;\n",
       "    }\n",
       "</style>\n",
       "<table border=\"1\" class=\"dataframe\">\n",
       "  <thead>\n",
       "    <tr style=\"text-align: right;\">\n",
       "      <th></th>\n",
       "      <th>Unnamed: 0</th>\n",
       "      <th>nct_id</th>\n",
       "      <th>text</th>\n",
       "      <th>gpt-3.5-turbo_predictions_behavioural</th>\n",
       "      <th>gpt-3.5-turbo_predictions_surgical</th>\n",
       "      <th>gpt-3.5-turbo_predictions_radiotherapy</th>\n",
       "      <th>gpt-3.5-turbo_predictions_physical</th>\n",
       "      <th>gpt-3.5-turbo_predictions_other</th>\n",
       "      <th>gpt-3.5-turbo_predictions_control</th>\n",
       "    </tr>\n",
       "  </thead>\n",
       "  <tbody>\n",
       "    <tr>\n",
       "      <th>0</th>\n",
       "      <td>0</td>\n",
       "      <td>NCT04849741</td>\n",
       "      <td>A Phase 1-3, Double-Blind, Randomized, Placebo...</td>\n",
       "      <td>none</td>\n",
       "      <td>none</td>\n",
       "      <td>none</td>\n",
       "      <td>none</td>\n",
       "      <td>none</td>\n",
       "      <td>The comparator intervention is not explicitly ...</td>\n",
       "    </tr>\n",
       "    <tr>\n",
       "      <th>1</th>\n",
       "      <td>1</td>\n",
       "      <td>NCT04576507</td>\n",
       "      <td>Effects of Repeated Cannabis Administration on...</td>\n",
       "      <td>Therapeutic behavioural interventions: none</td>\n",
       "      <td>The surgical interventions are not explicitly ...</td>\n",
       "      <td>The radiotherapy interventions are not mention...</td>\n",
       "      <td>The therapeutic physical interventions extract...</td>\n",
       "      <td>The therapeutic intervention extracted from th...</td>\n",
       "      <td>The comparator interventions in the provided c...</td>\n",
       "    </tr>\n",
       "    <tr>\n",
       "      <th>2</th>\n",
       "      <td>2</td>\n",
       "      <td>NCT00261508</td>\n",
       "      <td>Efficacy And Safety Of Risperidone In The Trea...</td>\n",
       "      <td>The therapeutic behavioural interventions extr...</td>\n",
       "      <td>The surgical interventions are not mentioned i...</td>\n",
       "      <td>none</td>\n",
       "      <td>Oral solution of risperidone | Placebo</td>\n",
       "      <td>none</td>\n",
       "      <td>Placebo</td>\n",
       "    </tr>\n",
       "    <tr>\n",
       "      <th>3</th>\n",
       "      <td>3</td>\n",
       "      <td>NCT01495923</td>\n",
       "      <td>Randomized, Double-blind, Comparative-effectiv...</td>\n",
       "      <td>The therapeutic behavioural interventions extr...</td>\n",
       "      <td>The surgical interventions extracted from the ...</td>\n",
       "      <td>ESI | Gabapentin</td>\n",
       "      <td>- Epidural steroid injections | Gabapentin</td>\n",
       "      <td>none</td>\n",
       "      <td>The comparator interventions in the clinical t...</td>\n",
       "    </tr>\n",
       "    <tr>\n",
       "      <th>4</th>\n",
       "      <td>4</td>\n",
       "      <td>NCT03150563</td>\n",
       "      <td>Effects of Different Intensities of Passive St...</td>\n",
       "      <td>The therapeutic behavioural interventions extr...</td>\n",
       "      <td>The surgical interventions were not mentioned ...</td>\n",
       "      <td>none</td>\n",
       "      <td>The therapeutic physical interventions mention...</td>\n",
       "      <td>none</td>\n",
       "      <td>The comparator interventions in the clinical t...</td>\n",
       "    </tr>\n",
       "  </tbody>\n",
       "</table>\n",
       "</div>"
      ],
      "text/plain": [
       "   Unnamed: 0       nct_id                                               text  \\\n",
       "0           0  NCT04849741  A Phase 1-3, Double-Blind, Randomized, Placebo...   \n",
       "1           1  NCT04576507  Effects of Repeated Cannabis Administration on...   \n",
       "2           2  NCT00261508  Efficacy And Safety Of Risperidone In The Trea...   \n",
       "3           3  NCT01495923  Randomized, Double-blind, Comparative-effectiv...   \n",
       "4           4  NCT03150563  Effects of Different Intensities of Passive St...   \n",
       "\n",
       "               gpt-3.5-turbo_predictions_behavioural  \\\n",
       "0                                               none   \n",
       "1        Therapeutic behavioural interventions: none   \n",
       "2  The therapeutic behavioural interventions extr...   \n",
       "3  The therapeutic behavioural interventions extr...   \n",
       "4  The therapeutic behavioural interventions extr...   \n",
       "\n",
       "                  gpt-3.5-turbo_predictions_surgical  \\\n",
       "0                                               none   \n",
       "1  The surgical interventions are not explicitly ...   \n",
       "2  The surgical interventions are not mentioned i...   \n",
       "3  The surgical interventions extracted from the ...   \n",
       "4  The surgical interventions were not mentioned ...   \n",
       "\n",
       "              gpt-3.5-turbo_predictions_radiotherapy  \\\n",
       "0                                               none   \n",
       "1  The radiotherapy interventions are not mention...   \n",
       "2                                               none   \n",
       "3                                   ESI | Gabapentin   \n",
       "4                                               none   \n",
       "\n",
       "                  gpt-3.5-turbo_predictions_physical  \\\n",
       "0                                               none   \n",
       "1  The therapeutic physical interventions extract...   \n",
       "2             Oral solution of risperidone | Placebo   \n",
       "3         - Epidural steroid injections | Gabapentin   \n",
       "4  The therapeutic physical interventions mention...   \n",
       "\n",
       "                     gpt-3.5-turbo_predictions_other  \\\n",
       "0                                               none   \n",
       "1  The therapeutic intervention extracted from th...   \n",
       "2                                               none   \n",
       "3                                               none   \n",
       "4                                               none   \n",
       "\n",
       "                   gpt-3.5-turbo_predictions_control  \n",
       "0  The comparator intervention is not explicitly ...  \n",
       "1  The comparator interventions in the provided c...  \n",
       "2                                            Placebo  \n",
       "3  The comparator interventions in the clinical t...  \n",
       "4  The comparator interventions in the clinical t...  "
      ]
     },
     "execution_count": 235,
     "metadata": {},
     "output_type": "execute_result"
    }
   ],
   "source": [
    "df_all_annotations.head()"
   ]
  },
  {
   "cell_type": "code",
   "execution_count": 236,
   "id": "d32b7e9d-943d-4ecc-b617-a9806e8827d9",
   "metadata": {},
   "outputs": [],
   "source": [
    "import re\n",
    "def replace_with_none(value):\n",
    "    if 'none' in str(value).lower():\n",
    "        return 'none'\n",
    "    else:\n",
    "        return value\n",
    "    \n",
    "# Function to replace everything between \"The\" and \"are:\" with \"\"\n",
    "def remove_between_the_and_are(value):\n",
    "    if isinstance(value, str):\n",
    "        return re.sub(r'The.*?(are:?|is:?)', '', value)\n",
    "    else:\n",
    "        return value\n",
    "    \n",
    "def remove_between_the_and_follows(value):\n",
    "    if isinstance(value, str):\n",
    "        return re.sub(r'The.*?are as follows:', '', value)\n",
    "    else:\n",
    "        return value\n",
    "    \n",
    "def remove_between_therefore_and_is(value):\n",
    "    if isinstance(value, str):\n",
    "        return re.sub(r'Therefore.*?is:?', '', value)\n",
    "    else:\n",
    "        return value\n",
    "    \n",
    "def remove_between_the_ther_and_is(value):\n",
    "    if isinstance(value, str):\n",
    "        return re.sub(r'The therapeutic intervention.*?is:?', '', value)\n",
    "    else:\n",
    "        return value\n",
    "    \n",
    "def remove_between_not_and_is(value):\n",
    "    if isinstance(value, str):\n",
    "        return re.sub(r'not.*?is:?', '', value)\n",
    "    else:\n",
    "        return value\n",
    "    \n",
    "def remove_comparator(value):\n",
    "    if isinstance(value, str):\n",
    "        return re.sub(r'|t of (comparator|therapeutic|surgical).*?is:?', '', value)\n",
    "    else:\n",
    "        return value\n",
    "                \n",
    "# Function to replace \"\\n -\" with \"|\" and strip leading \"\\n\"\n",
    "def clean_text(value):\n",
    "    if isinstance(value, str):\n",
    "        if \"Therapeutic behavioural interventions were not explicitly mentioned in the provided clinical trial text\" in value:\n",
    "            return \"none\"\n",
    "        # Strip leading newline characters, hyphens, and \"|\" characters\n",
    "        value = value.lstrip('\\n-|')\n",
    "        # Replace \"\\n -\" and \"\\n-\" with \"|\"\n",
    "        value = re.sub(r'\\n -', '|', value)\n",
    "        value = re.sub(r'\\n-', '|', value)\n",
    "        # Replace newline characters with \"|\"\n",
    "        value = re.sub(r'\\n', '|', value)\n",
    "        # Reduce multiple occurrences of \"|\" to a single \"|\"\n",
    "        value = re.sub(r'\\|\\s*\\|+', '|', value)\n",
    "        # Strip leading and trailing \"|\" characters\n",
    "        value = value.strip('|')\n",
    "        # Remove the \" sign\n",
    "        value = value.replace('\"', '')\n",
    "        # Reduce multiple spaces to a single space\n",
    "        value = re.sub(r'\\s+', ' ', value)\n",
    "        value = re.sub(r'as follows:|', '', value)\n",
    "        value = value.strip('.')\n",
    "        value = re.sub(r'|If you need further assistance, feel free to ask', '', value)\n",
    "        \n",
    "        # Strip leading and trailing spaces and \"|\"\n",
    "        value = value.strip(' |')\n",
    "        \n",
    "        # Strip leading and trailing spaces\n",
    "        value = value.strip()\n",
    "    return value\n",
    "\n",
    "\n",
    "# Applying the function to each cell in the DataFrame\n",
    "df_all_annotations = df_all_annotations.applymap(replace_with_none)\n",
    "df_all_annotations = df_all_annotations.applymap(remove_between_the_and_are)\n",
    "df_all_annotations = df_all_annotations.applymap(remove_between_the_and_follows)\n",
    "df_all_annotations = df_all_annotations.applymap(remove_between_therefore_and_is)\n",
    "df_all_annotations = df_all_annotations.applymap(remove_between_the_ther_and_is)\n",
    "df_all_annotations = df_all_annotations.applymap(remove_between_not_and_is)\n",
    "df_all_annotations = df_all_annotations.applymap(remove_comparator)\n",
    "\n",
    "df_all_annotations = df_all_annotations.applymap(clean_text)"
   ]
  },
  {
   "cell_type": "code",
   "execution_count": 237,
   "id": "39882fa6-4d93-4711-8900-f5db91b15deb",
   "metadata": {},
   "outputs": [
    {
     "data": {
      "text/html": [
       "<div>\n",
       "<style scoped>\n",
       "    .dataframe tbody tr th:only-of-type {\n",
       "        vertical-align: middle;\n",
       "    }\n",
       "\n",
       "    .dataframe tbody tr th {\n",
       "        vertical-align: top;\n",
       "    }\n",
       "\n",
       "    .dataframe thead th {\n",
       "        text-align: right;\n",
       "    }\n",
       "</style>\n",
       "<table border=\"1\" class=\"dataframe\">\n",
       "  <thead>\n",
       "    <tr style=\"text-align: right;\">\n",
       "      <th></th>\n",
       "      <th>Unnamed: 0</th>\n",
       "      <th>nct_id</th>\n",
       "      <th>text</th>\n",
       "      <th>gpt-3.5-turbo_predictions_behavioural</th>\n",
       "      <th>gpt-3.5-turbo_predictions_surgical</th>\n",
       "      <th>gpt-3.5-turbo_predictions_radiotherapy</th>\n",
       "      <th>gpt-3.5-turbo_predictions_physical</th>\n",
       "      <th>gpt-3.5-turbo_predictions_other</th>\n",
       "      <th>gpt-3.5-turbo_predictions_control</th>\n",
       "    </tr>\n",
       "  </thead>\n",
       "  <tbody>\n",
       "    <tr>\n",
       "      <th>0</th>\n",
       "      <td>0</td>\n",
       "      <td>NCT04849741</td>\n",
       "      <td>A Phase 1-3, Double-Blind, Randomized, Placebo...</td>\n",
       "      <td>none</td>\n",
       "      <td>none</td>\n",
       "      <td>none</td>\n",
       "      <td>none</td>\n",
       "      <td>none</td>\n",
       "      <td>none</td>\n",
       "    </tr>\n",
       "    <tr>\n",
       "      <th>1</th>\n",
       "      <td>1</td>\n",
       "      <td>NCT04576507</td>\n",
       "      <td>Effects of Repeated Cannabis Administration on...</td>\n",
       "      <td>none</td>\n",
       "      <td>none</td>\n",
       "      <td>none</td>\n",
       "      <td>Smoking cannabis 3x/day| Smoking cannabis 3x/day</td>\n",
       "      <td>cannabinoids. | cannabinoids</td>\n",
       "      <td>none</td>\n",
       "    </tr>\n",
       "    <tr>\n",
       "      <th>2</th>\n",
       "      <td>2</td>\n",
       "      <td>NCT00261508</td>\n",
       "      <td>Efficacy And Safety Of Risperidone In tic Diso...</td>\n",
       "      <td>none</td>\n",
       "      <td>none</td>\n",
       "      <td>none</td>\n",
       "      <td>Oral solution of risperidone | Placebo</td>\n",
       "      <td>none</td>\n",
       "      <td>Placebo</td>\n",
       "    </tr>\n",
       "    <tr>\n",
       "      <th>3</th>\n",
       "      <td>3</td>\n",
       "      <td>NCT01495923</td>\n",
       "      <td>Randomized, Double-blind, Comparative-effectiv...</td>\n",
       "      <td>none</td>\n",
       "      <td>Epidural Steroid Injections|Epidural Steroid I...</td>\n",
       "      <td>ESI | Gabapentin</td>\n",
       "      <td>Epidural steroid injections | Gabapentin</td>\n",
       "      <td>none</td>\n",
       "      <td>Epidural Steroid Injections| Gabapentin</td>\n",
       "    </tr>\n",
       "    <tr>\n",
       "      <th>4</th>\n",
       "      <td>4</td>\n",
       "      <td>NCT03150563</td>\n",
       "      <td>Effects of Different Intensities of Passive St...</td>\n",
       "      <td>none</td>\n",
       "      <td>none</td>\n",
       "      <td>none</td>\n",
       "      <td>passive static stretching</td>\n",
       "      <td>none</td>\n",
       "      <td>none</td>\n",
       "    </tr>\n",
       "  </tbody>\n",
       "</table>\n",
       "</div>"
      ],
      "text/plain": [
       "   Unnamed: 0       nct_id                                               text  \\\n",
       "0           0  NCT04849741  A Phase 1-3, Double-Blind, Randomized, Placebo...   \n",
       "1           1  NCT04576507  Effects of Repeated Cannabis Administration on...   \n",
       "2           2  NCT00261508  Efficacy And Safety Of Risperidone In tic Diso...   \n",
       "3           3  NCT01495923  Randomized, Double-blind, Comparative-effectiv...   \n",
       "4           4  NCT03150563  Effects of Different Intensities of Passive St...   \n",
       "\n",
       "  gpt-3.5-turbo_predictions_behavioural  \\\n",
       "0                                  none   \n",
       "1                                  none   \n",
       "2                                  none   \n",
       "3                                  none   \n",
       "4                                  none   \n",
       "\n",
       "                  gpt-3.5-turbo_predictions_surgical  \\\n",
       "0                                               none   \n",
       "1                                               none   \n",
       "2                                               none   \n",
       "3  Epidural Steroid Injections|Epidural Steroid I...   \n",
       "4                                               none   \n",
       "\n",
       "  gpt-3.5-turbo_predictions_radiotherapy  \\\n",
       "0                                   none   \n",
       "1                                   none   \n",
       "2                                   none   \n",
       "3                       ESI | Gabapentin   \n",
       "4                                   none   \n",
       "\n",
       "                 gpt-3.5-turbo_predictions_physical  \\\n",
       "0                                              none   \n",
       "1  Smoking cannabis 3x/day| Smoking cannabis 3x/day   \n",
       "2            Oral solution of risperidone | Placebo   \n",
       "3          Epidural steroid injections | Gabapentin   \n",
       "4                         passive static stretching   \n",
       "\n",
       "  gpt-3.5-turbo_predictions_other        gpt-3.5-turbo_predictions_control  \n",
       "0                            none                                     none  \n",
       "1    cannabinoids. | cannabinoids                                     none  \n",
       "2                            none                                  Placebo  \n",
       "3                            none  Epidural Steroid Injections| Gabapentin  \n",
       "4                            none                                     none  "
      ]
     },
     "execution_count": 237,
     "metadata": {},
     "output_type": "execute_result"
    }
   ],
   "source": [
    "df_all_annotations.head()"
   ]
  },
  {
   "cell_type": "code",
   "execution_count": 240,
   "id": "bf6ce3a1-7e96-46db-88bc-b2051c9a8476",
   "metadata": {},
   "outputs": [
    {
     "data": {
      "text/html": [
       "<div>\n",
       "<style scoped>\n",
       "    .dataframe tbody tr th:only-of-type {\n",
       "        vertical-align: middle;\n",
       "    }\n",
       "\n",
       "    .dataframe tbody tr th {\n",
       "        vertical-align: top;\n",
       "    }\n",
       "\n",
       "    .dataframe thead th {\n",
       "        text-align: right;\n",
       "    }\n",
       "</style>\n",
       "<table border=\"1\" class=\"dataframe\">\n",
       "  <thead>\n",
       "    <tr style=\"text-align: right;\">\n",
       "      <th></th>\n",
       "      <th>Unnamed: 0</th>\n",
       "      <th>nct_id</th>\n",
       "      <th>text</th>\n",
       "      <th>gpt-3.5-turbo_predictions_behavioural</th>\n",
       "      <th>gpt-3.5-turbo_predictions_surgical</th>\n",
       "      <th>gpt-3.5-turbo_predictions_radiotherapy</th>\n",
       "      <th>gpt-3.5-turbo_predictions_physical</th>\n",
       "      <th>gpt-3.5-turbo_predictions_other</th>\n",
       "      <th>gpt-3.5-turbo_predictions_control</th>\n",
       "    </tr>\n",
       "  </thead>\n",
       "  <tbody>\n",
       "    <tr>\n",
       "      <th>0</th>\n",
       "      <td>0</td>\n",
       "      <td>NCT04849741</td>\n",
       "      <td>A Phase 1-3, Double-Blind, Randomized, Placebo...</td>\n",
       "      <td>none</td>\n",
       "      <td>none</td>\n",
       "      <td>none</td>\n",
       "      <td>none</td>\n",
       "      <td>none</td>\n",
       "      <td>none</td>\n",
       "    </tr>\n",
       "    <tr>\n",
       "      <th>1</th>\n",
       "      <td>1</td>\n",
       "      <td>NCT04576507</td>\n",
       "      <td>Effects of Repeated Cannabis Administration on...</td>\n",
       "      <td>none</td>\n",
       "      <td>none</td>\n",
       "      <td>none</td>\n",
       "      <td>smoking cannabis 3x/day</td>\n",
       "      <td>cannabinoids</td>\n",
       "      <td>none</td>\n",
       "    </tr>\n",
       "    <tr>\n",
       "      <th>2</th>\n",
       "      <td>2</td>\n",
       "      <td>NCT00261508</td>\n",
       "      <td>Efficacy And Safety Of Risperidone In tic Diso...</td>\n",
       "      <td>none</td>\n",
       "      <td>none</td>\n",
       "      <td>none</td>\n",
       "      <td>placebo|oral solution of risperidone</td>\n",
       "      <td>none</td>\n",
       "      <td>placebo</td>\n",
       "    </tr>\n",
       "    <tr>\n",
       "      <th>3</th>\n",
       "      <td>3</td>\n",
       "      <td>NCT01495923</td>\n",
       "      <td>Randomized, Double-blind, Comparative-effectiv...</td>\n",
       "      <td>none</td>\n",
       "      <td>epidural steroid injections</td>\n",
       "      <td>esi|gabapentin</td>\n",
       "      <td>epidural steroid injections|gabapentin</td>\n",
       "      <td>none</td>\n",
       "      <td>epidural steroid injections|gabapentin</td>\n",
       "    </tr>\n",
       "    <tr>\n",
       "      <th>4</th>\n",
       "      <td>4</td>\n",
       "      <td>NCT03150563</td>\n",
       "      <td>Effects of Different Intensities of Passive St...</td>\n",
       "      <td>none</td>\n",
       "      <td>none</td>\n",
       "      <td>none</td>\n",
       "      <td>passive static stretching</td>\n",
       "      <td>none</td>\n",
       "      <td>none</td>\n",
       "    </tr>\n",
       "  </tbody>\n",
       "</table>\n",
       "</div>"
      ],
      "text/plain": [
       "   Unnamed: 0       nct_id                                               text  \\\n",
       "0           0  NCT04849741  A Phase 1-3, Double-Blind, Randomized, Placebo...   \n",
       "1           1  NCT04576507  Effects of Repeated Cannabis Administration on...   \n",
       "2           2  NCT00261508  Efficacy And Safety Of Risperidone In tic Diso...   \n",
       "3           3  NCT01495923  Randomized, Double-blind, Comparative-effectiv...   \n",
       "4           4  NCT03150563  Effects of Different Intensities of Passive St...   \n",
       "\n",
       "  gpt-3.5-turbo_predictions_behavioural gpt-3.5-turbo_predictions_surgical  \\\n",
       "0                                  none                               none   \n",
       "1                                  none                               none   \n",
       "2                                  none                               none   \n",
       "3                                  none        epidural steroid injections   \n",
       "4                                  none                               none   \n",
       "\n",
       "  gpt-3.5-turbo_predictions_radiotherapy  \\\n",
       "0                                   none   \n",
       "1                                   none   \n",
       "2                                   none   \n",
       "3                         esi|gabapentin   \n",
       "4                                   none   \n",
       "\n",
       "       gpt-3.5-turbo_predictions_physical gpt-3.5-turbo_predictions_other  \\\n",
       "0                                    none                            none   \n",
       "1                 smoking cannabis 3x/day                    cannabinoids   \n",
       "2    placebo|oral solution of risperidone                            none   \n",
       "3  epidural steroid injections|gabapentin                            none   \n",
       "4               passive static stretching                            none   \n",
       "\n",
       "        gpt-3.5-turbo_predictions_control  \n",
       "0                                    none  \n",
       "1                                    none  \n",
       "2                                 placebo  \n",
       "3  epidural steroid injections|gabapentin  \n",
       "4                                    none  "
      ]
     },
     "execution_count": 240,
     "metadata": {},
     "output_type": "execute_result"
    }
   ],
   "source": [
    "def process_column(column):\n",
    "    # Initialize an empty set for deduplication\n",
    "    processed_items = set()\n",
    "    \n",
    "    # Iterate over each cell in the column\n",
    "    for cell in column:\n",
    "        if not isinstance(cell, str):\n",
    "            continue  # Skip non-string data\n",
    "        # Split, lowercase, and remove \".\", then add to set\n",
    "        items = cell.split('|')\n",
    "        for item in items:\n",
    "            clean_item = item.lower().replace('.', '').strip()\n",
    "            if clean_item not in processed_items:\n",
    "                processed_items.add(clean_item)\n",
    "    \n",
    "    # Convert the set to a list to return\n",
    "    return list(set(processed_items))\n",
    "\n",
    "# Process only columns containing \"gpt-3.5\" in their name\n",
    "for column_name in df_all_annotations.columns:\n",
    "    if \"gpt-3.5\" in column_name:\n",
    "        df_all_annotations[column_name] = df_all_annotations[column_name].apply(lambda x: '|'.join(process_column([x])))\n",
    "\n",
    "df_all_annotations.head()"
   ]
  },
  {
   "cell_type": "code",
   "execution_count": 241,
   "id": "f474e03b-12f4-4135-b49d-eef77241a249",
   "metadata": {},
   "outputs": [],
   "source": [
    "df_all_annotations.to_csv(\"../predictions/rebuttal/ct_neuro_test_annotated_gpt-3.5-turbo_additional_types_20240408_clean.csv\")"
   ]
  },
  {
   "cell_type": "code",
   "execution_count": 242,
   "id": "9cedb798-efd2-4959-958f-d9112c5763a3",
   "metadata": {},
   "outputs": [],
   "source": [
    "df_all_annotations_gpt_4 = pd.read_csv(\"../predictions/rebuttal/ct_neuro_test_annotated_gpt-4_additional_types_20240408.csv\")"
   ]
  },
  {
   "cell_type": "code",
   "execution_count": 243,
   "id": "db47d66e-887d-4420-ae12-19ff133108a6",
   "metadata": {},
   "outputs": [
    {
     "data": {
      "text/html": [
       "<div>\n",
       "<style scoped>\n",
       "    .dataframe tbody tr th:only-of-type {\n",
       "        vertical-align: middle;\n",
       "    }\n",
       "\n",
       "    .dataframe tbody tr th {\n",
       "        vertical-align: top;\n",
       "    }\n",
       "\n",
       "    .dataframe thead th {\n",
       "        text-align: right;\n",
       "    }\n",
       "</style>\n",
       "<table border=\"1\" class=\"dataframe\">\n",
       "  <thead>\n",
       "    <tr style=\"text-align: right;\">\n",
       "      <th></th>\n",
       "      <th>Unnamed: 0</th>\n",
       "      <th>nct_id</th>\n",
       "      <th>text</th>\n",
       "      <th>gpt-4_predictions_behavioural</th>\n",
       "      <th>gpt-4_predictions_surgical</th>\n",
       "      <th>gpt-4_predictions_radiotherapy</th>\n",
       "      <th>gpt-4_predictions_physical</th>\n",
       "      <th>gpt-4_predictions_other</th>\n",
       "      <th>gpt-4_predictions_control</th>\n",
       "    </tr>\n",
       "  </thead>\n",
       "  <tbody>\n",
       "    <tr>\n",
       "      <th>0</th>\n",
       "      <td>0</td>\n",
       "      <td>NCT04849741</td>\n",
       "      <td>A Phase 1-3, Double-Blind, Randomized, Placebo...</td>\n",
       "      <td>None</td>\n",
       "      <td>None</td>\n",
       "      <td>None</td>\n",
       "      <td>Intrathecally Administered ION373</td>\n",
       "      <td>Intrathecally Administered ION373 | Placebo</td>\n",
       "      <td>Placebo</td>\n",
       "    </tr>\n",
       "    <tr>\n",
       "      <th>1</th>\n",
       "      <td>1</td>\n",
       "      <td>NCT04576507</td>\n",
       "      <td>Effects of Repeated Cannabis Administration on...</td>\n",
       "      <td>none</td>\n",
       "      <td>none</td>\n",
       "      <td>None</td>\n",
       "      <td>Cold Pressor Test (CPT) | Quantitative Sensory...</td>\n",
       "      <td>Cannabis | Prescription opioids | Cannabinoids...</td>\n",
       "      <td>placebo</td>\n",
       "    </tr>\n",
       "    <tr>\n",
       "      <th>2</th>\n",
       "      <td>2</td>\n",
       "      <td>NCT00261508</td>\n",
       "      <td>Efficacy And Safety Of Risperidone In The Trea...</td>\n",
       "      <td>none</td>\n",
       "      <td>None</td>\n",
       "      <td>None</td>\n",
       "      <td>none</td>\n",
       "      <td>Risperidone | Oral solution of risperidone | A...</td>\n",
       "      <td>Placebo</td>\n",
       "    </tr>\n",
       "    <tr>\n",
       "      <th>3</th>\n",
       "      <td>3</td>\n",
       "      <td>NCT01495923</td>\n",
       "      <td>Randomized, Double-blind, Comparative-effectiv...</td>\n",
       "      <td>Epidural Steroid Injections|Gabapentin</td>\n",
       "      <td>Epidural Steroid Injections</td>\n",
       "      <td>none</td>\n",
       "      <td>Epidural Steroid Injections|Gabapentin</td>\n",
       "      <td>Epidural Steroid Injections | Gabapentin</td>\n",
       "      <td>Epidural Steroid Injections | Gabapentin</td>\n",
       "    </tr>\n",
       "    <tr>\n",
       "      <th>4</th>\n",
       "      <td>4</td>\n",
       "      <td>NCT03150563</td>\n",
       "      <td>Effects of Different Intensities of Passive St...</td>\n",
       "      <td>none</td>\n",
       "      <td>None</td>\n",
       "      <td>None</td>\n",
       "      <td>Passive Static Stretching</td>\n",
       "      <td>Passive Static Stretching</td>\n",
       "      <td>none</td>\n",
       "    </tr>\n",
       "  </tbody>\n",
       "</table>\n",
       "</div>"
      ],
      "text/plain": [
       "   Unnamed: 0       nct_id                                               text  \\\n",
       "0           0  NCT04849741  A Phase 1-3, Double-Blind, Randomized, Placebo...   \n",
       "1           1  NCT04576507  Effects of Repeated Cannabis Administration on...   \n",
       "2           2  NCT00261508  Efficacy And Safety Of Risperidone In The Trea...   \n",
       "3           3  NCT01495923  Randomized, Double-blind, Comparative-effectiv...   \n",
       "4           4  NCT03150563  Effects of Different Intensities of Passive St...   \n",
       "\n",
       "            gpt-4_predictions_behavioural   gpt-4_predictions_surgical  \\\n",
       "0                                    None                         None   \n",
       "1                                    none                         none   \n",
       "2                                    none                         None   \n",
       "3  Epidural Steroid Injections|Gabapentin  Epidural Steroid Injections   \n",
       "4                                    none                         None   \n",
       "\n",
       "  gpt-4_predictions_radiotherapy  \\\n",
       "0                           None   \n",
       "1                           None   \n",
       "2                           None   \n",
       "3                           none   \n",
       "4                           None   \n",
       "\n",
       "                          gpt-4_predictions_physical  \\\n",
       "0                  Intrathecally Administered ION373   \n",
       "1  Cold Pressor Test (CPT) | Quantitative Sensory...   \n",
       "2                                               none   \n",
       "3             Epidural Steroid Injections|Gabapentin   \n",
       "4                          Passive Static Stretching   \n",
       "\n",
       "                             gpt-4_predictions_other  \\\n",
       "0        Intrathecally Administered ION373 | Placebo   \n",
       "1  Cannabis | Prescription opioids | Cannabinoids...   \n",
       "2  Risperidone | Oral solution of risperidone | A...   \n",
       "3           Epidural Steroid Injections | Gabapentin   \n",
       "4                          Passive Static Stretching   \n",
       "\n",
       "                  gpt-4_predictions_control  \n",
       "0                                   Placebo  \n",
       "1                                   placebo  \n",
       "2                                   Placebo  \n",
       "3  Epidural Steroid Injections | Gabapentin  \n",
       "4                                      none  "
      ]
     },
     "execution_count": 243,
     "metadata": {},
     "output_type": "execute_result"
    }
   ],
   "source": [
    "df_all_annotations_gpt_4.head()"
   ]
  },
  {
   "cell_type": "code",
   "execution_count": 245,
   "id": "fa24db4a-3305-46a3-bdaa-aca40bccdbb4",
   "metadata": {},
   "outputs": [
    {
     "data": {
      "text/html": [
       "<div>\n",
       "<style scoped>\n",
       "    .dataframe tbody tr th:only-of-type {\n",
       "        vertical-align: middle;\n",
       "    }\n",
       "\n",
       "    .dataframe tbody tr th {\n",
       "        vertical-align: top;\n",
       "    }\n",
       "\n",
       "    .dataframe thead th {\n",
       "        text-align: right;\n",
       "    }\n",
       "</style>\n",
       "<table border=\"1\" class=\"dataframe\">\n",
       "  <thead>\n",
       "    <tr style=\"text-align: right;\">\n",
       "      <th></th>\n",
       "      <th>Unnamed: 0</th>\n",
       "      <th>nct_id</th>\n",
       "      <th>text</th>\n",
       "      <th>gpt-4_predictions_behavioural</th>\n",
       "      <th>gpt-4_predictions_surgical</th>\n",
       "      <th>gpt-4_predictions_radiotherapy</th>\n",
       "      <th>gpt-4_predictions_physical</th>\n",
       "      <th>gpt-4_predictions_other</th>\n",
       "      <th>gpt-4_predictions_control</th>\n",
       "    </tr>\n",
       "  </thead>\n",
       "  <tbody>\n",
       "    <tr>\n",
       "      <th>0</th>\n",
       "      <td>0</td>\n",
       "      <td>NCT04849741</td>\n",
       "      <td>A Phase 1-3, Double-Blind, Randomized, Placebo...</td>\n",
       "      <td>none</td>\n",
       "      <td>none</td>\n",
       "      <td>none</td>\n",
       "      <td>intrathecally administered ion373</td>\n",
       "      <td>placebo|intrathecally administered ion373</td>\n",
       "      <td>placebo</td>\n",
       "    </tr>\n",
       "    <tr>\n",
       "      <th>1</th>\n",
       "      <td>1</td>\n",
       "      <td>NCT04576507</td>\n",
       "      <td>Effects of Repeated Cannabis Administration on...</td>\n",
       "      <td>none</td>\n",
       "      <td>none</td>\n",
       "      <td>none</td>\n",
       "      <td>smoking cannabis 3x/day|quantitative sensory t...</td>\n",
       "      <td>prescription opioids|cannabis|delta-9-tetrahyd...</td>\n",
       "      <td>placebo</td>\n",
       "    </tr>\n",
       "    <tr>\n",
       "      <th>2</th>\n",
       "      <td>2</td>\n",
       "      <td>NCT00261508</td>\n",
       "      <td>Efficacy And Safety Of Risperidone In The Trea...</td>\n",
       "      <td>none</td>\n",
       "      <td>none</td>\n",
       "      <td>none</td>\n",
       "      <td>none</td>\n",
       "      <td>antipsychotic medication|risperidone|oral solu...</td>\n",
       "      <td>placebo</td>\n",
       "    </tr>\n",
       "    <tr>\n",
       "      <th>3</th>\n",
       "      <td>3</td>\n",
       "      <td>NCT01495923</td>\n",
       "      <td>Randomized, Double-blind, Comparative-effectiv...</td>\n",
       "      <td>epidural steroid injections|gabapentin</td>\n",
       "      <td>epidural steroid injections</td>\n",
       "      <td>none</td>\n",
       "      <td>epidural steroid injections|gabapentin</td>\n",
       "      <td>epidural steroid injections|gabapentin</td>\n",
       "      <td>epidural steroid injections|gabapentin</td>\n",
       "    </tr>\n",
       "    <tr>\n",
       "      <th>4</th>\n",
       "      <td>4</td>\n",
       "      <td>NCT03150563</td>\n",
       "      <td>Effects of Different Intensities of Passive St...</td>\n",
       "      <td>none</td>\n",
       "      <td>none</td>\n",
       "      <td>none</td>\n",
       "      <td>passive static stretching</td>\n",
       "      <td>passive static stretching</td>\n",
       "      <td>none</td>\n",
       "    </tr>\n",
       "  </tbody>\n",
       "</table>\n",
       "</div>"
      ],
      "text/plain": [
       "   Unnamed: 0       nct_id                                               text  \\\n",
       "0           0  NCT04849741  A Phase 1-3, Double-Blind, Randomized, Placebo...   \n",
       "1           1  NCT04576507  Effects of Repeated Cannabis Administration on...   \n",
       "2           2  NCT00261508  Efficacy And Safety Of Risperidone In The Trea...   \n",
       "3           3  NCT01495923  Randomized, Double-blind, Comparative-effectiv...   \n",
       "4           4  NCT03150563  Effects of Different Intensities of Passive St...   \n",
       "\n",
       "            gpt-4_predictions_behavioural   gpt-4_predictions_surgical  \\\n",
       "0                                    none                         none   \n",
       "1                                    none                         none   \n",
       "2                                    none                         none   \n",
       "3  epidural steroid injections|gabapentin  epidural steroid injections   \n",
       "4                                    none                         none   \n",
       "\n",
       "  gpt-4_predictions_radiotherapy  \\\n",
       "0                           none   \n",
       "1                           none   \n",
       "2                           none   \n",
       "3                           none   \n",
       "4                           none   \n",
       "\n",
       "                          gpt-4_predictions_physical  \\\n",
       "0                  intrathecally administered ion373   \n",
       "1  smoking cannabis 3x/day|quantitative sensory t...   \n",
       "2                                               none   \n",
       "3             epidural steroid injections|gabapentin   \n",
       "4                          passive static stretching   \n",
       "\n",
       "                             gpt-4_predictions_other  \\\n",
       "0          placebo|intrathecally administered ion373   \n",
       "1  prescription opioids|cannabis|delta-9-tetrahyd...   \n",
       "2  antipsychotic medication|risperidone|oral solu...   \n",
       "3             epidural steroid injections|gabapentin   \n",
       "4                          passive static stretching   \n",
       "\n",
       "                gpt-4_predictions_control  \n",
       "0                                 placebo  \n",
       "1                                 placebo  \n",
       "2                                 placebo  \n",
       "3  epidural steroid injections|gabapentin  \n",
       "4                                    none  "
      ]
     },
     "execution_count": 245,
     "metadata": {},
     "output_type": "execute_result"
    }
   ],
   "source": [
    "def process_column(column):\n",
    "    # Initialize an empty set for deduplication\n",
    "    processed_items = set()\n",
    "    \n",
    "    # Iterate over each cell in the column\n",
    "    for cell in column:\n",
    "        if not isinstance(cell, str):\n",
    "            continue  # Skip non-string data\n",
    "        # Split, lowercase, and remove \".\", then add to set\n",
    "        items = cell.split('|')\n",
    "        for item in items:\n",
    "            clean_item = item.lower().replace('.', '').strip()\n",
    "            if clean_item not in processed_items:\n",
    "                processed_items.add(clean_item)\n",
    "    \n",
    "    # Convert the set to a list to return\n",
    "    return list(set(processed_items))\n",
    "\n",
    "# Process only columns containing \"gpt-3.5\" in their name\n",
    "for column_name in df_all_annotations_gpt_4.columns:\n",
    "    if \"gpt-4\" in column_name:\n",
    "        df_all_annotations_gpt_4[column_name] = df_all_annotations_gpt_4[column_name].apply(lambda x: '|'.join(process_column([x])))\n",
    "\n",
    "df_all_annotations_gpt_4.head()"
   ]
  },
  {
   "cell_type": "code",
   "execution_count": 246,
   "id": "8c056d55-3f96-4bfa-bedf-4ebce98222f7",
   "metadata": {},
   "outputs": [],
   "source": [
    "df_all_annotations_gpt_4.to_csv(\"../predictions/rebuttal/ct_neuro_test_annotated_gpt-4_additional_types_20240408_clean.csv\")"
   ]
  },
  {
   "cell_type": "markdown",
   "id": "3fdea5ee-8970-459d-80a0-9c6ae40539ee",
   "metadata": {},
   "source": [
    "## demo "
   ]
  },
  {
   "cell_type": "code",
   "execution_count": null,
   "id": "151c9be7-4424-4fa4-b74c-a9135269077a",
   "metadata": {},
   "outputs": [],
   "source": [
    "gpt_model=\"gpt-4\""
   ]
  },
  {
   "cell_type": "code",
   "execution_count": 39,
   "id": "00d903bd-0674-4591-a97b-55fbdc9e5298",
   "metadata": {},
   "outputs": [
    {
     "name": "stdout",
     "output_type": "stream",
     "text": [
      "Using gpt-4 for extract_conditions.\n"
     ]
    },
    {
     "name": "stderr",
     "output_type": "stream",
     "text": [
      "Processing extract_conditions: 100%|████████████████████████████████████████████████████████████████████████████████████████████████████████████████████████████████████████████████████████████| 90/90 [06:44<00:00,  4.49s/it]\n"
     ]
    }
   ],
   "source": [
    "ds_annotated_full[f'{gpt_model}_predictions_conditions'] = apply_gpt_with_progress(ds_annotated_full['text'], prompt=interventions_prompt_v1, gpt_model=gpt_model)"
   ]
  },
  {
   "cell_type": "code",
   "execution_count": 40,
   "id": "6261c8c0-41f1-45ac-9f08-e858b449dd9e",
   "metadata": {},
   "outputs": [
    {
     "name": "stdout",
     "output_type": "stream",
     "text": [
      "Using gpt-4 for extract_interventions.\n"
     ]
    },
    {
     "name": "stderr",
     "output_type": "stream",
     "text": [
      "Processing extract_interventions:  28%|██████████████████████████████████████████▌                                                                                                              | 25/90 [06:14<30:02, 27.73s/it]"
     ]
    },
    {
     "name": "stdout",
     "output_type": "stream",
     "text": [
      "OpenAI API request failed to connect: Error communicating with OpenAI: HTTPSConnectionPool(host='api.openai.com', port=443): Max retries exceeded with url: /v1/chat/completions (Caused by NewConnectionError('<urllib3.connection.HTTPSConnection object at 0x7f9602ae72e0>: Failed to establish a new connection: [Errno 8] nodename nor servname provided, or not known'))\n"
     ]
    },
    {
     "name": "stderr",
     "output_type": "stream",
     "text": [
      "Processing extract_interventions: 100%|█████████████████████████████████████████████████████████████████████████████████████████████████████████████████████████████████████████████████████████| 90/90 [14:11<00:00,  9.46s/it]\n"
     ]
    }
   ],
   "source": [
    "ds_annotated_full[f'{gpt_model}_predictions_interventions'] = apply_gpt_with_progress(ds_annotated_full['text'], prompt=conditions_prompt_v1, gpt_model=gpt_model)"
   ]
  },
  {
   "cell_type": "code",
   "execution_count": 41,
   "id": "54888db1-016a-4b0c-9dfe-2e18d71f2124",
   "metadata": {},
   "outputs": [
    {
     "data": {
      "text/html": [
       "<div>\n",
       "<style scoped>\n",
       "    .dataframe tbody tr th:only-of-type {\n",
       "        vertical-align: middle;\n",
       "    }\n",
       "\n",
       "    .dataframe tbody tr th {\n",
       "        vertical-align: top;\n",
       "    }\n",
       "\n",
       "    .dataframe thead th {\n",
       "        text-align: right;\n",
       "    }\n",
       "</style>\n",
       "<table border=\"1\" class=\"dataframe\">\n",
       "  <thead>\n",
       "    <tr style=\"text-align: right;\">\n",
       "      <th></th>\n",
       "      <th>nct_id</th>\n",
       "      <th>text</th>\n",
       "      <th>gpt-4_predictions_conditions</th>\n",
       "      <th>gpt-4_predictions_interventions</th>\n",
       "    </tr>\n",
       "  </thead>\n",
       "  <tbody>\n",
       "    <tr>\n",
       "      <th>0</th>\n",
       "      <td>NCT04849741</td>\n",
       "      <td>A Phase 1-3, Double-Blind, Randomized, Placebo...</td>\n",
       "      <td>Alexander Disease</td>\n",
       "      <td>ION373</td>\n",
       "    </tr>\n",
       "    <tr>\n",
       "      <th>1</th>\n",
       "      <td>NCT04576507</td>\n",
       "      <td>Effects of Repeated Cannabis Administration on...</td>\n",
       "      <td>Chronic pain</td>\n",
       "      <td>Cannabis | delta-9-tetrahydrocannabinol (THC) ...</td>\n",
       "    </tr>\n",
       "    <tr>\n",
       "      <th>2</th>\n",
       "      <td>NCT00261508</td>\n",
       "      <td>Efficacy And Safety Of Risperidone In The Trea...</td>\n",
       "      <td>Autistic Disorder | Pervasive Developmental Di...</td>\n",
       "      <td>Risperidone|Placebo</td>\n",
       "    </tr>\n",
       "    <tr>\n",
       "      <th>3</th>\n",
       "      <td>NCT01495923</td>\n",
       "      <td>Randomized, Double-blind, Comparative-effectiv...</td>\n",
       "      <td>Lumbosacral Radiculopathy | Radicular Pain</td>\n",
       "      <td>Epidural Steroid Injections|Gabapentin</td>\n",
       "    </tr>\n",
       "    <tr>\n",
       "      <th>4</th>\n",
       "      <td>NCT03150563</td>\n",
       "      <td>Effects of Different Intensities of Passive St...</td>\n",
       "      <td>None</td>\n",
       "      <td>none</td>\n",
       "    </tr>\n",
       "    <tr>\n",
       "      <th>...</th>\n",
       "      <td>...</td>\n",
       "      <td>...</td>\n",
       "      <td>...</td>\n",
       "      <td>...</td>\n",
       "    </tr>\n",
       "    <tr>\n",
       "      <th>85</th>\n",
       "      <td>NCT03755362</td>\n",
       "      <td>Treatment of Periodontitis to Prevent Dementia...</td>\n",
       "      <td>Periodontitis | Dementia | Asymptomatic Caroti...</td>\n",
       "      <td>none</td>\n",
       "    </tr>\n",
       "    <tr>\n",
       "      <th>86</th>\n",
       "      <td>NCT00506415</td>\n",
       "      <td>A 48-Week, Multicenter, Randomized, Double-Bli...</td>\n",
       "      <td>Alzheimer's Disease | functional decline, cogn...</td>\n",
       "      <td>Exelon® | rivastigmine patch</td>\n",
       "    </tr>\n",
       "    <tr>\n",
       "      <th>87</th>\n",
       "      <td>NCT01344447</td>\n",
       "      <td>Multicenter, Open-label Study to Evaluate the ...</td>\n",
       "      <td>none</td>\n",
       "      <td>Gadobutrol</td>\n",
       "    </tr>\n",
       "    <tr>\n",
       "      <th>88</th>\n",
       "      <td>NCT04184206</td>\n",
       "      <td>Effects of Attention Training Interventions on...</td>\n",
       "      <td>Major Depressive Disorder | symptoms and brain...</td>\n",
       "      <td>None</td>\n",
       "    </tr>\n",
       "    <tr>\n",
       "      <th>89</th>\n",
       "      <td>NCT03540602</td>\n",
       "      <td>Polyphenol Rich Supplementation on Markers of ...</td>\n",
       "      <td>none</td>\n",
       "      <td>Polyphenol Rich Supplementation</td>\n",
       "    </tr>\n",
       "  </tbody>\n",
       "</table>\n",
       "<p>90 rows × 4 columns</p>\n",
       "</div>"
      ],
      "text/plain": [
       "         nct_id                                               text  \\\n",
       "0   NCT04849741  A Phase 1-3, Double-Blind, Randomized, Placebo...   \n",
       "1   NCT04576507  Effects of Repeated Cannabis Administration on...   \n",
       "2   NCT00261508  Efficacy And Safety Of Risperidone In The Trea...   \n",
       "3   NCT01495923  Randomized, Double-blind, Comparative-effectiv...   \n",
       "4   NCT03150563  Effects of Different Intensities of Passive St...   \n",
       "..          ...                                                ...   \n",
       "85  NCT03755362  Treatment of Periodontitis to Prevent Dementia...   \n",
       "86  NCT00506415  A 48-Week, Multicenter, Randomized, Double-Bli...   \n",
       "87  NCT01344447  Multicenter, Open-label Study to Evaluate the ...   \n",
       "88  NCT04184206  Effects of Attention Training Interventions on...   \n",
       "89  NCT03540602  Polyphenol Rich Supplementation on Markers of ...   \n",
       "\n",
       "                         gpt-4_predictions_conditions  \\\n",
       "0                                   Alexander Disease   \n",
       "1                                        Chronic pain   \n",
       "2   Autistic Disorder | Pervasive Developmental Di...   \n",
       "3          Lumbosacral Radiculopathy | Radicular Pain   \n",
       "4                                                None   \n",
       "..                                                ...   \n",
       "85  Periodontitis | Dementia | Asymptomatic Caroti...   \n",
       "86  Alzheimer's Disease | functional decline, cogn...   \n",
       "87                                               none   \n",
       "88  Major Depressive Disorder | symptoms and brain...   \n",
       "89                                               none   \n",
       "\n",
       "                      gpt-4_predictions_interventions  \n",
       "0                                              ION373  \n",
       "1   Cannabis | delta-9-tetrahydrocannabinol (THC) ...  \n",
       "2                                 Risperidone|Placebo  \n",
       "3              Epidural Steroid Injections|Gabapentin  \n",
       "4                                                none  \n",
       "..                                                ...  \n",
       "85                                               none  \n",
       "86                       Exelon® | rivastigmine patch  \n",
       "87                                         Gadobutrol  \n",
       "88                                               None  \n",
       "89                    Polyphenol Rich Supplementation  \n",
       "\n",
       "[90 rows x 4 columns]"
      ]
     },
     "execution_count": 41,
     "metadata": {},
     "output_type": "execute_result"
    }
   ],
   "source": [
    "ds_annotated_full"
   ]
  },
  {
   "cell_type": "code",
   "execution_count": 42,
   "id": "daca730b-d2af-4ddb-ad8c-37cd9d69bd74",
   "metadata": {},
   "outputs": [],
   "source": [
    "ds_annotated_full_copy = ds_annotated_full.copy()"
   ]
  },
  {
   "cell_type": "code",
   "execution_count": 66,
   "id": "28f297d0-d7b4-4c59-9828-9675ed2e8442",
   "metadata": {},
   "outputs": [],
   "source": [
    "conditions_col_name = f'{gpt_model}_predictions_conditions'\n",
    "interventions_col_name = f'{gpt_model}_predictions_interventions'"
   ]
  },
  {
   "cell_type": "code",
   "execution_count": 67,
   "id": "0da9f1f4-112d-4d40-9896-c7a151912938",
   "metadata": {},
   "outputs": [],
   "source": [
    "def clean_data(df, conditions_col, interventions_col):\n",
    "    \"\"\"\n",
    "    Clean and format the 'conditions' and 'interventions' columns in a dataframe.\n",
    "\n",
    "    Args:\n",
    "    df (DataFrame): The dataframe containing the data.\n",
    "    conditions_col (str): The name of the column containing condition data.\n",
    "    interventions_col (str): The name of the column containing intervention data.\n",
    "\n",
    "    Returns:\n",
    "    DataFrame: The dataframe with cleaned and formatted data.\n",
    "    \"\"\"\n",
    "\n",
    "    # Cleaning the conditions column\n",
    "    df[conditions_col] = df[conditions_col].str.replace(r'\\(.*\\)', '', regex=True)\n",
    "    df[conditions_col] = df[conditions_col].str.replace(',','|')\n",
    "    df[conditions_col] = df[conditions_col].str.replace('investigated disease names:','', case=False)\n",
    "    df[conditions_col] = df[conditions_col].str.replace('disease names:','', case=False)\n",
    "    df[conditions_col] = df[conditions_col].str.replace('related symptoms:','|', case=False)\n",
    "\n",
    "    # Cleaning the interventions column\n",
    "    intervention_phrases = [\n",
    "        'The drug names in the given clinical trial are:',\n",
    "        'The drug names found in the clinical trial are:',\n",
    "        'The drug names mentioned in the clinical trial are:'\n",
    "    ]\n",
    "    for phrase in intervention_phrases:\n",
    "        df[interventions_col] = df[interventions_col].str.replace(phrase, '')\n",
    "\n",
    "    return df\n"
   ]
  },
  {
   "cell_type": "code",
   "execution_count": 69,
   "id": "982b167d-e3ac-4d29-893b-71df08f6334c",
   "metadata": {},
   "outputs": [],
   "source": [
    "cleaned_df = clean_data(ds_annotated_full_copy, conditions_col_name, interventions_col_name)\n"
   ]
  },
  {
   "cell_type": "code",
   "execution_count": 70,
   "id": "3afa1c7e-315d-44d7-9f45-6bbb9cd559e2",
   "metadata": {},
   "outputs": [
    {
     "data": {
      "text/html": [
       "<div>\n",
       "<style scoped>\n",
       "    .dataframe tbody tr th:only-of-type {\n",
       "        vertical-align: middle;\n",
       "    }\n",
       "\n",
       "    .dataframe tbody tr th {\n",
       "        vertical-align: top;\n",
       "    }\n",
       "\n",
       "    .dataframe thead th {\n",
       "        text-align: right;\n",
       "    }\n",
       "</style>\n",
       "<table border=\"1\" class=\"dataframe\">\n",
       "  <thead>\n",
       "    <tr style=\"text-align: right;\">\n",
       "      <th></th>\n",
       "      <th>nct_id</th>\n",
       "      <th>text</th>\n",
       "      <th>gpt-4_predictions_conditions</th>\n",
       "      <th>gpt-4_predictions_interventions</th>\n",
       "    </tr>\n",
       "  </thead>\n",
       "  <tbody>\n",
       "    <tr>\n",
       "      <th>0</th>\n",
       "      <td>NCT04849741</td>\n",
       "      <td>A Phase 1-3, Double-Blind, Randomized, Placebo...</td>\n",
       "      <td>Alexander Disease</td>\n",
       "      <td>ION373</td>\n",
       "    </tr>\n",
       "    <tr>\n",
       "      <th>1</th>\n",
       "      <td>NCT04576507</td>\n",
       "      <td>Effects of Repeated Cannabis Administration on...</td>\n",
       "      <td>Chronic pain</td>\n",
       "      <td>Cannabis | delta-9-tetrahydrocannabinol (THC) ...</td>\n",
       "    </tr>\n",
       "    <tr>\n",
       "      <th>2</th>\n",
       "      <td>NCT00261508</td>\n",
       "      <td>Efficacy And Safety Of Risperidone In The Trea...</td>\n",
       "      <td>Autistic Disorder | Pervasive Developmental Di...</td>\n",
       "      <td>Risperidone|Placebo</td>\n",
       "    </tr>\n",
       "    <tr>\n",
       "      <th>3</th>\n",
       "      <td>NCT01495923</td>\n",
       "      <td>Randomized, Double-blind, Comparative-effectiv...</td>\n",
       "      <td>Lumbosacral Radiculopathy | Radicular Pain</td>\n",
       "      <td>Epidural Steroid Injections|Gabapentin</td>\n",
       "    </tr>\n",
       "    <tr>\n",
       "      <th>4</th>\n",
       "      <td>NCT03150563</td>\n",
       "      <td>Effects of Different Intensities of Passive St...</td>\n",
       "      <td>None</td>\n",
       "      <td>none</td>\n",
       "    </tr>\n",
       "    <tr>\n",
       "      <th>...</th>\n",
       "      <td>...</td>\n",
       "      <td>...</td>\n",
       "      <td>...</td>\n",
       "      <td>...</td>\n",
       "    </tr>\n",
       "    <tr>\n",
       "      <th>85</th>\n",
       "      <td>NCT03755362</td>\n",
       "      <td>Treatment of Periodontitis to Prevent Dementia...</td>\n",
       "      <td>Periodontitis | Dementia | Asymptomatic Caroti...</td>\n",
       "      <td>none</td>\n",
       "    </tr>\n",
       "    <tr>\n",
       "      <th>86</th>\n",
       "      <td>NCT00506415</td>\n",
       "      <td>A 48-Week, Multicenter, Randomized, Double-Bli...</td>\n",
       "      <td>Alzheimer's Disease | functional decline| cogn...</td>\n",
       "      <td>Exelon® | rivastigmine patch</td>\n",
       "    </tr>\n",
       "    <tr>\n",
       "      <th>87</th>\n",
       "      <td>NCT01344447</td>\n",
       "      <td>Multicenter, Open-label Study to Evaluate the ...</td>\n",
       "      <td>none</td>\n",
       "      <td>Gadobutrol</td>\n",
       "    </tr>\n",
       "    <tr>\n",
       "      <th>88</th>\n",
       "      <td>NCT04184206</td>\n",
       "      <td>Effects of Attention Training Interventions on...</td>\n",
       "      <td>Major Depressive Disorder | symptoms and brain...</td>\n",
       "      <td>None</td>\n",
       "    </tr>\n",
       "    <tr>\n",
       "      <th>89</th>\n",
       "      <td>NCT03540602</td>\n",
       "      <td>Polyphenol Rich Supplementation on Markers of ...</td>\n",
       "      <td>none</td>\n",
       "      <td>Polyphenol Rich Supplementation</td>\n",
       "    </tr>\n",
       "  </tbody>\n",
       "</table>\n",
       "<p>90 rows × 4 columns</p>\n",
       "</div>"
      ],
      "text/plain": [
       "         nct_id                                               text  \\\n",
       "0   NCT04849741  A Phase 1-3, Double-Blind, Randomized, Placebo...   \n",
       "1   NCT04576507  Effects of Repeated Cannabis Administration on...   \n",
       "2   NCT00261508  Efficacy And Safety Of Risperidone In The Trea...   \n",
       "3   NCT01495923  Randomized, Double-blind, Comparative-effectiv...   \n",
       "4   NCT03150563  Effects of Different Intensities of Passive St...   \n",
       "..          ...                                                ...   \n",
       "85  NCT03755362  Treatment of Periodontitis to Prevent Dementia...   \n",
       "86  NCT00506415  A 48-Week, Multicenter, Randomized, Double-Bli...   \n",
       "87  NCT01344447  Multicenter, Open-label Study to Evaluate the ...   \n",
       "88  NCT04184206  Effects of Attention Training Interventions on...   \n",
       "89  NCT03540602  Polyphenol Rich Supplementation on Markers of ...   \n",
       "\n",
       "                         gpt-4_predictions_conditions  \\\n",
       "0                                   Alexander Disease   \n",
       "1                                        Chronic pain   \n",
       "2   Autistic Disorder | Pervasive Developmental Di...   \n",
       "3          Lumbosacral Radiculopathy | Radicular Pain   \n",
       "4                                                None   \n",
       "..                                                ...   \n",
       "85  Periodontitis | Dementia | Asymptomatic Caroti...   \n",
       "86  Alzheimer's Disease | functional decline| cogn...   \n",
       "87                                               none   \n",
       "88  Major Depressive Disorder | symptoms and brain...   \n",
       "89                                               none   \n",
       "\n",
       "                      gpt-4_predictions_interventions  \n",
       "0                                              ION373  \n",
       "1   Cannabis | delta-9-tetrahydrocannabinol (THC) ...  \n",
       "2                                 Risperidone|Placebo  \n",
       "3              Epidural Steroid Injections|Gabapentin  \n",
       "4                                                none  \n",
       "..                                                ...  \n",
       "85                                               none  \n",
       "86                       Exelon® | rivastigmine patch  \n",
       "87                                         Gadobutrol  \n",
       "88                                               None  \n",
       "89                    Polyphenol Rich Supplementation  \n",
       "\n",
       "[90 rows x 4 columns]"
      ]
     },
     "execution_count": 70,
     "metadata": {},
     "output_type": "execute_result"
    }
   ],
   "source": [
    "cleaned_df"
   ]
  },
  {
   "cell_type": "code",
   "execution_count": 50,
   "id": "25fa73ee-5a08-4b6c-8f73-38c0440de4d8",
   "metadata": {},
   "outputs": [],
   "source": [
    "cleaned_df.to_csv(f\"../predictions/ct_neuro_test_annotated_{gpt_model}_20240129.csv\")"
   ]
  },
  {
   "cell_type": "code",
   "execution_count": null,
   "id": "f24853f9-690b-4d88-88ea-7a35503830a5",
   "metadata": {},
   "outputs": [],
   "source": []
  }
 ],
 "metadata": {
  "kernelspec": {
   "display_name": "Python 3 (ipykernel)",
   "language": "python",
   "name": "python3"
  },
  "language_info": {
   "codemirror_mode": {
    "name": "ipython",
    "version": 3
   },
   "file_extension": ".py",
   "mimetype": "text/x-python",
   "name": "python",
   "nbconvert_exporter": "python",
   "pygments_lexer": "ipython3",
   "version": "3.9.1"
  }
 },
 "nbformat": 4,
 "nbformat_minor": 5
}
