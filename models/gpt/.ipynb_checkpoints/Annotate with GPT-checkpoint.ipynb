{
 "cells": [
  {
   "cell_type": "code",
   "execution_count": 1,
   "id": "5292809a-a6bf-45b8-bfd6-1589ee42a7b1",
   "metadata": {},
   "outputs": [],
   "source": [
    "import pandas as pd\n",
    "import openai\n"
   ]
  },
  {
   "cell_type": "code",
   "execution_count": 28,
   "id": "ffe27d41-2dd1-4c6e-9395-ecdfb4234e8f",
   "metadata": {},
   "outputs": [
    {
     "data": {
      "text/html": [
       "<div>\n",
       "<style scoped>\n",
       "    .dataframe tbody tr th:only-of-type {\n",
       "        vertical-align: middle;\n",
       "    }\n",
       "\n",
       "    .dataframe tbody tr th {\n",
       "        vertical-align: top;\n",
       "    }\n",
       "\n",
       "    .dataframe thead th {\n",
       "        text-align: right;\n",
       "    }\n",
       "</style>\n",
       "<table border=\"1\" class=\"dataframe\">\n",
       "  <thead>\n",
       "    <tr style=\"text-align: right;\">\n",
       "      <th></th>\n",
       "      <th>nct_id</th>\n",
       "      <th>text</th>\n",
       "    </tr>\n",
       "  </thead>\n",
       "  <tbody>\n",
       "    <tr>\n",
       "      <th>0</th>\n",
       "      <td>NCT04849741</td>\n",
       "      <td>A Phase 1-3, Double-Blind, Randomized, Placebo...</td>\n",
       "    </tr>\n",
       "    <tr>\n",
       "      <th>1</th>\n",
       "      <td>NCT04576507</td>\n",
       "      <td>Effects of Repeated Cannabis Administration on...</td>\n",
       "    </tr>\n",
       "    <tr>\n",
       "      <th>2</th>\n",
       "      <td>NCT00261508</td>\n",
       "      <td>Efficacy And Safety Of Risperidone In The Trea...</td>\n",
       "    </tr>\n",
       "    <tr>\n",
       "      <th>3</th>\n",
       "      <td>NCT01495923</td>\n",
       "      <td>Randomized, Double-blind, Comparative-effectiv...</td>\n",
       "    </tr>\n",
       "    <tr>\n",
       "      <th>4</th>\n",
       "      <td>NCT03150563</td>\n",
       "      <td>Effects of Different Intensities of Passive St...</td>\n",
       "    </tr>\n",
       "  </tbody>\n",
       "</table>\n",
       "</div>"
      ],
      "text/plain": [
       "        nct_id                                               text\n",
       "0  NCT04849741  A Phase 1-3, Double-Blind, Randomized, Placebo...\n",
       "1  NCT04576507  Effects of Repeated Cannabis Administration on...\n",
       "2  NCT00261508  Efficacy And Safety Of Risperidone In The Trea...\n",
       "3  NCT01495923  Randomized, Double-blind, Comparative-effectiv...\n",
       "4  NCT03150563  Effects of Different Intensities of Passive St..."
      ]
     },
     "execution_count": 28,
     "metadata": {},
     "output_type": "execute_result"
    }
   ],
   "source": [
    "ds_annotated_full = pd.read_csv(\"../../data/annotated_data/data_splits/ct_neuro_test_merged_90.csv\")[['nct_id','text']]\n",
    "ds_annotated_full.head()"
   ]
  },
  {
   "cell_type": "code",
   "execution_count": 29,
   "id": "5410c439-9e4e-4878-90c0-e8ca1d25c2ef",
   "metadata": {},
   "outputs": [],
   "source": [
    "def load_pass(file_path, key_to_find):\n",
    "    with open(file_path, 'r') as file:\n",
    "        for line in file:\n",
    "            parts = line.strip().split(\"=\")\n",
    "            if len(parts) == 2 and parts[0] == key_to_find:\n",
    "                found_password = parts[1]\n",
    "                break\n",
    "    if found_password:\n",
    "        print(\"Found password.\")\n",
    "        return found_password\n",
    "    else:\n",
    "        print(\"Password not found for key:\", key_to_find)"
   ]
  },
  {
   "cell_type": "code",
   "execution_count": 37,
   "id": "3ea3f587-8b26-4b55-a423-cad38eb7bad1",
   "metadata": {},
   "outputs": [],
   "source": [
    "import time\n",
    "def query_gpt(input_raw_text, task, gpt_model=\"gpt-3.5-turbo\", max_retries=5, retry_delay=2):\n",
    "    # Add a 20-second delay at the beginning of the function\n",
    "    time.sleep(3)\n",
    "    \n",
    "    if task == \"extract_interventions\":\n",
    "        prompt = \"Extract the drug names from the following clinical trial and return them in a list separated with the | symbol. If none is found, return only the word none.: \"\n",
    "    elif task == \"extract_conditions\":\n",
    "        prompt = \"Extract the investigated disease names and related symptoms from the following clinical trial. Return them in a single list separated with the | symbol. If none is found, return only the word none: \"\n",
    "\n",
    "    retries = 0\n",
    "    while retries < max_retries:\n",
    "        try:\n",
    "            completion = openai.ChatCompletion.create(\n",
    "                model=gpt_model,\n",
    "                temperature=0.6,\n",
    "                max_tokens=2000,\n",
    "                messages=[\n",
    "                    {\"role\": \"system\", \"content\": \"You are an expert information extraction assistant from clinical trials.\"},\n",
    "                    {\"role\": \"user\",\n",
    "                     \"content\": prompt + input_raw_text}\n",
    "                ]\n",
    "            )\n",
    "            return completion.choices[0].message.content\n",
    "        except openai.error.Timeout as e:\n",
    "          #Handle timeout error, e.g. retry or log\n",
    "          print(f\"OpenAI API request timed out: {e}\")\n",
    "          pass\n",
    "        except openai.error.APIError as e:\n",
    "          #Handle API error, e.g. retry or log\n",
    "          print(f\"OpenAI API returned an API Error: {e}\")\n",
    "          pass\n",
    "        except openai.error.APIConnectionError as e:\n",
    "          #Handle connection error, e.g. check network or log\n",
    "          print(f\"OpenAI API request failed to connect: {e}\")\n",
    "          pass\n",
    "        except openai.error.InvalidRequestError as e:\n",
    "          #Handle invalid request error, e.g. validate parameters or log\n",
    "          print(f\"OpenAI API request was invalid: {e}\")\n",
    "          pass\n",
    "        except openai.error.AuthenticationError as e:\n",
    "          #Handle authentication error, e.g. check credentials or log\n",
    "          print(f\"OpenAI API request was not authorized: {e}\")\n",
    "          pass\n",
    "        except openai.error.PermissionError as e:\n",
    "          #Handle permission error, e.g. check scope or log\n",
    "          print(f\"OpenAI API request was not permitted: {e}\")\n",
    "          pass\n",
    "        except openai.error.RateLimitError as e:\n",
    "          #Handle rate limit error, e.g. wait or log\n",
    "          print(f\"OpenAI API request exceeded rate limit: {e}\")\n",
    "          pass # Re-raise the exception for other errors\n",
    "    raise RuntimeError(\"Max retries reached. Unable to complete the API call.\")\n"
   ]
  },
  {
   "cell_type": "code",
   "execution_count": 31,
   "id": "77f8697d-b0c0-4231-92f4-e7e0946961b5",
   "metadata": {},
   "outputs": [
    {
     "name": "stdout",
     "output_type": "stream",
     "text": [
      "Found password.\n"
     ]
    }
   ],
   "source": [
    "openai.api_key = load_pass(\"../../credentials.txt\", \"OPENAI\")\n",
    "gpt_model=\"gpt-4\""
   ]
  },
  {
   "cell_type": "markdown",
   "id": "3ed68849-8c6e-459f-9f44-cea1033f7a11",
   "metadata": {},
   "source": [
    "### example"
   ]
  },
  {
   "cell_type": "code",
   "execution_count": 25,
   "id": "7a71e4d0-1294-403a-9f88-79315921f2df",
   "metadata": {},
   "outputs": [
    {
     "data": {
      "text/plain": [
       "'A Phase 1-3, Double-Blind, Randomized, Placebo-Controlled Study to Evaluate the Efficacy, Safety, Pharmacokinetics and Pharmacodynamics of Intrathecally Administered ION373 in Patients With Alexander Disease | The purpose of this study is to evaluate the safety and efficacy of ION373 in improving or stabilizing gross motor function across the full range of affected domains in patients with AxD.'"
      ]
     },
     "execution_count": 25,
     "metadata": {},
     "output_type": "execute_result"
    }
   ],
   "source": [
    "ds_annotated_full['text'][0]"
   ]
  },
  {
   "cell_type": "code",
   "execution_count": 26,
   "id": "b38c016d-cf2f-493b-af2e-38a9d21150f3",
   "metadata": {},
   "outputs": [
    {
     "data": {
      "text/plain": [
       "\"Polyphenol Rich Supplementation on Markers of Recovery From Intense Resistance Exercise | Strength training is commonly used as an intervention to increase muscle mass, thus improving a person's ability to undertake activities of daily living, or enhance athletic performance. The strength training regimen itself, while ultimately having beneficial effects, causes muscle fibers to be damaged, which the body has to recover from. As the body recovers, it rebuilds the muscle tissue and after multiple consecutive bouts of strength training, the muscle eventually becomes larger and stronger. Thus, it is the recovery from strength training exercise that ultimately determines how well the body adapts. Where inadequate recovery could eventually lead to overtraining and/or injury, optimizing the recovery process from strength training could maximize strength training adaptations. This concept of optimizing recovery has led to development of many supplements, including antioxidants, which may reduce the damage associated with strength training activities and therefore enhance positive adaptations. The purpose of this study is to assess the ability of a polyphenol rich supplementation to aid the recovery process from a demanding bout of resistance exercise\""
      ]
     },
     "execution_count": 26,
     "metadata": {},
     "output_type": "execute_result"
    }
   ],
   "source": [
    "ds_annotated_full['text'][89]"
   ]
  },
  {
   "cell_type": "code",
   "execution_count": 27,
   "id": "09b02909-ff3f-49c8-8955-8c0bff5da7cf",
   "metadata": {},
   "outputs": [
    {
     "name": "stdout",
     "output_type": "stream",
     "text": [
      "Using gpt-3.5-turbo for extract_conditions.\n"
     ]
    },
    {
     "data": {
      "text/plain": [
       "'Alexander Disease | none'"
      ]
     },
     "execution_count": 27,
     "metadata": {},
     "output_type": "execute_result"
    }
   ],
   "source": [
    "query_gpt(ds_annotated_full['text'][0], \"extract_conditions\")"
   ]
  },
  {
   "cell_type": "code",
   "execution_count": 18,
   "id": "5b4bd1fc-70ef-4ece-87ac-81ed11b6d114",
   "metadata": {},
   "outputs": [
    {
     "data": {
      "text/plain": [
       "'Exelon® | rivastigmine patch'"
      ]
     },
     "execution_count": 18,
     "metadata": {},
     "output_type": "execute_result"
    }
   ],
   "source": [
    "query_gpt(ds_annotated_full['text'][86], \"extract_interventions\")"
   ]
  },
  {
   "cell_type": "markdown",
   "id": "326be4a0-365e-48b8-8812-23522a8a7d1c",
   "metadata": {},
   "source": [
    "### run over full test dataset"
   ]
  },
  {
   "cell_type": "code",
   "execution_count": 38,
   "id": "0dbbd227-0520-4a52-bcd2-4aca38229e3c",
   "metadata": {},
   "outputs": [],
   "source": [
    "#ds_annotated_full['gpt_predictions_interventions'] = ds_annotated_full['text'].apply(lambda text: query_gpt(text, \"extract_interventions\"))\n",
    "from tqdm import tqdm  # Import tqdm for the progress bar\n",
    "\n",
    "# Define a function to apply GPT queries with a progress bar\n",
    "def apply_gpt_with_progress(data_series, task, gpt_model=\"gpt-3.5-turbo\"):\n",
    "    results = []\n",
    "    total_items = len(data_series)\n",
    "    print(f\"Using {gpt_model} for {task}.\")\n",
    "\n",
    "    # Create a tqdm progress bar\n",
    "    with tqdm(total=total_items, desc=f\"Processing {task}\") as pbar:\n",
    "        for text in data_series:\n",
    "            result = query_gpt(text, task, gpt_model=gpt_model)\n",
    "            results.append(result)\n",
    "            pbar.update(1)  # Update the progress bar\n",
    "\n",
    "    return results\n"
   ]
  },
  {
   "cell_type": "code",
   "execution_count": 39,
   "id": "00d903bd-0674-4591-a97b-55fbdc9e5298",
   "metadata": {},
   "outputs": [
    {
     "name": "stdout",
     "output_type": "stream",
     "text": [
      "Using gpt-4 for extract_conditions.\n"
     ]
    },
    {
     "name": "stderr",
     "output_type": "stream",
     "text": [
      "Processing extract_conditions: 100%|████████████████████████████████████████████████████████████████████████████████████████████████████████████████████████████████████████████████████████████| 90/90 [06:44<00:00,  4.49s/it]\n"
     ]
    }
   ],
   "source": [
    "ds_annotated_full[f'{gpt_model}_predictions_conditions'] = apply_gpt_with_progress(ds_annotated_full['text'], \"extract_conditions\", gpt_model=gpt_model)"
   ]
  },
  {
   "cell_type": "code",
   "execution_count": 40,
   "id": "6261c8c0-41f1-45ac-9f08-e858b449dd9e",
   "metadata": {},
   "outputs": [
    {
     "name": "stdout",
     "output_type": "stream",
     "text": [
      "Using gpt-4 for extract_interventions.\n"
     ]
    },
    {
     "name": "stderr",
     "output_type": "stream",
     "text": [
      "Processing extract_interventions:  28%|██████████████████████████████████████████▌                                                                                                              | 25/90 [06:14<30:02, 27.73s/it]"
     ]
    },
    {
     "name": "stdout",
     "output_type": "stream",
     "text": [
      "OpenAI API request failed to connect: Error communicating with OpenAI: HTTPSConnectionPool(host='api.openai.com', port=443): Max retries exceeded with url: /v1/chat/completions (Caused by NewConnectionError('<urllib3.connection.HTTPSConnection object at 0x7f9602ae72e0>: Failed to establish a new connection: [Errno 8] nodename nor servname provided, or not known'))\n"
     ]
    },
    {
     "name": "stderr",
     "output_type": "stream",
     "text": [
      "Processing extract_interventions: 100%|█████████████████████████████████████████████████████████████████████████████████████████████████████████████████████████████████████████████████████████| 90/90 [14:11<00:00,  9.46s/it]\n"
     ]
    }
   ],
   "source": [
    "ds_annotated_full[f'{gpt_model}_predictions_interventions'] = apply_gpt_with_progress(ds_annotated_full['text'], \"extract_interventions\", gpt_model=gpt_model)"
   ]
  },
  {
   "cell_type": "code",
   "execution_count": 41,
   "id": "54888db1-016a-4b0c-9dfe-2e18d71f2124",
   "metadata": {},
   "outputs": [
    {
     "data": {
      "text/html": [
       "<div>\n",
       "<style scoped>\n",
       "    .dataframe tbody tr th:only-of-type {\n",
       "        vertical-align: middle;\n",
       "    }\n",
       "\n",
       "    .dataframe tbody tr th {\n",
       "        vertical-align: top;\n",
       "    }\n",
       "\n",
       "    .dataframe thead th {\n",
       "        text-align: right;\n",
       "    }\n",
       "</style>\n",
       "<table border=\"1\" class=\"dataframe\">\n",
       "  <thead>\n",
       "    <tr style=\"text-align: right;\">\n",
       "      <th></th>\n",
       "      <th>nct_id</th>\n",
       "      <th>text</th>\n",
       "      <th>gpt-4_predictions_conditions</th>\n",
       "      <th>gpt-4_predictions_interventions</th>\n",
       "    </tr>\n",
       "  </thead>\n",
       "  <tbody>\n",
       "    <tr>\n",
       "      <th>0</th>\n",
       "      <td>NCT04849741</td>\n",
       "      <td>A Phase 1-3, Double-Blind, Randomized, Placebo...</td>\n",
       "      <td>Alexander Disease</td>\n",
       "      <td>ION373</td>\n",
       "    </tr>\n",
       "    <tr>\n",
       "      <th>1</th>\n",
       "      <td>NCT04576507</td>\n",
       "      <td>Effects of Repeated Cannabis Administration on...</td>\n",
       "      <td>Chronic pain</td>\n",
       "      <td>Cannabis | delta-9-tetrahydrocannabinol (THC) ...</td>\n",
       "    </tr>\n",
       "    <tr>\n",
       "      <th>2</th>\n",
       "      <td>NCT00261508</td>\n",
       "      <td>Efficacy And Safety Of Risperidone In The Trea...</td>\n",
       "      <td>Autistic Disorder | Pervasive Developmental Di...</td>\n",
       "      <td>Risperidone|Placebo</td>\n",
       "    </tr>\n",
       "    <tr>\n",
       "      <th>3</th>\n",
       "      <td>NCT01495923</td>\n",
       "      <td>Randomized, Double-blind, Comparative-effectiv...</td>\n",
       "      <td>Lumbosacral Radiculopathy | Radicular Pain</td>\n",
       "      <td>Epidural Steroid Injections|Gabapentin</td>\n",
       "    </tr>\n",
       "    <tr>\n",
       "      <th>4</th>\n",
       "      <td>NCT03150563</td>\n",
       "      <td>Effects of Different Intensities of Passive St...</td>\n",
       "      <td>None</td>\n",
       "      <td>none</td>\n",
       "    </tr>\n",
       "    <tr>\n",
       "      <th>...</th>\n",
       "      <td>...</td>\n",
       "      <td>...</td>\n",
       "      <td>...</td>\n",
       "      <td>...</td>\n",
       "    </tr>\n",
       "    <tr>\n",
       "      <th>85</th>\n",
       "      <td>NCT03755362</td>\n",
       "      <td>Treatment of Periodontitis to Prevent Dementia...</td>\n",
       "      <td>Periodontitis | Dementia | Asymptomatic Caroti...</td>\n",
       "      <td>none</td>\n",
       "    </tr>\n",
       "    <tr>\n",
       "      <th>86</th>\n",
       "      <td>NCT00506415</td>\n",
       "      <td>A 48-Week, Multicenter, Randomized, Double-Bli...</td>\n",
       "      <td>Alzheimer's Disease | functional decline, cogn...</td>\n",
       "      <td>Exelon® | rivastigmine patch</td>\n",
       "    </tr>\n",
       "    <tr>\n",
       "      <th>87</th>\n",
       "      <td>NCT01344447</td>\n",
       "      <td>Multicenter, Open-label Study to Evaluate the ...</td>\n",
       "      <td>none</td>\n",
       "      <td>Gadobutrol</td>\n",
       "    </tr>\n",
       "    <tr>\n",
       "      <th>88</th>\n",
       "      <td>NCT04184206</td>\n",
       "      <td>Effects of Attention Training Interventions on...</td>\n",
       "      <td>Major Depressive Disorder | symptoms and brain...</td>\n",
       "      <td>None</td>\n",
       "    </tr>\n",
       "    <tr>\n",
       "      <th>89</th>\n",
       "      <td>NCT03540602</td>\n",
       "      <td>Polyphenol Rich Supplementation on Markers of ...</td>\n",
       "      <td>none</td>\n",
       "      <td>Polyphenol Rich Supplementation</td>\n",
       "    </tr>\n",
       "  </tbody>\n",
       "</table>\n",
       "<p>90 rows × 4 columns</p>\n",
       "</div>"
      ],
      "text/plain": [
       "         nct_id                                               text  \\\n",
       "0   NCT04849741  A Phase 1-3, Double-Blind, Randomized, Placebo...   \n",
       "1   NCT04576507  Effects of Repeated Cannabis Administration on...   \n",
       "2   NCT00261508  Efficacy And Safety Of Risperidone In The Trea...   \n",
       "3   NCT01495923  Randomized, Double-blind, Comparative-effectiv...   \n",
       "4   NCT03150563  Effects of Different Intensities of Passive St...   \n",
       "..          ...                                                ...   \n",
       "85  NCT03755362  Treatment of Periodontitis to Prevent Dementia...   \n",
       "86  NCT00506415  A 48-Week, Multicenter, Randomized, Double-Bli...   \n",
       "87  NCT01344447  Multicenter, Open-label Study to Evaluate the ...   \n",
       "88  NCT04184206  Effects of Attention Training Interventions on...   \n",
       "89  NCT03540602  Polyphenol Rich Supplementation on Markers of ...   \n",
       "\n",
       "                         gpt-4_predictions_conditions  \\\n",
       "0                                   Alexander Disease   \n",
       "1                                        Chronic pain   \n",
       "2   Autistic Disorder | Pervasive Developmental Di...   \n",
       "3          Lumbosacral Radiculopathy | Radicular Pain   \n",
       "4                                                None   \n",
       "..                                                ...   \n",
       "85  Periodontitis | Dementia | Asymptomatic Caroti...   \n",
       "86  Alzheimer's Disease | functional decline, cogn...   \n",
       "87                                               none   \n",
       "88  Major Depressive Disorder | symptoms and brain...   \n",
       "89                                               none   \n",
       "\n",
       "                      gpt-4_predictions_interventions  \n",
       "0                                              ION373  \n",
       "1   Cannabis | delta-9-tetrahydrocannabinol (THC) ...  \n",
       "2                                 Risperidone|Placebo  \n",
       "3              Epidural Steroid Injections|Gabapentin  \n",
       "4                                                none  \n",
       "..                                                ...  \n",
       "85                                               none  \n",
       "86                       Exelon® | rivastigmine patch  \n",
       "87                                         Gadobutrol  \n",
       "88                                               None  \n",
       "89                    Polyphenol Rich Supplementation  \n",
       "\n",
       "[90 rows x 4 columns]"
      ]
     },
     "execution_count": 41,
     "metadata": {},
     "output_type": "execute_result"
    }
   ],
   "source": [
    "ds_annotated_full"
   ]
  },
  {
   "cell_type": "code",
   "execution_count": 42,
   "id": "daca730b-d2af-4ddb-ad8c-37cd9d69bd74",
   "metadata": {},
   "outputs": [],
   "source": [
    "ds_annotated_full_copy = ds_annotated_full.copy()"
   ]
  },
  {
   "cell_type": "markdown",
   "id": "9dad51c6-68be-43b6-adc3-fb418135724e",
   "metadata": {},
   "source": [
    "### post-processing"
   ]
  },
  {
   "cell_type": "code",
   "execution_count": 44,
   "id": "28f297d0-d7b4-4c59-9828-9675ed2e8442",
   "metadata": {},
   "outputs": [],
   "source": [
    "conditions_col_name = f'{gpt_model}_predictions_conditions'\n",
    "interventions_col_name = f'{gpt_model}_predictions_interventions'"
   ]
  },
  {
   "cell_type": "code",
   "execution_count": 45,
   "id": "338d5b20-8fda-4d77-9a4a-bf924aaebba6",
   "metadata": {},
   "outputs": [],
   "source": [
    "ds_annotated_full_copy[conditions_col_name] = ds_annotated_full_copy[conditions_col_name].str.replace(r'\\(.*\\)', '', regex=True)\n",
    "ds_annotated_full_copy[interventions_col_name] = ds_annotated_full_copy[interventions_col_name].str.replace('The drug names in the given clinical trial are:', '')\n",
    "ds_annotated_full_copy[interventions_col_name] = ds_annotated_full_copy[interventions_col_name].str.replace('The drug names found in the clinical trial are:', '')\n",
    "ds_annotated_full_copy[interventions_col_name] = ds_annotated_full_copy[interventions_col_name].str.replace('The drug names mentioned in the clinical trial are:', '')"
   ]
  },
  {
   "cell_type": "code",
   "execution_count": 46,
   "id": "c0509806-e92f-47ab-af56-0b196c773c44",
   "metadata": {},
   "outputs": [],
   "source": [
    "#ds_annotated_full_copy.loc[ds_annotated_full_copy['gpt_predictions_interventions'].str.contains('investigated disease names:'), 'gpt_predictions_interventions'] = ds_annotated_full_copy['gpt_predictions_interventions'].str.replace(',', '|')\n",
    "#ds_annotated_full_copy.loc[ds_annotated_full_copy['gpt_predictions_interventions'].str.contains('Investigated disease names:'), 'gpt_predictions_interventions'] = ds_annotated_full_copy['gpt_predictions_interventions'].str.replace(',', '|')\n",
    "#ds_annotated_full_copy.loc[ds_annotated_full_copy['gpt_predictions_interventions'].str.contains('disease names:'), 'gpt_predictions_interventions'] = ds_annotated_full_copy['gpt_predictions_interventions'].str.replace(',', '|')\n",
    "ds_annotated_full_copy[conditions_col_name] = ds_annotated_full_copy[conditions_col_name].str.replace(',','|')\n"
   ]
  },
  {
   "cell_type": "code",
   "execution_count": 47,
   "id": "825c2fc9-8066-45f2-9448-06c4db2039ba",
   "metadata": {},
   "outputs": [],
   "source": [
    "ds_annotated_full_copy[conditions_col_name] = ds_annotated_full_copy[conditions_col_name].str.replace('investigated disease names:','')\n",
    "ds_annotated_full_copy[conditions_col_name] = ds_annotated_full_copy[conditions_col_name].str.replace('Investigated disease names:','')\n",
    "ds_annotated_full_copy[conditions_col_name] = ds_annotated_full_copy[conditions_col_name].str.replace('disease names:','')"
   ]
  },
  {
   "cell_type": "code",
   "execution_count": 48,
   "id": "70749761-e29b-4bdf-a3a1-affa33aa9826",
   "metadata": {},
   "outputs": [],
   "source": [
    "ds_annotated_full_copy[conditions_col_name] = ds_annotated_full_copy[conditions_col_name].str.replace('related symptoms:','|')\n",
    "ds_annotated_full_copy[conditions_col_name] = ds_annotated_full_copy[conditions_col_name].str.replace('Related symptoms:','|')"
   ]
  },
  {
   "cell_type": "code",
   "execution_count": 49,
   "id": "3afa1c7e-315d-44d7-9f45-6bbb9cd559e2",
   "metadata": {},
   "outputs": [
    {
     "data": {
      "text/html": [
       "<div>\n",
       "<style scoped>\n",
       "    .dataframe tbody tr th:only-of-type {\n",
       "        vertical-align: middle;\n",
       "    }\n",
       "\n",
       "    .dataframe tbody tr th {\n",
       "        vertical-align: top;\n",
       "    }\n",
       "\n",
       "    .dataframe thead th {\n",
       "        text-align: right;\n",
       "    }\n",
       "</style>\n",
       "<table border=\"1\" class=\"dataframe\">\n",
       "  <thead>\n",
       "    <tr style=\"text-align: right;\">\n",
       "      <th></th>\n",
       "      <th>nct_id</th>\n",
       "      <th>text</th>\n",
       "      <th>gpt-4_predictions_conditions</th>\n",
       "      <th>gpt-4_predictions_interventions</th>\n",
       "    </tr>\n",
       "  </thead>\n",
       "  <tbody>\n",
       "    <tr>\n",
       "      <th>0</th>\n",
       "      <td>NCT04849741</td>\n",
       "      <td>A Phase 1-3, Double-Blind, Randomized, Placebo...</td>\n",
       "      <td>Alexander Disease</td>\n",
       "      <td>ION373</td>\n",
       "    </tr>\n",
       "    <tr>\n",
       "      <th>1</th>\n",
       "      <td>NCT04576507</td>\n",
       "      <td>Effects of Repeated Cannabis Administration on...</td>\n",
       "      <td>Chronic pain</td>\n",
       "      <td>Cannabis | delta-9-tetrahydrocannabinol (THC) ...</td>\n",
       "    </tr>\n",
       "    <tr>\n",
       "      <th>2</th>\n",
       "      <td>NCT00261508</td>\n",
       "      <td>Efficacy And Safety Of Risperidone In The Trea...</td>\n",
       "      <td>Autistic Disorder | Pervasive Developmental Di...</td>\n",
       "      <td>Risperidone|Placebo</td>\n",
       "    </tr>\n",
       "    <tr>\n",
       "      <th>3</th>\n",
       "      <td>NCT01495923</td>\n",
       "      <td>Randomized, Double-blind, Comparative-effectiv...</td>\n",
       "      <td>Lumbosacral Radiculopathy | Radicular Pain</td>\n",
       "      <td>Epidural Steroid Injections|Gabapentin</td>\n",
       "    </tr>\n",
       "    <tr>\n",
       "      <th>4</th>\n",
       "      <td>NCT03150563</td>\n",
       "      <td>Effects of Different Intensities of Passive St...</td>\n",
       "      <td>None</td>\n",
       "      <td>none</td>\n",
       "    </tr>\n",
       "    <tr>\n",
       "      <th>...</th>\n",
       "      <td>...</td>\n",
       "      <td>...</td>\n",
       "      <td>...</td>\n",
       "      <td>...</td>\n",
       "    </tr>\n",
       "    <tr>\n",
       "      <th>85</th>\n",
       "      <td>NCT03755362</td>\n",
       "      <td>Treatment of Periodontitis to Prevent Dementia...</td>\n",
       "      <td>Periodontitis | Dementia | Asymptomatic Caroti...</td>\n",
       "      <td>none</td>\n",
       "    </tr>\n",
       "    <tr>\n",
       "      <th>86</th>\n",
       "      <td>NCT00506415</td>\n",
       "      <td>A 48-Week, Multicenter, Randomized, Double-Bli...</td>\n",
       "      <td>Alzheimer's Disease | functional decline| cogn...</td>\n",
       "      <td>Exelon® | rivastigmine patch</td>\n",
       "    </tr>\n",
       "    <tr>\n",
       "      <th>87</th>\n",
       "      <td>NCT01344447</td>\n",
       "      <td>Multicenter, Open-label Study to Evaluate the ...</td>\n",
       "      <td>none</td>\n",
       "      <td>Gadobutrol</td>\n",
       "    </tr>\n",
       "    <tr>\n",
       "      <th>88</th>\n",
       "      <td>NCT04184206</td>\n",
       "      <td>Effects of Attention Training Interventions on...</td>\n",
       "      <td>Major Depressive Disorder | symptoms and brain...</td>\n",
       "      <td>None</td>\n",
       "    </tr>\n",
       "    <tr>\n",
       "      <th>89</th>\n",
       "      <td>NCT03540602</td>\n",
       "      <td>Polyphenol Rich Supplementation on Markers of ...</td>\n",
       "      <td>none</td>\n",
       "      <td>Polyphenol Rich Supplementation</td>\n",
       "    </tr>\n",
       "  </tbody>\n",
       "</table>\n",
       "<p>90 rows × 4 columns</p>\n",
       "</div>"
      ],
      "text/plain": [
       "         nct_id                                               text  \\\n",
       "0   NCT04849741  A Phase 1-3, Double-Blind, Randomized, Placebo...   \n",
       "1   NCT04576507  Effects of Repeated Cannabis Administration on...   \n",
       "2   NCT00261508  Efficacy And Safety Of Risperidone In The Trea...   \n",
       "3   NCT01495923  Randomized, Double-blind, Comparative-effectiv...   \n",
       "4   NCT03150563  Effects of Different Intensities of Passive St...   \n",
       "..          ...                                                ...   \n",
       "85  NCT03755362  Treatment of Periodontitis to Prevent Dementia...   \n",
       "86  NCT00506415  A 48-Week, Multicenter, Randomized, Double-Bli...   \n",
       "87  NCT01344447  Multicenter, Open-label Study to Evaluate the ...   \n",
       "88  NCT04184206  Effects of Attention Training Interventions on...   \n",
       "89  NCT03540602  Polyphenol Rich Supplementation on Markers of ...   \n",
       "\n",
       "                         gpt-4_predictions_conditions  \\\n",
       "0                                   Alexander Disease   \n",
       "1                                        Chronic pain   \n",
       "2   Autistic Disorder | Pervasive Developmental Di...   \n",
       "3          Lumbosacral Radiculopathy | Radicular Pain   \n",
       "4                                                None   \n",
       "..                                                ...   \n",
       "85  Periodontitis | Dementia | Asymptomatic Caroti...   \n",
       "86  Alzheimer's Disease | functional decline| cogn...   \n",
       "87                                               none   \n",
       "88  Major Depressive Disorder | symptoms and brain...   \n",
       "89                                               none   \n",
       "\n",
       "                      gpt-4_predictions_interventions  \n",
       "0                                              ION373  \n",
       "1   Cannabis | delta-9-tetrahydrocannabinol (THC) ...  \n",
       "2                                 Risperidone|Placebo  \n",
       "3              Epidural Steroid Injections|Gabapentin  \n",
       "4                                                none  \n",
       "..                                                ...  \n",
       "85                                               none  \n",
       "86                       Exelon® | rivastigmine patch  \n",
       "87                                         Gadobutrol  \n",
       "88                                               None  \n",
       "89                    Polyphenol Rich Supplementation  \n",
       "\n",
       "[90 rows x 4 columns]"
      ]
     },
     "execution_count": 49,
     "metadata": {},
     "output_type": "execute_result"
    }
   ],
   "source": [
    "ds_annotated_full_copy"
   ]
  },
  {
   "cell_type": "code",
   "execution_count": 50,
   "id": "25fa73ee-5a08-4b6c-8f73-38c0440de4d8",
   "metadata": {},
   "outputs": [],
   "source": [
    "ds_annotated_full_copy.to_csv(f\"../predictions/ct_neuro_test_annotated_{gpt_model}_20240129.csv\")"
   ]
  },
  {
   "cell_type": "code",
   "execution_count": null,
   "id": "f24853f9-690b-4d88-88ea-7a35503830a5",
   "metadata": {},
   "outputs": [],
   "source": []
  }
 ],
 "metadata": {
  "kernelspec": {
   "display_name": "Python 3 (ipykernel)",
   "language": "python",
   "name": "python3"
  },
  "language_info": {
   "codemirror_mode": {
    "name": "ipython",
    "version": 3
   },
   "file_extension": ".py",
   "mimetype": "text/x-python",
   "name": "python",
   "nbconvert_exporter": "python",
   "pygments_lexer": "ipython3",
   "version": "3.9.1"
  }
 },
 "nbformat": 4,
 "nbformat_minor": 5
}
