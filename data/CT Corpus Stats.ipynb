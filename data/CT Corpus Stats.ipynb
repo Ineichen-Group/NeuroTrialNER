{
 "cells": [
  {
   "cell_type": "code",
   "execution_count": 1,
   "id": "39b3cad1-a6d2-48a9-b4d2-fb5b835cc037",
   "metadata": {},
   "outputs": [],
   "source": [
    "import pandas as pd\n",
    "import matplotlib.pyplot as plt\n"
   ]
  },
  {
   "cell_type": "code",
   "execution_count": 2,
   "id": "42078e0f-fa5c-47c2-ae0a-642c01bb7d76",
   "metadata": {},
   "outputs": [
    {
     "data": {
      "text/html": [
       "<div>\n",
       "<style scoped>\n",
       "    .dataframe tbody tr th:only-of-type {\n",
       "        vertical-align: middle;\n",
       "    }\n",
       "\n",
       "    .dataframe tbody tr th {\n",
       "        vertical-align: top;\n",
       "    }\n",
       "\n",
       "    .dataframe thead th {\n",
       "        text-align: right;\n",
       "    }\n",
       "</style>\n",
       "<table border=\"1\" class=\"dataframe\">\n",
       "  <thead>\n",
       "    <tr style=\"text-align: right;\">\n",
       "      <th></th>\n",
       "      <th>tokens</th>\n",
       "      <th>ner_tags</th>\n",
       "      <th>id</th>\n",
       "      <th>nct_id</th>\n",
       "      <th>text</th>\n",
       "      <th>ner_manual_ct_target</th>\n",
       "    </tr>\n",
       "  </thead>\n",
       "  <tbody>\n",
       "    <tr>\n",
       "      <th>0</th>\n",
       "      <td>['Drug', 'Eluting', 'Stenting', 'and', 'Aggres...</td>\n",
       "      <td>['B-OTHER', 'I-OTHER', 'I-OTHER', 'O', 'B-OTHE...</td>\n",
       "      <td>NCT04948749</td>\n",
       "      <td>NCT04948749</td>\n",
       "      <td>Drug Eluting Stenting and Aggressive Medical T...</td>\n",
       "      <td>[(0, 21, 'OTHER', 'Drug Eluting Stenting'), (2...</td>\n",
       "    </tr>\n",
       "    <tr>\n",
       "      <th>1</th>\n",
       "      <td>['An', 'Ascending', 'Multiple', 'Dose', 'Study...</td>\n",
       "      <td>['O', 'O', 'O', 'O', 'O', 'O', 'O', 'O', 'O', ...</td>\n",
       "      <td>NCT00480818</td>\n",
       "      <td>NCT00480818</td>\n",
       "      <td>An Ascending Multiple Dose Study of the Safety...</td>\n",
       "      <td>[(100, 107, 'DRUG', 'SAM-531'), (242, 249, 'DR...</td>\n",
       "    </tr>\n",
       "    <tr>\n",
       "      <th>2</th>\n",
       "      <td>['Xuanwu', 'Hospital', 'Capital', 'Medical', '...</td>\n",
       "      <td>['O', 'O', 'O', 'O', 'O', 'O', 'B-COND', 'I-CO...</td>\n",
       "      <td>NCT03622515</td>\n",
       "      <td>NCT03622515</td>\n",
       "      <td>Xuanwu Hospital Capital Medical University | F...</td>\n",
       "      <td>[(45, 58, 'CONDITION', 'Fragile brain'), (121,...</td>\n",
       "    </tr>\n",
       "    <tr>\n",
       "      <th>3</th>\n",
       "      <td>['Intravenous', 'Exenatide', 'Infusion', 'in',...</td>\n",
       "      <td>['O', 'B-DRUG', 'O', 'O', 'B-COND', 'I-COND', ...</td>\n",
       "      <td>NCT02058940</td>\n",
       "      <td>NCT02058940</td>\n",
       "      <td>Intravenous Exenatide Infusion in Critically I...</td>\n",
       "      <td>[(12, 21, 'DRUG', 'Exenatide'), (34, 48, 'COND...</td>\n",
       "    </tr>\n",
       "    <tr>\n",
       "      <th>4</th>\n",
       "      <td>['A', 'Randomized', 'Controlled', 'Trial', 'Ut...</td>\n",
       "      <td>['O', 'O', 'O', 'O', 'O', 'O', 'B-OTHER', 'O',...</td>\n",
       "      <td>NCT04154579</td>\n",
       "      <td>NCT04154579</td>\n",
       "      <td>A Randomized Controlled Trial Utilizing the Ar...</td>\n",
       "      <td>[(44, 48, 'OTHER', 'Arts'), (312, 328, 'CONTRO...</td>\n",
       "    </tr>\n",
       "    <tr>\n",
       "      <th>...</th>\n",
       "      <td>...</td>\n",
       "      <td>...</td>\n",
       "      <td>...</td>\n",
       "      <td>...</td>\n",
       "      <td>...</td>\n",
       "      <td>...</td>\n",
       "    </tr>\n",
       "    <tr>\n",
       "      <th>888</th>\n",
       "      <td>['Treatment', 'of', 'Periodontitis', 'to', 'Pr...</td>\n",
       "      <td>['B-OTHER', 'I-OTHER', 'I-OTHER', 'O', 'O', 'B...</td>\n",
       "      <td>NCT03755362</td>\n",
       "      <td>NCT03755362</td>\n",
       "      <td>Treatment of Periodontitis to Prevent Dementia...</td>\n",
       "      <td>[(0, 26, 'OTHER', 'Treatment of Periodontitis'...</td>\n",
       "    </tr>\n",
       "    <tr>\n",
       "      <th>889</th>\n",
       "      <td>['A', '48', '-', 'Week', ',', 'Multicenter', '...</td>\n",
       "      <td>['O', 'O', 'O', 'O', 'O', 'O', 'O', 'O', 'O', ...</td>\n",
       "      <td>NCT00506415</td>\n",
       "      <td>NCT00506415</td>\n",
       "      <td>A 48-Week, Multicenter, Randomized, Double-Bli...</td>\n",
       "      <td>[(133, 139, 'DRUG', 'Exelon'), (179, 215, 'CON...</td>\n",
       "    </tr>\n",
       "    <tr>\n",
       "      <th>890</th>\n",
       "      <td>['Multicenter', ',', 'Open', '-', 'label', 'St...</td>\n",
       "      <td>['O', 'O', 'O', 'O', 'O', 'O', 'O', 'O', 'O', ...</td>\n",
       "      <td>NCT01344447</td>\n",
       "      <td>NCT01344447</td>\n",
       "      <td>Multicenter, Open-label Study to Evaluate the ...</td>\n",
       "      <td>[(244, 288, 'CONDITION', 'Vascular Disease of ...</td>\n",
       "    </tr>\n",
       "    <tr>\n",
       "      <th>891</th>\n",
       "      <td>['Effects', 'of', 'Attention', 'Training', 'In...</td>\n",
       "      <td>['O', 'O', 'B-BEH', 'I-BEH', 'I-BEH', 'O', 'B-...</td>\n",
       "      <td>NCT04184206</td>\n",
       "      <td>NCT04184206</td>\n",
       "      <td>Effects of Attention Training Interventions on...</td>\n",
       "      <td>[(11, 43, 'BEHAVIOURAL', 'Attention Training I...</td>\n",
       "    </tr>\n",
       "    <tr>\n",
       "      <th>892</th>\n",
       "      <td>['Polyphenol', 'Rich', 'Supplementation', 'on'...</td>\n",
       "      <td>['B-DRUG', 'O', 'O', 'O', 'O', 'O', 'O', 'O', ...</td>\n",
       "      <td>NCT03540602</td>\n",
       "      <td>NCT03540602</td>\n",
       "      <td>Polyphenol Rich Supplementation on Markers of ...</td>\n",
       "      <td>[(0, 10, 'DRUG', 'Polyphenol'), (1160, 1170, '...</td>\n",
       "    </tr>\n",
       "  </tbody>\n",
       "</table>\n",
       "<p>893 rows × 6 columns</p>\n",
       "</div>"
      ],
      "text/plain": [
       "                                                tokens  \\\n",
       "0    ['Drug', 'Eluting', 'Stenting', 'and', 'Aggres...   \n",
       "1    ['An', 'Ascending', 'Multiple', 'Dose', 'Study...   \n",
       "2    ['Xuanwu', 'Hospital', 'Capital', 'Medical', '...   \n",
       "3    ['Intravenous', 'Exenatide', 'Infusion', 'in',...   \n",
       "4    ['A', 'Randomized', 'Controlled', 'Trial', 'Ut...   \n",
       "..                                                 ...   \n",
       "888  ['Treatment', 'of', 'Periodontitis', 'to', 'Pr...   \n",
       "889  ['A', '48', '-', 'Week', ',', 'Multicenter', '...   \n",
       "890  ['Multicenter', ',', 'Open', '-', 'label', 'St...   \n",
       "891  ['Effects', 'of', 'Attention', 'Training', 'In...   \n",
       "892  ['Polyphenol', 'Rich', 'Supplementation', 'on'...   \n",
       "\n",
       "                                              ner_tags           id  \\\n",
       "0    ['B-OTHER', 'I-OTHER', 'I-OTHER', 'O', 'B-OTHE...  NCT04948749   \n",
       "1    ['O', 'O', 'O', 'O', 'O', 'O', 'O', 'O', 'O', ...  NCT00480818   \n",
       "2    ['O', 'O', 'O', 'O', 'O', 'O', 'B-COND', 'I-CO...  NCT03622515   \n",
       "3    ['O', 'B-DRUG', 'O', 'O', 'B-COND', 'I-COND', ...  NCT02058940   \n",
       "4    ['O', 'O', 'O', 'O', 'O', 'O', 'B-OTHER', 'O',...  NCT04154579   \n",
       "..                                                 ...          ...   \n",
       "888  ['B-OTHER', 'I-OTHER', 'I-OTHER', 'O', 'O', 'B...  NCT03755362   \n",
       "889  ['O', 'O', 'O', 'O', 'O', 'O', 'O', 'O', 'O', ...  NCT00506415   \n",
       "890  ['O', 'O', 'O', 'O', 'O', 'O', 'O', 'O', 'O', ...  NCT01344447   \n",
       "891  ['O', 'O', 'B-BEH', 'I-BEH', 'I-BEH', 'O', 'B-...  NCT04184206   \n",
       "892  ['B-DRUG', 'O', 'O', 'O', 'O', 'O', 'O', 'O', ...  NCT03540602   \n",
       "\n",
       "          nct_id                                               text  \\\n",
       "0    NCT04948749  Drug Eluting Stenting and Aggressive Medical T...   \n",
       "1    NCT00480818  An Ascending Multiple Dose Study of the Safety...   \n",
       "2    NCT03622515  Xuanwu Hospital Capital Medical University | F...   \n",
       "3    NCT02058940  Intravenous Exenatide Infusion in Critically I...   \n",
       "4    NCT04154579  A Randomized Controlled Trial Utilizing the Ar...   \n",
       "..           ...                                                ...   \n",
       "888  NCT03755362  Treatment of Periodontitis to Prevent Dementia...   \n",
       "889  NCT00506415  A 48-Week, Multicenter, Randomized, Double-Bli...   \n",
       "890  NCT01344447  Multicenter, Open-label Study to Evaluate the ...   \n",
       "891  NCT04184206  Effects of Attention Training Interventions on...   \n",
       "892  NCT03540602  Polyphenol Rich Supplementation on Markers of ...   \n",
       "\n",
       "                                  ner_manual_ct_target  \n",
       "0    [(0, 21, 'OTHER', 'Drug Eluting Stenting'), (2...  \n",
       "1    [(100, 107, 'DRUG', 'SAM-531'), (242, 249, 'DR...  \n",
       "2    [(45, 58, 'CONDITION', 'Fragile brain'), (121,...  \n",
       "3    [(12, 21, 'DRUG', 'Exenatide'), (34, 48, 'COND...  \n",
       "4    [(44, 48, 'OTHER', 'Arts'), (312, 328, 'CONTRO...  \n",
       "..                                                 ...  \n",
       "888  [(0, 26, 'OTHER', 'Treatment of Periodontitis'...  \n",
       "889  [(133, 139, 'DRUG', 'Exelon'), (179, 215, 'CON...  \n",
       "890  [(244, 288, 'CONDITION', 'Vascular Disease of ...  \n",
       "891  [(11, 43, 'BEHAVIOURAL', 'Attention Training I...  \n",
       "892  [(0, 10, 'DRUG', 'Polyphenol'), (1160, 1170, '...  \n",
       "\n",
       "[893 rows x 6 columns]"
      ]
     },
     "execution_count": 2,
     "metadata": {},
     "output_type": "execute_result"
    }
   ],
   "source": [
    "train_df = pd.read_csv(\"./annotated_data/data_splits/ct_neuro_train_merged_713.csv\")\n",
    "dev_df = pd.read_csv(\"./annotated_data/data_splits/ct_neuro_dev_merged_90.csv\")\n",
    "test_df = pd.read_csv(\"./annotated_data/data_splits/ct_neuro_test_merged_90.csv\")\n",
    "all_annotations = pd.concat([train_df, dev_df, test_df], ignore_index=True)\n",
    "\n",
    "all_annotations"
   ]
  },
  {
   "cell_type": "code",
   "execution_count": 3,
   "id": "fa191366-eff8-4530-a458-08cb06b67c10",
   "metadata": {},
   "outputs": [
    {
     "data": {
      "text/plain": [
       "(713, 90)"
      ]
     },
     "execution_count": 3,
     "metadata": {},
     "output_type": "execute_result"
    }
   ],
   "source": [
    "len(train_df), len(test_df)"
   ]
  },
  {
   "cell_type": "code",
   "execution_count": 4,
   "id": "9f35eeb6-850f-4074-8863-0e9d608216f9",
   "metadata": {},
   "outputs": [
    {
     "name": "stdout",
     "output_type": "stream",
     "text": [
      "Average number of tokens per row: 134.8073908174692\n",
      "Standard deviation of tokens per row: 107.58937712839086\n",
      "min:  17\n",
      "max:  829\n"
     ]
    }
   ],
   "source": [
    "all_annotations['token_count'] = all_annotations['tokens'].apply(lambda x: len(eval(x)))\n",
    "avg_tokens = all_annotations['token_count'].mean()\n",
    "std_dev_tokens = all_annotations['token_count'].std()\n",
    "min_tokens = all_annotations['token_count'].min()\n",
    "max_tokens = all_annotations['token_count'].max()\n",
    "\n",
    "print(f\"Average number of tokens per row: {avg_tokens}\")\n",
    "print(f\"Standard deviation of tokens per row: {std_dev_tokens}\")\n",
    "print(\"min: \", min_tokens)\n",
    "print(\"max: \", max_tokens)\n"
   ]
  },
  {
   "cell_type": "code",
   "execution_count": 5,
   "id": "152e03c3-1365-4ddd-a773-e0a92a57859f",
   "metadata": {},
   "outputs": [],
   "source": [
    "import ast\n",
    "\n",
    "# Assuming 'all_annotations' is your DataFrame\n",
    "all_annotations['tokens'] = all_annotations['tokens'].apply(lambda x: ast.literal_eval(x) if isinstance(x, str) else x)\n",
    "\n",
    "# Concatenate all token lists across rows\n",
    "all_tokens = [token for token_list in all_annotations['tokens'] for token in token_list]\n",
    "\n",
    "# Calculate the number of unique tokens\n",
    "unique_tokens = len(set(all_tokens))"
   ]
  },
  {
   "cell_type": "code",
   "execution_count": 6,
   "id": "dce1e26c-2261-4bf3-a2f5-8cc37561346f",
   "metadata": {},
   "outputs": [
    {
     "data": {
      "text/plain": [
       "120383"
      ]
     },
     "execution_count": 6,
     "metadata": {},
     "output_type": "execute_result"
    }
   ],
   "source": [
    "len(all_tokens)"
   ]
  },
  {
   "cell_type": "code",
   "execution_count": 7,
   "id": "c0b88ae8-b675-455c-a55e-7347ed2db802",
   "metadata": {},
   "outputs": [
    {
     "data": {
      "text/plain": [
       "11549"
      ]
     },
     "execution_count": 7,
     "metadata": {},
     "output_type": "execute_result"
    }
   ],
   "source": [
    "unique_tokens"
   ]
  },
  {
   "cell_type": "code",
   "execution_count": 8,
   "id": "7bc2c562-3460-4927-a347-4d76a67debd1",
   "metadata": {},
   "outputs": [
    {
     "data": {
      "text/html": [
       "<div>\n",
       "<style scoped>\n",
       "    .dataframe tbody tr th:only-of-type {\n",
       "        vertical-align: middle;\n",
       "    }\n",
       "\n",
       "    .dataframe tbody tr th {\n",
       "        vertical-align: top;\n",
       "    }\n",
       "\n",
       "    .dataframe thead th {\n",
       "        text-align: right;\n",
       "    }\n",
       "</style>\n",
       "<table border=\"1\" class=\"dataframe\">\n",
       "  <thead>\n",
       "    <tr style=\"text-align: right;\">\n",
       "      <th></th>\n",
       "      <th>tokens</th>\n",
       "      <th>ner_tags</th>\n",
       "      <th>id</th>\n",
       "      <th>nct_id</th>\n",
       "      <th>text</th>\n",
       "      <th>ner_manual_ct_target</th>\n",
       "      <th>token_count</th>\n",
       "    </tr>\n",
       "  </thead>\n",
       "  <tbody>\n",
       "    <tr>\n",
       "      <th>0</th>\n",
       "      <td>[Drug, Eluting, Stenting, and, Aggressive, Med...</td>\n",
       "      <td>['B-OTHER', 'I-OTHER', 'I-OTHER', 'O', 'B-OTHE...</td>\n",
       "      <td>NCT04948749</td>\n",
       "      <td>NCT04948749</td>\n",
       "      <td>Drug Eluting Stenting and Aggressive Medical T...</td>\n",
       "      <td>[(0, 21, 'OTHER', 'Drug Eluting Stenting'), (2...</td>\n",
       "      <td>83</td>\n",
       "    </tr>\n",
       "    <tr>\n",
       "      <th>1</th>\n",
       "      <td>[An, Ascending, Multiple, Dose, Study, of, the...</td>\n",
       "      <td>['O', 'O', 'O', 'O', 'O', 'O', 'O', 'O', 'O', ...</td>\n",
       "      <td>NCT00480818</td>\n",
       "      <td>NCT00480818</td>\n",
       "      <td>An Ascending Multiple Dose Study of the Safety...</td>\n",
       "      <td>[(100, 107, 'DRUG', 'SAM-531'), (242, 249, 'DR...</td>\n",
       "      <td>83</td>\n",
       "    </tr>\n",
       "    <tr>\n",
       "      <th>2</th>\n",
       "      <td>[Xuanwu, Hospital, Capital, Medical, Universit...</td>\n",
       "      <td>['O', 'O', 'O', 'O', 'O', 'O', 'B-COND', 'I-CO...</td>\n",
       "      <td>NCT03622515</td>\n",
       "      <td>NCT03622515</td>\n",
       "      <td>Xuanwu Hospital Capital Medical University | F...</td>\n",
       "      <td>[(45, 58, 'CONDITION', 'Fragile brain'), (121,...</td>\n",
       "      <td>142</td>\n",
       "    </tr>\n",
       "    <tr>\n",
       "      <th>3</th>\n",
       "      <td>[Intravenous, Exenatide, Infusion, in, Critica...</td>\n",
       "      <td>['O', 'B-DRUG', 'O', 'O', 'B-COND', 'I-COND', ...</td>\n",
       "      <td>NCT02058940</td>\n",
       "      <td>NCT02058940</td>\n",
       "      <td>Intravenous Exenatide Infusion in Critically I...</td>\n",
       "      <td>[(12, 21, 'DRUG', 'Exenatide'), (34, 48, 'COND...</td>\n",
       "      <td>37</td>\n",
       "    </tr>\n",
       "    <tr>\n",
       "      <th>4</th>\n",
       "      <td>[A, Randomized, Controlled, Trial, Utilizing, ...</td>\n",
       "      <td>['O', 'O', 'O', 'O', 'O', 'O', 'B-OTHER', 'O',...</td>\n",
       "      <td>NCT04154579</td>\n",
       "      <td>NCT04154579</td>\n",
       "      <td>A Randomized Controlled Trial Utilizing the Ar...</td>\n",
       "      <td>[(44, 48, 'OTHER', 'Arts'), (312, 328, 'CONTRO...</td>\n",
       "      <td>143</td>\n",
       "    </tr>\n",
       "    <tr>\n",
       "      <th>...</th>\n",
       "      <td>...</td>\n",
       "      <td>...</td>\n",
       "      <td>...</td>\n",
       "      <td>...</td>\n",
       "      <td>...</td>\n",
       "      <td>...</td>\n",
       "      <td>...</td>\n",
       "    </tr>\n",
       "    <tr>\n",
       "      <th>888</th>\n",
       "      <td>[Treatment, of, Periodontitis, to, Prevent, De...</td>\n",
       "      <td>['B-OTHER', 'I-OTHER', 'I-OTHER', 'O', 'O', 'B...</td>\n",
       "      <td>NCT03755362</td>\n",
       "      <td>NCT03755362</td>\n",
       "      <td>Treatment of Periodontitis to Prevent Dementia...</td>\n",
       "      <td>[(0, 26, 'OTHER', 'Treatment of Periodontitis'...</td>\n",
       "      <td>159</td>\n",
       "    </tr>\n",
       "    <tr>\n",
       "      <th>889</th>\n",
       "      <td>[A, 48, -, Week, ,, Multicenter, ,, Randomized...</td>\n",
       "      <td>['O', 'O', 'O', 'O', 'O', 'O', 'O', 'O', 'O', ...</td>\n",
       "      <td>NCT00506415</td>\n",
       "      <td>NCT00506415</td>\n",
       "      <td>A 48-Week, Multicenter, Randomized, Double-Bli...</td>\n",
       "      <td>[(133, 139, 'DRUG', 'Exelon'), (179, 215, 'CON...</td>\n",
       "      <td>93</td>\n",
       "    </tr>\n",
       "    <tr>\n",
       "      <th>890</th>\n",
       "      <td>[Multicenter, ,, Open, -, label, Study, to, Ev...</td>\n",
       "      <td>['O', 'O', 'O', 'O', 'O', 'O', 'O', 'O', 'O', ...</td>\n",
       "      <td>NCT01344447</td>\n",
       "      <td>NCT01344447</td>\n",
       "      <td>Multicenter, Open-label Study to Evaluate the ...</td>\n",
       "      <td>[(244, 288, 'CONDITION', 'Vascular Disease of ...</td>\n",
       "      <td>188</td>\n",
       "    </tr>\n",
       "    <tr>\n",
       "      <th>891</th>\n",
       "      <td>[Effects, of, Attention, Training, Interventio...</td>\n",
       "      <td>['O', 'O', 'B-BEH', 'I-BEH', 'I-BEH', 'O', 'B-...</td>\n",
       "      <td>NCT04184206</td>\n",
       "      <td>NCT04184206</td>\n",
       "      <td>Effects of Attention Training Interventions on...</td>\n",
       "      <td>[(11, 43, 'BEHAVIOURAL', 'Attention Training I...</td>\n",
       "      <td>32</td>\n",
       "    </tr>\n",
       "    <tr>\n",
       "      <th>892</th>\n",
       "      <td>[Polyphenol, Rich, Supplementation, on, Marker...</td>\n",
       "      <td>['B-DRUG', 'O', 'O', 'O', 'O', 'O', 'O', 'O', ...</td>\n",
       "      <td>NCT03540602</td>\n",
       "      <td>NCT03540602</td>\n",
       "      <td>Polyphenol Rich Supplementation on Markers of ...</td>\n",
       "      <td>[(0, 10, 'DRUG', 'Polyphenol'), (1160, 1170, '...</td>\n",
       "      <td>199</td>\n",
       "    </tr>\n",
       "  </tbody>\n",
       "</table>\n",
       "<p>893 rows × 7 columns</p>\n",
       "</div>"
      ],
      "text/plain": [
       "                                                tokens  \\\n",
       "0    [Drug, Eluting, Stenting, and, Aggressive, Med...   \n",
       "1    [An, Ascending, Multiple, Dose, Study, of, the...   \n",
       "2    [Xuanwu, Hospital, Capital, Medical, Universit...   \n",
       "3    [Intravenous, Exenatide, Infusion, in, Critica...   \n",
       "4    [A, Randomized, Controlled, Trial, Utilizing, ...   \n",
       "..                                                 ...   \n",
       "888  [Treatment, of, Periodontitis, to, Prevent, De...   \n",
       "889  [A, 48, -, Week, ,, Multicenter, ,, Randomized...   \n",
       "890  [Multicenter, ,, Open, -, label, Study, to, Ev...   \n",
       "891  [Effects, of, Attention, Training, Interventio...   \n",
       "892  [Polyphenol, Rich, Supplementation, on, Marker...   \n",
       "\n",
       "                                              ner_tags           id  \\\n",
       "0    ['B-OTHER', 'I-OTHER', 'I-OTHER', 'O', 'B-OTHE...  NCT04948749   \n",
       "1    ['O', 'O', 'O', 'O', 'O', 'O', 'O', 'O', 'O', ...  NCT00480818   \n",
       "2    ['O', 'O', 'O', 'O', 'O', 'O', 'B-COND', 'I-CO...  NCT03622515   \n",
       "3    ['O', 'B-DRUG', 'O', 'O', 'B-COND', 'I-COND', ...  NCT02058940   \n",
       "4    ['O', 'O', 'O', 'O', 'O', 'O', 'B-OTHER', 'O',...  NCT04154579   \n",
       "..                                                 ...          ...   \n",
       "888  ['B-OTHER', 'I-OTHER', 'I-OTHER', 'O', 'O', 'B...  NCT03755362   \n",
       "889  ['O', 'O', 'O', 'O', 'O', 'O', 'O', 'O', 'O', ...  NCT00506415   \n",
       "890  ['O', 'O', 'O', 'O', 'O', 'O', 'O', 'O', 'O', ...  NCT01344447   \n",
       "891  ['O', 'O', 'B-BEH', 'I-BEH', 'I-BEH', 'O', 'B-...  NCT04184206   \n",
       "892  ['B-DRUG', 'O', 'O', 'O', 'O', 'O', 'O', 'O', ...  NCT03540602   \n",
       "\n",
       "          nct_id                                               text  \\\n",
       "0    NCT04948749  Drug Eluting Stenting and Aggressive Medical T...   \n",
       "1    NCT00480818  An Ascending Multiple Dose Study of the Safety...   \n",
       "2    NCT03622515  Xuanwu Hospital Capital Medical University | F...   \n",
       "3    NCT02058940  Intravenous Exenatide Infusion in Critically I...   \n",
       "4    NCT04154579  A Randomized Controlled Trial Utilizing the Ar...   \n",
       "..           ...                                                ...   \n",
       "888  NCT03755362  Treatment of Periodontitis to Prevent Dementia...   \n",
       "889  NCT00506415  A 48-Week, Multicenter, Randomized, Double-Bli...   \n",
       "890  NCT01344447  Multicenter, Open-label Study to Evaluate the ...   \n",
       "891  NCT04184206  Effects of Attention Training Interventions on...   \n",
       "892  NCT03540602  Polyphenol Rich Supplementation on Markers of ...   \n",
       "\n",
       "                                  ner_manual_ct_target  token_count  \n",
       "0    [(0, 21, 'OTHER', 'Drug Eluting Stenting'), (2...           83  \n",
       "1    [(100, 107, 'DRUG', 'SAM-531'), (242, 249, 'DR...           83  \n",
       "2    [(45, 58, 'CONDITION', 'Fragile brain'), (121,...          142  \n",
       "3    [(12, 21, 'DRUG', 'Exenatide'), (34, 48, 'COND...           37  \n",
       "4    [(44, 48, 'OTHER', 'Arts'), (312, 328, 'CONTRO...          143  \n",
       "..                                                 ...          ...  \n",
       "888  [(0, 26, 'OTHER', 'Treatment of Periodontitis'...          159  \n",
       "889  [(133, 139, 'DRUG', 'Exelon'), (179, 215, 'CON...           93  \n",
       "890  [(244, 288, 'CONDITION', 'Vascular Disease of ...          188  \n",
       "891  [(11, 43, 'BEHAVIOURAL', 'Attention Training I...           32  \n",
       "892  [(0, 10, 'DRUG', 'Polyphenol'), (1160, 1170, '...          199  \n",
       "\n",
       "[893 rows x 7 columns]"
      ]
     },
     "execution_count": 8,
     "metadata": {},
     "output_type": "execute_result"
    }
   ],
   "source": [
    "all_annotations"
   ]
  },
  {
   "cell_type": "markdown",
   "id": "6e29c9ba-94a2-42a6-8a37-e6195052ed20",
   "metadata": {},
   "source": [
    "## Entities Frequencies and Overlaps Stats"
   ]
  },
  {
   "cell_type": "code",
   "execution_count": 9,
   "id": "40221d84-1f61-40a5-bb80-d38b3cd2153d",
   "metadata": {},
   "outputs": [],
   "source": [
    "dev_entities = pd.read_csv(\"./annotated_data/corpus_stats/clintrials_dev_entities_stats.csv\")\n",
    "train_entities = pd.read_csv(\"./annotated_data/corpus_stats/clintrials_train_entities_stats.csv\")\n",
    "test_entities = pd.read_csv(\"./annotated_data/corpus_stats/clintrials_test_entities_stats.csv\")\n"
   ]
  },
  {
   "cell_type": "code",
   "execution_count": 10,
   "id": "18b2620a-c7e5-4c38-8db3-332abbd9452d",
   "metadata": {},
   "outputs": [
    {
     "data": {
      "text/plain": [
       "(6466, 770, 902)"
      ]
     },
     "execution_count": 10,
     "metadata": {},
     "output_type": "execute_result"
    }
   ],
   "source": [
    "sum(train_entities['frequency']), sum(dev_entities['frequency']), sum(test_entities['frequency'])\n"
   ]
  },
  {
   "cell_type": "code",
   "execution_count": 11,
   "id": "bde5e266-9bfb-4f26-90bd-48f9c766b782",
   "metadata": {},
   "outputs": [
    {
     "data": {
      "text/html": [
       "<div>\n",
       "<style scoped>\n",
       "    .dataframe tbody tr th:only-of-type {\n",
       "        vertical-align: middle;\n",
       "    }\n",
       "\n",
       "    .dataframe tbody tr th {\n",
       "        vertical-align: top;\n",
       "    }\n",
       "\n",
       "    .dataframe thead th {\n",
       "        text-align: right;\n",
       "    }\n",
       "</style>\n",
       "<table border=\"1\" class=\"dataframe\">\n",
       "  <thead>\n",
       "    <tr style=\"text-align: right;\">\n",
       "      <th></th>\n",
       "      <th>entity_token</th>\n",
       "      <th>frequency</th>\n",
       "      <th>entity_class</th>\n",
       "    </tr>\n",
       "  </thead>\n",
       "  <tbody>\n",
       "    <tr>\n",
       "      <th>0</th>\n",
       "      <td>placebo</td>\n",
       "      <td>163</td>\n",
       "      <td>CONTROL</td>\n",
       "    </tr>\n",
       "    <tr>\n",
       "      <th>1</th>\n",
       "      <td>stroke</td>\n",
       "      <td>111</td>\n",
       "      <td>CONDITION</td>\n",
       "    </tr>\n",
       "    <tr>\n",
       "      <th>2</th>\n",
       "      <td>parkinson's disease</td>\n",
       "      <td>83</td>\n",
       "      <td>CONDITION</td>\n",
       "    </tr>\n",
       "    <tr>\n",
       "      <th>3</th>\n",
       "      <td>pd</td>\n",
       "      <td>79</td>\n",
       "      <td>CONDITION</td>\n",
       "    </tr>\n",
       "    <tr>\n",
       "      <th>4</th>\n",
       "      <td>schizophrenia</td>\n",
       "      <td>68</td>\n",
       "      <td>CONDITION</td>\n",
       "    </tr>\n",
       "    <tr>\n",
       "      <th>...</th>\n",
       "      <td>...</td>\n",
       "      <td>...</td>\n",
       "      <td>...</td>\n",
       "    </tr>\n",
       "    <tr>\n",
       "      <th>2800</th>\n",
       "      <td>active transcutaneous auricular vagus nerve st...</td>\n",
       "      <td>1</td>\n",
       "      <td>OTHER</td>\n",
       "    </tr>\n",
       "    <tr>\n",
       "      <th>2801</th>\n",
       "      <td>inflammation</td>\n",
       "      <td>1</td>\n",
       "      <td>CONDITION</td>\n",
       "    </tr>\n",
       "    <tr>\n",
       "      <th>2802</th>\n",
       "      <td>spm 936</td>\n",
       "      <td>1</td>\n",
       "      <td>DRUG</td>\n",
       "    </tr>\n",
       "    <tr>\n",
       "      <th>2803</th>\n",
       "      <td>idiopathic restless legs syndrome.</td>\n",
       "      <td>1</td>\n",
       "      <td>CONDITION</td>\n",
       "    </tr>\n",
       "    <tr>\n",
       "      <th>2804</th>\n",
       "      <td>continuous theta-burst stimulation</td>\n",
       "      <td>1</td>\n",
       "      <td>OTHER</td>\n",
       "    </tr>\n",
       "  </tbody>\n",
       "</table>\n",
       "<p>2805 rows × 3 columns</p>\n",
       "</div>"
      ],
      "text/plain": [
       "                                           entity_token  frequency  \\\n",
       "0                                               placebo        163   \n",
       "1                                                stroke        111   \n",
       "2                                   parkinson's disease         83   \n",
       "3                                                    pd         79   \n",
       "4                                         schizophrenia         68   \n",
       "...                                                 ...        ...   \n",
       "2800  active transcutaneous auricular vagus nerve st...          1   \n",
       "2801                                       inflammation          1   \n",
       "2802                                            spm 936          1   \n",
       "2803                 idiopathic restless legs syndrome.          1   \n",
       "2804                 continuous theta-burst stimulation          1   \n",
       "\n",
       "     entity_class  \n",
       "0         CONTROL  \n",
       "1       CONDITION  \n",
       "2       CONDITION  \n",
       "3       CONDITION  \n",
       "4       CONDITION  \n",
       "...           ...  \n",
       "2800        OTHER  \n",
       "2801    CONDITION  \n",
       "2802         DRUG  \n",
       "2803    CONDITION  \n",
       "2804        OTHER  \n",
       "\n",
       "[2805 rows x 3 columns]"
      ]
     },
     "execution_count": 11,
     "metadata": {},
     "output_type": "execute_result"
    }
   ],
   "source": [
    "train_entities"
   ]
  },
  {
   "cell_type": "code",
   "execution_count": 12,
   "id": "b24fea8d-881f-4c03-af31-62f01ad7478f",
   "metadata": {},
   "outputs": [],
   "source": [
    "def get_top(df, n=5, entity_class=None):\n",
    "    if entity_class:\n",
    "        # Filter the dataframe based on the specified entity_class\n",
    "        filtered_df = df[df['entity_class'] == entity_class]\n",
    "    else:\n",
    "        # If entity_class is not specified, use the entire dataframe\n",
    "        filtered_df = df\n",
    "\n",
    "    # Sort the filtered dataframe by frequency in descending order\n",
    "    sorted_df = filtered_df.sort_values(by=['frequency'], ascending=[False])\n",
    "\n",
    "    # Get the top 5 entity_token based on frequency\n",
    "    top_5_tokens = sorted_df.head(n)\n",
    "\n",
    "    return top_5_tokens"
   ]
  },
  {
   "cell_type": "code",
   "execution_count": 13,
   "id": "1a5e393d-0619-44f4-8181-614171edfdae",
   "metadata": {},
   "outputs": [
    {
     "data": {
      "image/png": "[encoded data removed]",
      "text/plain": [
       "<Figure size 720x432 with 1 Axes>"
      ]
     },
     "metadata": {
      "needs_background": "light"
     },
     "output_type": "display_data"
    }
   ],
   "source": [
    "df_all = pd.concat([dev_entities, train_entities, test_entities], ignore_index=True)\n",
    "# Get the top 10 CONDITION entities\n",
    "top10_condition = get_top(df_all, n=10, entity_class=\"CONDITION\")\n",
    "\n",
    "# Create a bar chart\n",
    "plt.figure(figsize=(10, 6))\n",
    "bars = plt.barh(top10_condition['entity_token'], top10_condition['frequency'], color='skyblue')\n",
    "plt.xlabel('Frequency')\n",
    "plt.ylabel('CONDITION')\n",
    "plt.title('Top 10 CONDITION Entities')\n",
    "plt.gca().invert_yaxis()  # Invert the y-axis to display the highest frequency at the top\n",
    "\n",
    "# Add annotations to each bar\n",
    "for bar in bars:\n",
    "    width = bar.get_width()\n",
    "    label_x_pos = width + 1\n",
    "    plt.text(label_x_pos, bar.get_y() + bar.get_height() / 2, f'{width}', va='center')\n",
    "plt.yticks(fontsize=12)\n",
    "\n",
    "plt.show()"
   ]
  },
  {
   "cell_type": "code",
   "execution_count": 14,
   "id": "71ea16fd-3090-4d8b-aa7d-d11769e56dab",
   "metadata": {},
   "outputs": [
    {
     "data": {
      "text/html": [
       "<div>\n",
       "<style scoped>\n",
       "    .dataframe tbody tr th:only-of-type {\n",
       "        vertical-align: middle;\n",
       "    }\n",
       "\n",
       "    .dataframe tbody tr th {\n",
       "        vertical-align: top;\n",
       "    }\n",
       "\n",
       "    .dataframe thead th {\n",
       "        text-align: right;\n",
       "    }\n",
       "</style>\n",
       "<table border=\"1\" class=\"dataframe\">\n",
       "  <thead>\n",
       "    <tr style=\"text-align: right;\">\n",
       "      <th></th>\n",
       "      <th>entity_class</th>\n",
       "      <th>frequency</th>\n",
       "    </tr>\n",
       "  </thead>\n",
       "  <tbody>\n",
       "    <tr>\n",
       "      <th>0</th>\n",
       "      <td>BEHAVIOURAL</td>\n",
       "      <td>222</td>\n",
       "    </tr>\n",
       "    <tr>\n",
       "      <th>1</th>\n",
       "      <td>CONDITION</td>\n",
       "      <td>3998</td>\n",
       "    </tr>\n",
       "    <tr>\n",
       "      <th>2</th>\n",
       "      <td>CONTROL</td>\n",
       "      <td>462</td>\n",
       "    </tr>\n",
       "    <tr>\n",
       "      <th>3</th>\n",
       "      <td>DRUG</td>\n",
       "      <td>1477</td>\n",
       "    </tr>\n",
       "    <tr>\n",
       "      <th>4</th>\n",
       "      <td>OTHER</td>\n",
       "      <td>1436</td>\n",
       "    </tr>\n",
       "    <tr>\n",
       "      <th>5</th>\n",
       "      <td>PHYSICAL</td>\n",
       "      <td>419</td>\n",
       "    </tr>\n",
       "    <tr>\n",
       "      <th>6</th>\n",
       "      <td>RADIOTHERAPY</td>\n",
       "      <td>26</td>\n",
       "    </tr>\n",
       "    <tr>\n",
       "      <th>7</th>\n",
       "      <td>SURGICAL</td>\n",
       "      <td>98</td>\n",
       "    </tr>\n",
       "  </tbody>\n",
       "</table>\n",
       "</div>"
      ],
      "text/plain": [
       "   entity_class  frequency\n",
       "0   BEHAVIOURAL        222\n",
       "1     CONDITION       3998\n",
       "2       CONTROL        462\n",
       "3          DRUG       1477\n",
       "4         OTHER       1436\n",
       "5      PHYSICAL        419\n",
       "6  RADIOTHERAPY         26\n",
       "7      SURGICAL         98"
      ]
     },
     "execution_count": 14,
     "metadata": {},
     "output_type": "execute_result"
    }
   ],
   "source": [
    "entity_class_frq = df_all.groupby('entity_class')['frequency'].sum().reset_index()\n",
    "entity_class_frq"
   ]
  },
  {
   "cell_type": "code",
   "execution_count": 15,
   "id": "ba61b594-9ace-463b-8888-92f944a75b28",
   "metadata": {},
   "outputs": [
    {
     "data": {
      "text/html": [
       "<div>\n",
       "<style scoped>\n",
       "    .dataframe tbody tr th:only-of-type {\n",
       "        vertical-align: middle;\n",
       "    }\n",
       "\n",
       "    .dataframe tbody tr th {\n",
       "        vertical-align: top;\n",
       "    }\n",
       "\n",
       "    .dataframe thead th {\n",
       "        text-align: right;\n",
       "    }\n",
       "</style>\n",
       "<table border=\"1\" class=\"dataframe\">\n",
       "  <thead>\n",
       "    <tr style=\"text-align: right;\">\n",
       "      <th></th>\n",
       "      <th>entity_class</th>\n",
       "      <th>entity_token</th>\n",
       "    </tr>\n",
       "  </thead>\n",
       "  <tbody>\n",
       "    <tr>\n",
       "      <th>0</th>\n",
       "      <td>BEHAVIOURAL</td>\n",
       "      <td>157</td>\n",
       "    </tr>\n",
       "    <tr>\n",
       "      <th>1</th>\n",
       "      <td>CONDITION</td>\n",
       "      <td>1349</td>\n",
       "    </tr>\n",
       "    <tr>\n",
       "      <th>2</th>\n",
       "      <td>CONTROL</td>\n",
       "      <td>173</td>\n",
       "    </tr>\n",
       "    <tr>\n",
       "      <th>3</th>\n",
       "      <td>DRUG</td>\n",
       "      <td>552</td>\n",
       "    </tr>\n",
       "    <tr>\n",
       "      <th>4</th>\n",
       "      <td>OTHER</td>\n",
       "      <td>846</td>\n",
       "    </tr>\n",
       "    <tr>\n",
       "      <th>5</th>\n",
       "      <td>PHYSICAL</td>\n",
       "      <td>264</td>\n",
       "    </tr>\n",
       "    <tr>\n",
       "      <th>6</th>\n",
       "      <td>RADIOTHERAPY</td>\n",
       "      <td>15</td>\n",
       "    </tr>\n",
       "    <tr>\n",
       "      <th>7</th>\n",
       "      <td>SURGICAL</td>\n",
       "      <td>71</td>\n",
       "    </tr>\n",
       "  </tbody>\n",
       "</table>\n",
       "</div>"
      ],
      "text/plain": [
       "   entity_class  entity_token\n",
       "0   BEHAVIOURAL           157\n",
       "1     CONDITION          1349\n",
       "2       CONTROL           173\n",
       "3          DRUG           552\n",
       "4         OTHER           846\n",
       "5      PHYSICAL           264\n",
       "6  RADIOTHERAPY            15\n",
       "7      SURGICAL            71"
      ]
     },
     "execution_count": 15,
     "metadata": {},
     "output_type": "execute_result"
    }
   ],
   "source": [
    "unique_class = df_all.groupby('entity_class')['entity_token'].nunique().reset_index()\n",
    "unique_class"
   ]
  },
  {
   "cell_type": "code",
   "execution_count": 16,
   "id": "3b1ec75b-818d-4aeb-9097-f52a7a4d14f0",
   "metadata": {},
   "outputs": [],
   "source": [
    "def find_overlap_and_unique(df_all, train_entities, dev_entities, test_entities, entity_class):\n",
    "    # Extract unique tokens for the given entity class\n",
    "    unique_tokens = df_all[df_all['entity_class'] == entity_class]['entity_token'].unique()\n",
    "\n",
    "    # Convert data to sets\n",
    "    unique_tokens_train = set(train_entities[train_entities['entity_class'] == entity_class]['entity_token'].unique())\n",
    "    unique_tokens_dev = set(dev_entities[dev_entities['entity_class'] == entity_class]['entity_token'].unique())\n",
    "    unique_tokens_test = set(test_entities[test_entities['entity_class'] == entity_class]['entity_token'].unique())\n",
    "\n",
    "    unique_tokens_train_only = unique_tokens_train - unique_tokens_dev - unique_tokens_test\n",
    "    unique_tokens_dev_only = unique_tokens_dev - unique_tokens_train  - unique_tokens_test\n",
    "    unique_tokens_test_only = unique_tokens_test - unique_tokens_dev - unique_tokens_train\n",
    "\n",
    "    unique_tokens_overlap_all = unique_tokens_train & unique_tokens_dev & unique_tokens_test\n",
    "\n",
    "    # Find that overlap between unique_drugs_train and unique_drugs_dev\n",
    "    overlap_train_dev = unique_tokens_train & unique_tokens_dev\n",
    "    # Find that overlap between overlap_train_dev and unique_drugs_test\n",
    "    overlap_train_dev_not_test = overlap_train_dev - unique_tokens_test\n",
    "\n",
    "    # Find that overlap between unique_drugs_train and unique_drugs_dev\n",
    "    overlap_test_dev = unique_tokens_test & unique_tokens_dev\n",
    "\n",
    "    # Find that overlap between overlap_train_dev and unique_drugs_test\n",
    "    overlap_test_dev_not_train = overlap_test_dev - unique_tokens_train\n",
    "    \n",
    "    # Find drugs that overlap between unique_drugs_train and unique_drugs_dev\n",
    "    overlap_train_test = unique_tokens_train & unique_tokens_test\n",
    "\n",
    "    # Find drugs that overlap between overlap_train_dev and unique_drugs_test\n",
    "    overlap_train_test_not_dev = overlap_train_test - unique_tokens_dev\n",
    "    \n",
    "    \n",
    "    return {\n",
    "        \"len_unique_tokens_train\": len(unique_tokens_train_only),\n",
    "        \"len_unique_tokens_dev\": len(unique_tokens_dev_only),\n",
    "        \"len_unique_tokens_test\": len(unique_tokens_test_only),\n",
    "        \"len_overlap_train_dev_not_test\": len(overlap_train_dev_not_test),\n",
    "        \"len_overlap_test_dev_not_train\": len(overlap_test_dev_not_train),\n",
    "        \"len_overlap_train_test_not_dev\": len(overlap_train_test_not_dev),\n",
    "        \"unique_tokens_overlap_all\":len(unique_tokens_overlap_all)\n",
    "    }"
   ]
  },
  {
   "cell_type": "code",
   "execution_count": 17,
   "id": "726ee11e-981f-4c36-a581-251526afc753",
   "metadata": {},
   "outputs": [
    {
     "data": {
      "text/plain": [
       "{'len_unique_tokens_train': 421,\n",
       " 'len_unique_tokens_dev': 50,\n",
       " 'len_unique_tokens_test': 38,\n",
       " 'len_overlap_train_dev_not_test': 18,\n",
       " 'len_overlap_test_dev_not_train': 2,\n",
       " 'len_overlap_train_test_not_dev': 16,\n",
       " 'unique_tokens_overlap_all': 7}"
      ]
     },
     "execution_count": 17,
     "metadata": {},
     "output_type": "execute_result"
    }
   ],
   "source": [
    "find_overlap_and_unique(df_all, train_entities, dev_entities, test_entities, \"DRUG\")"
   ]
  },
  {
   "cell_type": "code",
   "execution_count": 18,
   "id": "6b3fbc4d-4aba-42c6-8e0f-f0ed365cadc7",
   "metadata": {},
   "outputs": [
    {
     "data": {
      "text/plain": [
       "{'len_unique_tokens_train': 965,\n",
       " 'len_unique_tokens_dev': 116,\n",
       " 'len_unique_tokens_test': 119,\n",
       " 'len_overlap_train_dev_not_test': 46,\n",
       " 'len_overlap_test_dev_not_train': 3,\n",
       " 'len_overlap_train_test_not_dev': 69,\n",
       " 'unique_tokens_overlap_all': 31}"
      ]
     },
     "execution_count": 18,
     "metadata": {},
     "output_type": "execute_result"
    }
   ],
   "source": [
    "find_overlap_and_unique(df_all, train_entities, dev_entities, test_entities, \"CONDITION\")"
   ]
  },
  {
   "cell_type": "code",
   "execution_count": 20,
   "id": "8a9542b8-c55b-49cc-8edf-e871d8824ea9",
   "metadata": {},
   "outputs": [
    {
     "data": {
      "image/png": "[encoded data removed]",
      "text/plain": [
       "<Figure size 648x432 with 1 Axes>"
      ]
     },
     "metadata": {
      "needs_background": "light"
     },
     "output_type": "display_data"
    },
    {
     "data": {
      "image/png": "[encoded data removed]",
      "text/plain": [
       "<Figure size 648x432 with 1 Axes>"
      ]
     },
     "metadata": {
      "needs_background": "light"
     },
     "output_type": "display_data"
    }
   ],
   "source": [
    "# Get the top 10 CONDITION entities\n",
    "top10_condition = get_top(df_all, n=10, entity_class=\"CONDITION\")\n",
    "\n",
    "# Get the top 10 DRUG entities\n",
    "top10_drug = get_top(df_all, n=10, entity_class=\"DRUG\")\n",
    "\n",
    "# Create a bar chart for CONDITION entities\n",
    "plt.figure(figsize=(9, 6))\n",
    "plt.grid(axis='x', alpha=0.7, zorder=0)\n",
    "plt.subplots_adjust(left=0.2)  # Adjust the left margin\n",
    "bars1 = plt.barh(top10_condition['entity_token'], top10_condition['frequency'], color='skyblue', zorder=2)\n",
    "plt.xlabel('Frequency', fontsize=15)\n",
    "plt.ylabel('CONDITION Entity', fontsize=15)\n",
    "#plt.title('Top 10 CONDITION Entities', fontsize=12)\n",
    "plt.gca().invert_yaxis()  # Invert the y-axis to display the highest frequency at the top\n",
    "\n",
    "# Add numbers inside the bars for CONDITION entities\n",
    "for bar in bars1:\n",
    "    width = bar.get_width()\n",
    "    label_x_pos = width + 1\n",
    "    label_text = f'{int(width)}'\n",
    "    plt.text(width, bar.get_y() + bar.get_height() / 2, label_text, va='center', fontsize=12, color='black', zorder=2)\n",
    "plt.yticks(rotation=0, fontsize=15)\n",
    "plt.xticks(fontsize=14)\n",
    "plt.tight_layout()\n",
    "\n",
    "# Save the first figure as an image\n",
    "plt.savefig(\"./annotated_data/corpus_stats/top_10_condition.pdf\")\n",
    "\n",
    "# Show the first plot\n",
    "plt.show()\n",
    "\n",
    "# Create a bar chart for DRUG entities\n",
    "plt.figure(figsize=(9, 6))\n",
    "plt.grid(axis='x', alpha=0.7, zorder=0)\n",
    "plt.subplots_adjust(left=0.2)  # Adjust the left margin\n",
    "\n",
    "bars2 = plt.barh(top10_drug['entity_token'], top10_drug['frequency'], color='skyblue', zorder=2)  # Use hex color code for light orange\n",
    "plt.xlabel('Frequency', fontsize=15)\n",
    "plt.ylabel('DRUG Entity', fontsize=15)\n",
    "#plt.title('Top 10 DRUG Entities', fontsize=12)\n",
    "plt.gca().invert_yaxis()  # Invert the y-axis to display the highest frequency at the top\n",
    "\n",
    "# Add numbers inside the bars for DRUG entities\n",
    "for bar in bars2:\n",
    "    width = bar.get_width()\n",
    "    label_x_pos = width + 1\n",
    "    label_text = f'{int(width)}'\n",
    "    plt.text(width, bar.get_y() + bar.get_height() / 2, label_text, va='center', fontsize=12, color='black',zorder=2)\n",
    "    \n",
    "plt.yticks(fontsize=15)\n",
    "plt.xticks(fontsize=14)\n",
    "plt.tight_layout()\n",
    "\n",
    "# Save the second figure as an image\n",
    "plt.savefig(\"./annotated_data/corpus_stats/top_10_drug.pdf\")\n",
    "\n",
    "# Show the second plot\n",
    "plt.show()"
   ]
  },
  {
   "cell_type": "code",
   "execution_count": 44,
   "id": "e653d8a5-0add-4120-8cfb-cdfeb771f79c",
   "metadata": {},
   "outputs": [
    {
     "name": "stdout",
     "output_type": "stream",
     "text": [
      "CT Corpus Stats.ipynb\n",
      "\u001b[34mannotated_data\u001b[m\u001b[m/\n",
      "annotation_agreement_evaluation.py\n",
      "convert_to_bio_and_generate_dataset_split.py\n",
      "\u001b[34mdata_for_prodigy\u001b[m\u001b[m/\n",
      "\u001b[34mdrug_names_terminology\u001b[m\u001b[m/\n",
      "from_prodigy_data_converter.py\n",
      "generate_corpus_statistics.py\n",
      "\u001b[34mneuro_diseases_terminology\u001b[m\u001b[m/\n",
      "\u001b[34mraw_data_aact_sample\u001b[m\u001b[m/\n",
      "to_prodigy_data_converter.py\n"
     ]
    }
   ],
   "source": [
    "ls"
   ]
  },
  {
   "cell_type": "code",
   "execution_count": 45,
   "id": "dd3fab0b-9ecf-4d79-8f23-6367027b7de3",
   "metadata": {},
   "outputs": [
    {
     "data": {
      "text/html": [
       "<div>\n",
       "<style scoped>\n",
       "    .dataframe tbody tr th:only-of-type {\n",
       "        vertical-align: middle;\n",
       "    }\n",
       "\n",
       "    .dataframe tbody tr th {\n",
       "        vertical-align: top;\n",
       "    }\n",
       "\n",
       "    .dataframe thead th {\n",
       "        text-align: right;\n",
       "    }\n",
       "</style>\n",
       "<table border=\"1\" class=\"dataframe\">\n",
       "  <thead>\n",
       "    <tr style=\"text-align: right;\">\n",
       "      <th></th>\n",
       "      <th>entity_token</th>\n",
       "      <th>frequency</th>\n",
       "      <th>entity_class</th>\n",
       "      <th>source</th>\n",
       "    </tr>\n",
       "  </thead>\n",
       "  <tbody>\n",
       "    <tr>\n",
       "      <th>0</th>\n",
       "      <td>placebo</td>\n",
       "      <td>163</td>\n",
       "      <td>CONTROL</td>\n",
       "      <td>train</td>\n",
       "    </tr>\n",
       "    <tr>\n",
       "      <th>1</th>\n",
       "      <td>stroke</td>\n",
       "      <td>111</td>\n",
       "      <td>CONDITION</td>\n",
       "      <td>train</td>\n",
       "    </tr>\n",
       "    <tr>\n",
       "      <th>2</th>\n",
       "      <td>parkinson's disease</td>\n",
       "      <td>83</td>\n",
       "      <td>CONDITION</td>\n",
       "      <td>train</td>\n",
       "    </tr>\n",
       "    <tr>\n",
       "      <th>3</th>\n",
       "      <td>pd</td>\n",
       "      <td>79</td>\n",
       "      <td>CONDITION</td>\n",
       "      <td>train</td>\n",
       "    </tr>\n",
       "    <tr>\n",
       "      <th>4</th>\n",
       "      <td>schizophrenia</td>\n",
       "      <td>68</td>\n",
       "      <td>CONDITION</td>\n",
       "      <td>train</td>\n",
       "    </tr>\n",
       "  </tbody>\n",
       "</table>\n",
       "</div>"
      ],
      "text/plain": [
       "          entity_token  frequency entity_class source\n",
       "0              placebo        163      CONTROL  train\n",
       "1               stroke        111    CONDITION  train\n",
       "2  parkinson's disease         83    CONDITION  train\n",
       "3                   pd         79    CONDITION  train\n",
       "4        schizophrenia         68    CONDITION  train"
      ]
     },
     "execution_count": 45,
     "metadata": {},
     "output_type": "execute_result"
    }
   ],
   "source": [
    "top5_train = get_top(train_entities)\n",
    "top5_train['source'] = \"train\"\n",
    "top5_train"
   ]
  },
  {
   "cell_type": "code",
   "execution_count": 46,
   "id": "c5b43914-f65e-4f8a-9bec-2501063b1b56",
   "metadata": {},
   "outputs": [
    {
     "data": {
      "text/html": [
       "<div>\n",
       "<style scoped>\n",
       "    .dataframe tbody tr th:only-of-type {\n",
       "        vertical-align: middle;\n",
       "    }\n",
       "\n",
       "    .dataframe tbody tr th {\n",
       "        vertical-align: top;\n",
       "    }\n",
       "\n",
       "    .dataframe thead th {\n",
       "        text-align: right;\n",
       "    }\n",
       "</style>\n",
       "<table border=\"1\" class=\"dataframe\">\n",
       "  <thead>\n",
       "    <tr style=\"text-align: right;\">\n",
       "      <th></th>\n",
       "      <th>entity_token</th>\n",
       "      <th>frequency</th>\n",
       "      <th>entity_class</th>\n",
       "      <th>source</th>\n",
       "    </tr>\n",
       "  </thead>\n",
       "  <tbody>\n",
       "    <tr>\n",
       "      <th>0</th>\n",
       "      <td>placebo</td>\n",
       "      <td>28</td>\n",
       "      <td>CONTROL</td>\n",
       "      <td>dev</td>\n",
       "    </tr>\n",
       "    <tr>\n",
       "      <th>1</th>\n",
       "      <td>parkinson's disease</td>\n",
       "      <td>14</td>\n",
       "      <td>CONDITION</td>\n",
       "      <td>dev</td>\n",
       "    </tr>\n",
       "    <tr>\n",
       "      <th>2</th>\n",
       "      <td>schizophrenia</td>\n",
       "      <td>12</td>\n",
       "      <td>CONDITION</td>\n",
       "      <td>dev</td>\n",
       "    </tr>\n",
       "    <tr>\n",
       "      <th>3</th>\n",
       "      <td>acupuncture</td>\n",
       "      <td>11</td>\n",
       "      <td>OTHER</td>\n",
       "      <td>dev</td>\n",
       "    </tr>\n",
       "    <tr>\n",
       "      <th>4</th>\n",
       "      <td>tth</td>\n",
       "      <td>10</td>\n",
       "      <td>CONDITION</td>\n",
       "      <td>dev</td>\n",
       "    </tr>\n",
       "  </tbody>\n",
       "</table>\n",
       "</div>"
      ],
      "text/plain": [
       "          entity_token  frequency entity_class source\n",
       "0              placebo         28      CONTROL    dev\n",
       "1  parkinson's disease         14    CONDITION    dev\n",
       "2        schizophrenia         12    CONDITION    dev\n",
       "3          acupuncture         11        OTHER    dev\n",
       "4                  tth         10    CONDITION    dev"
      ]
     },
     "execution_count": 46,
     "metadata": {},
     "output_type": "execute_result"
    }
   ],
   "source": [
    "top5_dev = get_top(dev_entities)\n",
    "top5_dev['source'] = \"dev\"\n",
    "top5_dev"
   ]
  },
  {
   "cell_type": "code",
   "execution_count": 47,
   "id": "62b0fbc7-35fb-4524-a43e-7bb81d47ffc9",
   "metadata": {},
   "outputs": [
    {
     "data": {
      "text/html": [
       "<div>\n",
       "<style scoped>\n",
       "    .dataframe tbody tr th:only-of-type {\n",
       "        vertical-align: middle;\n",
       "    }\n",
       "\n",
       "    .dataframe tbody tr th {\n",
       "        vertical-align: top;\n",
       "    }\n",
       "\n",
       "    .dataframe thead th {\n",
       "        text-align: right;\n",
       "    }\n",
       "</style>\n",
       "<table border=\"1\" class=\"dataframe\">\n",
       "  <thead>\n",
       "    <tr style=\"text-align: right;\">\n",
       "      <th></th>\n",
       "      <th>entity_token</th>\n",
       "      <th>frequency</th>\n",
       "      <th>entity_class</th>\n",
       "      <th>source</th>\n",
       "    </tr>\n",
       "  </thead>\n",
       "  <tbody>\n",
       "    <tr>\n",
       "      <th>0</th>\n",
       "      <td>pain</td>\n",
       "      <td>23</td>\n",
       "      <td>CONDITION</td>\n",
       "      <td>test</td>\n",
       "    </tr>\n",
       "    <tr>\n",
       "      <th>1</th>\n",
       "      <td>vret</td>\n",
       "      <td>15</td>\n",
       "      <td>OTHER</td>\n",
       "      <td>test</td>\n",
       "    </tr>\n",
       "    <tr>\n",
       "      <th>2</th>\n",
       "      <td>placebo</td>\n",
       "      <td>14</td>\n",
       "      <td>CONTROL</td>\n",
       "      <td>test</td>\n",
       "    </tr>\n",
       "    <tr>\n",
       "      <th>3</th>\n",
       "      <td>dementia</td>\n",
       "      <td>12</td>\n",
       "      <td>CONDITION</td>\n",
       "      <td>test</td>\n",
       "    </tr>\n",
       "    <tr>\n",
       "      <th>4</th>\n",
       "      <td>ttm</td>\n",
       "      <td>12</td>\n",
       "      <td>OTHER</td>\n",
       "      <td>test</td>\n",
       "    </tr>\n",
       "  </tbody>\n",
       "</table>\n",
       "</div>"
      ],
      "text/plain": [
       "  entity_token  frequency entity_class source\n",
       "0         pain         23    CONDITION   test\n",
       "1         vret         15        OTHER   test\n",
       "2      placebo         14      CONTROL   test\n",
       "3     dementia         12    CONDITION   test\n",
       "4          ttm         12        OTHER   test"
      ]
     },
     "execution_count": 47,
     "metadata": {},
     "output_type": "execute_result"
    }
   ],
   "source": [
    "top5_test = get_top(test_entities)\n",
    "top5_test['source'] = \"test\"\n",
    "top5_test"
   ]
  },
  {
   "cell_type": "code",
   "execution_count": 48,
   "id": "fe4e480d-e2f7-4495-8334-e273012464fe",
   "metadata": {},
   "outputs": [
    {
     "data": {
      "text/html": [
       "<div>\n",
       "<style scoped>\n",
       "    .dataframe tbody tr th:only-of-type {\n",
       "        vertical-align: middle;\n",
       "    }\n",
       "\n",
       "    .dataframe tbody tr th {\n",
       "        vertical-align: top;\n",
       "    }\n",
       "\n",
       "    .dataframe thead th {\n",
       "        text-align: right;\n",
       "    }\n",
       "</style>\n",
       "<table border=\"1\" class=\"dataframe\">\n",
       "  <thead>\n",
       "    <tr style=\"text-align: right;\">\n",
       "      <th></th>\n",
       "      <th>entity_token</th>\n",
       "      <th>frequency</th>\n",
       "      <th>entity_class</th>\n",
       "      <th>source</th>\n",
       "    </tr>\n",
       "  </thead>\n",
       "  <tbody>\n",
       "    <tr>\n",
       "      <th>0</th>\n",
       "      <td>placebo</td>\n",
       "      <td>163</td>\n",
       "      <td>CONTROL</td>\n",
       "      <td>train</td>\n",
       "    </tr>\n",
       "    <tr>\n",
       "      <th>1</th>\n",
       "      <td>stroke</td>\n",
       "      <td>111</td>\n",
       "      <td>CONDITION</td>\n",
       "      <td>train</td>\n",
       "    </tr>\n",
       "    <tr>\n",
       "      <th>2</th>\n",
       "      <td>parkinson's disease</td>\n",
       "      <td>83</td>\n",
       "      <td>CONDITION</td>\n",
       "      <td>train</td>\n",
       "    </tr>\n",
       "    <tr>\n",
       "      <th>3</th>\n",
       "      <td>pd</td>\n",
       "      <td>79</td>\n",
       "      <td>CONDITION</td>\n",
       "      <td>train</td>\n",
       "    </tr>\n",
       "    <tr>\n",
       "      <th>4</th>\n",
       "      <td>schizophrenia</td>\n",
       "      <td>68</td>\n",
       "      <td>CONDITION</td>\n",
       "      <td>train</td>\n",
       "    </tr>\n",
       "    <tr>\n",
       "      <th>0</th>\n",
       "      <td>placebo</td>\n",
       "      <td>28</td>\n",
       "      <td>CONTROL</td>\n",
       "      <td>dev</td>\n",
       "    </tr>\n",
       "    <tr>\n",
       "      <th>1</th>\n",
       "      <td>parkinson's disease</td>\n",
       "      <td>14</td>\n",
       "      <td>CONDITION</td>\n",
       "      <td>dev</td>\n",
       "    </tr>\n",
       "    <tr>\n",
       "      <th>2</th>\n",
       "      <td>schizophrenia</td>\n",
       "      <td>12</td>\n",
       "      <td>CONDITION</td>\n",
       "      <td>dev</td>\n",
       "    </tr>\n",
       "    <tr>\n",
       "      <th>3</th>\n",
       "      <td>acupuncture</td>\n",
       "      <td>11</td>\n",
       "      <td>OTHER</td>\n",
       "      <td>dev</td>\n",
       "    </tr>\n",
       "    <tr>\n",
       "      <th>4</th>\n",
       "      <td>tth</td>\n",
       "      <td>10</td>\n",
       "      <td>CONDITION</td>\n",
       "      <td>dev</td>\n",
       "    </tr>\n",
       "    <tr>\n",
       "      <th>0</th>\n",
       "      <td>pain</td>\n",
       "      <td>23</td>\n",
       "      <td>CONDITION</td>\n",
       "      <td>test</td>\n",
       "    </tr>\n",
       "    <tr>\n",
       "      <th>1</th>\n",
       "      <td>vret</td>\n",
       "      <td>15</td>\n",
       "      <td>OTHER</td>\n",
       "      <td>test</td>\n",
       "    </tr>\n",
       "    <tr>\n",
       "      <th>2</th>\n",
       "      <td>placebo</td>\n",
       "      <td>14</td>\n",
       "      <td>CONTROL</td>\n",
       "      <td>test</td>\n",
       "    </tr>\n",
       "    <tr>\n",
       "      <th>3</th>\n",
       "      <td>dementia</td>\n",
       "      <td>12</td>\n",
       "      <td>CONDITION</td>\n",
       "      <td>test</td>\n",
       "    </tr>\n",
       "    <tr>\n",
       "      <th>4</th>\n",
       "      <td>ttm</td>\n",
       "      <td>12</td>\n",
       "      <td>OTHER</td>\n",
       "      <td>test</td>\n",
       "    </tr>\n",
       "  </tbody>\n",
       "</table>\n",
       "</div>"
      ],
      "text/plain": [
       "          entity_token  frequency entity_class source\n",
       "0              placebo        163      CONTROL  train\n",
       "1               stroke        111    CONDITION  train\n",
       "2  parkinson's disease         83    CONDITION  train\n",
       "3                   pd         79    CONDITION  train\n",
       "4        schizophrenia         68    CONDITION  train\n",
       "0              placebo         28      CONTROL    dev\n",
       "1  parkinson's disease         14    CONDITION    dev\n",
       "2        schizophrenia         12    CONDITION    dev\n",
       "3          acupuncture         11        OTHER    dev\n",
       "4                  tth         10    CONDITION    dev\n",
       "0                 pain         23    CONDITION   test\n",
       "1                 vret         15        OTHER   test\n",
       "2              placebo         14      CONTROL   test\n",
       "3             dementia         12    CONDITION   test\n",
       "4                  ttm         12        OTHER   test"
      ]
     },
     "execution_count": 48,
     "metadata": {},
     "output_type": "execute_result"
    }
   ],
   "source": [
    "pd.concat([top5_train, top5_dev, top5_test])"
   ]
  },
  {
   "cell_type": "code",
   "execution_count": 49,
   "id": "f44e5b3c-272a-4274-9c84-386f60e70402",
   "metadata": {},
   "outputs": [
    {
     "data": {
      "text/plain": [
       "entity_class\n",
       "CONDITION       3159\n",
       "DRUG            1194\n",
       "OTHER           1138\n",
       "CONTROL          374\n",
       "PHYSICAL         335\n",
       "BEHAVIOURAL      153\n",
       "SURGICAL          89\n",
       "RADIOTHERAPY      24\n",
       "Name: frequency, dtype: int64"
      ]
     },
     "execution_count": 49,
     "metadata": {},
     "output_type": "execute_result"
    }
   ],
   "source": [
    "grouped_df_train = train_entities.groupby('entity_class')['frequency'].sum()\n",
    "grouped_df_train = grouped_df_train.sort_values(ascending=False)\n",
    "grouped_df_train"
   ]
  },
  {
   "cell_type": "code",
   "execution_count": 50,
   "id": "19ed30c1-caf0-4d38-8dd8-182c6a832e49",
   "metadata": {},
   "outputs": [
    {
     "data": {
      "text/plain": [
       "entity_class\n",
       "CONDITION       465\n",
       "OTHER           154\n",
       "DRUG            128\n",
       "PHYSICAL         68\n",
       "BEHAVIOURAL      48\n",
       "CONTROL          38\n",
       "RADIOTHERAPY      1\n",
       "Name: frequency, dtype: int64"
      ]
     },
     "execution_count": 50,
     "metadata": {},
     "output_type": "execute_result"
    }
   ],
   "source": [
    "grouped_df_test = test_entities.groupby('entity_class')['frequency'].sum()\n",
    "grouped_df_test = grouped_df_test.sort_values(ascending=False)\n",
    "grouped_df_test"
   ]
  },
  {
   "cell_type": "code",
   "execution_count": 51,
   "id": "2fdfa7f4-2958-4fd8-a838-b84cf35ac0b3",
   "metadata": {},
   "outputs": [
    {
     "data": {
      "text/plain": [
       "entity_class\n",
       "CONDITION       374\n",
       "DRUG            155\n",
       "OTHER           144\n",
       "CONTROL          50\n",
       "BEHAVIOURAL      21\n",
       "PHYSICAL         16\n",
       "SURGICAL          9\n",
       "RADIOTHERAPY      1\n",
       "Name: frequency, dtype: int64"
      ]
     },
     "execution_count": 51,
     "metadata": {},
     "output_type": "execute_result"
    }
   ],
   "source": [
    "grouped_df_dev = dev_entities.groupby('entity_class')['frequency'].sum()\n",
    "grouped_df_dev = grouped_df_dev.sort_values(ascending=False)\n",
    "grouped_df_dev"
   ]
  },
  {
   "cell_type": "markdown",
   "id": "83fe4b61-5e73-4448-84f1-efc686a470dc",
   "metadata": {},
   "source": [
    "# Extracting Abbreviations"
   ]
  },
  {
   "cell_type": "code",
   "execution_count": 23,
   "id": "d435c98a-74f4-4e56-92fa-55cb8997d264",
   "metadata": {},
   "outputs": [],
   "source": [
    "def extract_abbreviation_definition_pairs(doc_text):\n",
    "    pairs = schwartz_hearst.extract_abbreviation_definition_pairs(doc_text=doc_text)\n",
    "    return pairs"
   ]
  },
  {
   "cell_type": "code",
   "execution_count": 219,
   "id": "f1e092d5-76a2-47c4-9315-2fee68a8b7d1",
   "metadata": {},
   "outputs": [
    {
     "data": {
      "text/plain": [
       "{'PD': 'pakrins disse'}"
      ]
     },
     "execution_count": 219,
     "metadata": {},
     "output_type": "execute_result"
    }
   ],
   "source": [
    "extract_abbreviation_definition_pairs(\"heihfdo pakrins disse (PD)\")"
   ]
  },
  {
   "cell_type": "code",
   "execution_count": 222,
   "id": "b8a8d930-012d-4bf2-b221-302862f57a2c",
   "metadata": {},
   "outputs": [],
   "source": [
    "full_corpus_df = pd.read_csv(\"corpus/final_annotated_ds_per_ct_annotations.csv\")[['nct_id', 'text']]"
   ]
  },
  {
   "cell_type": "code",
   "execution_count": 223,
   "id": "8696a031-2b21-45ba-ad40-ed5be3acd8b3",
   "metadata": {},
   "outputs": [
    {
     "data": {
      "text/html": [
       "<div>\n",
       "<style scoped>\n",
       "    .dataframe tbody tr th:only-of-type {\n",
       "        vertical-align: middle;\n",
       "    }\n",
       "\n",
       "    .dataframe tbody tr th {\n",
       "        vertical-align: top;\n",
       "    }\n",
       "\n",
       "    .dataframe thead th {\n",
       "        text-align: right;\n",
       "    }\n",
       "</style>\n",
       "<table border=\"1\" class=\"dataframe\">\n",
       "  <thead>\n",
       "    <tr style=\"text-align: right;\">\n",
       "      <th></th>\n",
       "      <th>nct_id</th>\n",
       "      <th>text</th>\n",
       "      <th>pairs</th>\n",
       "    </tr>\n",
       "  </thead>\n",
       "  <tbody>\n",
       "    <tr>\n",
       "      <th>0</th>\n",
       "      <td>NCT00069550</td>\n",
       "      <td>Pathogenesis of Rett Syndrome: Natural History...</td>\n",
       "      <td>{'RTT': 'Rett syndrome'}</td>\n",
       "    </tr>\n",
       "    <tr>\n",
       "      <th>1</th>\n",
       "      <td>NCT04956874</td>\n",
       "      <td>The Florida REACH Translation Project | The pr...</td>\n",
       "      <td>{}</td>\n",
       "    </tr>\n",
       "    <tr>\n",
       "      <th>2</th>\n",
       "      <td>NCT04118829</td>\n",
       "      <td>Correlation of Serum Level of Perampanel (PER)...</td>\n",
       "      <td>{'PER': 'Perampanel', 'CSF': 'Cerebrospinal Fl...</td>\n",
       "    </tr>\n",
       "    <tr>\n",
       "      <th>3</th>\n",
       "      <td>NCT03232697</td>\n",
       "      <td>French Language Validation of the Phone Versio...</td>\n",
       "      <td>{'MoCA': 'Montreal Cognitive Assessment'}</td>\n",
       "    </tr>\n",
       "    <tr>\n",
       "      <th>4</th>\n",
       "      <td>NCT05462340</td>\n",
       "      <td>PET Imaging Study of α7 and α4β2-nAChR in Schi...</td>\n",
       "      <td>{'PET': 'Positron Emission Tomography', 'MRI':...</td>\n",
       "    </tr>\n",
       "  </tbody>\n",
       "</table>\n",
       "</div>"
      ],
      "text/plain": [
       "        nct_id                                               text  \\\n",
       "0  NCT00069550  Pathogenesis of Rett Syndrome: Natural History...   \n",
       "1  NCT04956874  The Florida REACH Translation Project | The pr...   \n",
       "2  NCT04118829  Correlation of Serum Level of Perampanel (PER)...   \n",
       "3  NCT03232697  French Language Validation of the Phone Versio...   \n",
       "4  NCT05462340  PET Imaging Study of α7 and α4β2-nAChR in Schi...   \n",
       "\n",
       "                                               pairs  \n",
       "0                           {'RTT': 'Rett syndrome'}  \n",
       "1                                                 {}  \n",
       "2  {'PER': 'Perampanel', 'CSF': 'Cerebrospinal Fl...  \n",
       "3          {'MoCA': 'Montreal Cognitive Assessment'}  \n",
       "4  {'PET': 'Positron Emission Tomography', 'MRI':...  "
      ]
     },
     "execution_count": 223,
     "metadata": {},
     "output_type": "execute_result"
    }
   ],
   "source": [
    "full_corpus_df['pairs'] = full_corpus_df['text'].apply(extract_abbreviation_definition_pairs)\n",
    "full_corpus_df.head()"
   ]
  },
  {
   "cell_type": "code",
   "execution_count": 242,
   "id": "d06ffe8e-aad0-426b-8b76-7068b714dfa8",
   "metadata": {},
   "outputs": [
    {
     "name": "stdout",
     "output_type": "stream",
     "text": [
      "{\"PD: Parkinson's disease\": 7, 'SCI: spinal cord injury': 5, 'MS: Multiple Sclerosis': 4, 'MS: multiple sclerosis': 4, 'PK: pharmacokinetics': 3, 'CSF: cerebrospinal fluid': 3, 'PET: positron emission tomography': 3, 'OSA: obstructive sleep apnea': 3, 'CPAP: continuous positive airway pressure': 3, \"PD: Parkinson's Disease\": 3}\n"
     ]
    }
   ],
   "source": [
    "from collections import Counter\n",
    "from collections import defaultdict\n",
    "\n",
    "full_corpus_df['pairs'] = full_corpus_df['text'].apply(extract_abbreviation_definition_pairs)\n",
    "\n",
    "# Step 1: Extract all pairs from the 'pairs' column into a list of dictionaries\n",
    "all_pairs_list_of_dicts = full_corpus_df['pairs'].tolist()\n",
    "\n",
    "# Initialize a defaultdict to store the frequency of each combination\n",
    "frequency_dict = defaultdict(int)\n",
    "\n",
    "# Iterate through each dictionary in the list and count the frequency of each combination\n",
    "for dictionary in all_pairs_list_of_dicts:\n",
    "    for key, value in dictionary.items():\n",
    "        combination = f\"{key}: {value}\"\n",
    "        frequency_dict[combination] += 1\n",
    "\n",
    "# Sort the combinations by frequency in descending order\n",
    "sorted_combinations = sorted(frequency_dict.items(), key=lambda x: x[1], reverse=True)\n",
    "\n",
    "# Convert the sorted_combinations list of tuples back to a dictionary\n",
    "result_dict = dict(sorted_combinations)\n",
    "\n",
    "# Get only the top 10 combinations\n",
    "top_10_combinations = dict(sorted_combinations[:10])\n",
    "\n",
    "# Output the result\n",
    "print(top_10_combinations)"
   ]
  },
  {
   "cell_type": "code",
   "execution_count": 267,
   "id": "f525e451-6f83-42af-be74-aec0c6fb5320",
   "metadata": {},
   "outputs": [
    {
     "data": {
      "text/plain": [
       "(35969, 3)"
      ]
     },
     "execution_count": 267,
     "metadata": {},
     "output_type": "execute_result"
    }
   ],
   "source": [
    "df = pd.read_csv(\"corpus/aact_neuro_samples_202308031504.csv\")\n",
    "df.shape"
   ]
  },
  {
   "cell_type": "code",
   "execution_count": 268,
   "id": "b384b149-963d-4df6-84ff-d93e8ca2e2ae",
   "metadata": {},
   "outputs": [
    {
     "data": {
      "text/html": [
       "<div>\n",
       "<style scoped>\n",
       "    .dataframe tbody tr th:only-of-type {\n",
       "        vertical-align: middle;\n",
       "    }\n",
       "\n",
       "    .dataframe tbody tr th {\n",
       "        vertical-align: top;\n",
       "    }\n",
       "\n",
       "    .dataframe thead th {\n",
       "        text-align: right;\n",
       "    }\n",
       "</style>\n",
       "<table border=\"1\" class=\"dataframe\">\n",
       "  <thead>\n",
       "    <tr style=\"text-align: right;\">\n",
       "      <th></th>\n",
       "      <th>nct_id</th>\n",
       "      <th>official_title</th>\n",
       "      <th>description</th>\n",
       "    </tr>\n",
       "  </thead>\n",
       "  <tbody>\n",
       "    <tr>\n",
       "      <th>0</th>\n",
       "      <td>NCT05614713</td>\n",
       "      <td>Effect of Sensory Integration Therapy on Balan...</td>\n",
       "      <td>Purpose: to investigate the effect of sensory ...</td>\n",
       "    </tr>\n",
       "    <tr>\n",
       "      <th>1</th>\n",
       "      <td>NCT00480844</td>\n",
       "      <td>Comparison of Cognitive Functions of Schizophr...</td>\n",
       "      <td>In this study we intend to compare the effect ...</td>\n",
       "    </tr>\n",
       "    <tr>\n",
       "      <th>2</th>\n",
       "      <td>NCT03827057</td>\n",
       "      <td>RECONsolidation of Traumatic Memories to ResOL...</td>\n",
       "      <td>Posttraumatic Stress Disorder (PTSD) is a comm...</td>\n",
       "    </tr>\n",
       "    <tr>\n",
       "      <th>3</th>\n",
       "      <td>NCT00361205</td>\n",
       "      <td>Electronic Compliance Monitoring in Parkinson'...</td>\n",
       "      <td>Patients with Parkinson's Disease (PD) depend ...</td>\n",
       "    </tr>\n",
       "    <tr>\n",
       "      <th>4</th>\n",
       "      <td>NCT03038269</td>\n",
       "      <td>Transcranial Direct Current Stimulation and Ro...</td>\n",
       "      <td>The purpose of this study is to improve arm fu...</td>\n",
       "    </tr>\n",
       "  </tbody>\n",
       "</table>\n",
       "</div>"
      ],
      "text/plain": [
       "        nct_id                                     official_title  \\\n",
       "0  NCT05614713  Effect of Sensory Integration Therapy on Balan...   \n",
       "1  NCT00480844  Comparison of Cognitive Functions of Schizophr...   \n",
       "2  NCT03827057  RECONsolidation of Traumatic Memories to ResOL...   \n",
       "3  NCT00361205  Electronic Compliance Monitoring in Parkinson'...   \n",
       "4  NCT03038269  Transcranial Direct Current Stimulation and Ro...   \n",
       "\n",
       "                                         description  \n",
       "0  Purpose: to investigate the effect of sensory ...  \n",
       "1  In this study we intend to compare the effect ...  \n",
       "2  Posttraumatic Stress Disorder (PTSD) is a comm...  \n",
       "3  Patients with Parkinson's Disease (PD) depend ...  \n",
       "4  The purpose of this study is to improve arm fu...  "
      ]
     },
     "execution_count": 268,
     "metadata": {},
     "output_type": "execute_result"
    }
   ],
   "source": [
    "df.head()"
   ]
  },
  {
   "cell_type": "code",
   "execution_count": 269,
   "id": "2e64a706-749e-410e-95e5-17964397adf1",
   "metadata": {},
   "outputs": [
    {
     "data": {
      "text/plain": [
       "(30521, 3)"
      ]
     },
     "execution_count": 269,
     "metadata": {},
     "output_type": "execute_result"
    }
   ],
   "source": [
    "df.drop_duplicates(subset='nct_id', keep='first', inplace=True)\n",
    "df.shape"
   ]
  },
  {
   "cell_type": "code",
   "execution_count": 270,
   "id": "29e8021b-4e9a-41ce-99ab-1c857afd832b",
   "metadata": {},
   "outputs": [],
   "source": [
    "all_aact_neuro['title_description'] = df['official_title'] + \"| \" + df['description']\n",
    "all_aact_neuro['title_description'] = all_aact_neuro['title_description'].astype(str)\n"
   ]
  },
  {
   "cell_type": "code",
   "execution_count": 271,
   "id": "36f9af58-8a8b-4cc4-ace5-8aa9f4f471bc",
   "metadata": {},
   "outputs": [
    {
     "data": {
      "text/plain": [
       "nct_id               object\n",
       "official_title       object\n",
       "description          object\n",
       "title_description    object\n",
       "dtype: object"
      ]
     },
     "execution_count": 271,
     "metadata": {},
     "output_type": "execute_result"
    }
   ],
   "source": [
    "all_aact_neuro.dtypes"
   ]
  },
  {
   "cell_type": "code",
   "execution_count": 272,
   "id": "f6ec7dde-fd1e-4f16-a4b5-bb6ac1cd94bb",
   "metadata": {},
   "outputs": [
    {
     "data": {
      "text/html": [
       "<div>\n",
       "<style scoped>\n",
       "    .dataframe tbody tr th:only-of-type {\n",
       "        vertical-align: middle;\n",
       "    }\n",
       "\n",
       "    .dataframe tbody tr th {\n",
       "        vertical-align: top;\n",
       "    }\n",
       "\n",
       "    .dataframe thead th {\n",
       "        text-align: right;\n",
       "    }\n",
       "</style>\n",
       "<table border=\"1\" class=\"dataframe\">\n",
       "  <thead>\n",
       "    <tr style=\"text-align: right;\">\n",
       "      <th></th>\n",
       "      <th>nct_id</th>\n",
       "      <th>title_description</th>\n",
       "    </tr>\n",
       "  </thead>\n",
       "  <tbody>\n",
       "    <tr>\n",
       "      <th>0</th>\n",
       "      <td>NCT05614713</td>\n",
       "      <td>Effect of Sensory Integration Therapy on Balan...</td>\n",
       "    </tr>\n",
       "    <tr>\n",
       "      <th>1</th>\n",
       "      <td>NCT00480844</td>\n",
       "      <td>Comparison of Cognitive Functions of Schizophr...</td>\n",
       "    </tr>\n",
       "    <tr>\n",
       "      <th>2</th>\n",
       "      <td>NCT03827057</td>\n",
       "      <td>RECONsolidation of Traumatic Memories to ResOL...</td>\n",
       "    </tr>\n",
       "    <tr>\n",
       "      <th>3</th>\n",
       "      <td>NCT00361205</td>\n",
       "      <td>Electronic Compliance Monitoring in Parkinson'...</td>\n",
       "    </tr>\n",
       "    <tr>\n",
       "      <th>4</th>\n",
       "      <td>NCT03038269</td>\n",
       "      <td>Transcranial Direct Current Stimulation and Ro...</td>\n",
       "    </tr>\n",
       "  </tbody>\n",
       "</table>\n",
       "</div>"
      ],
      "text/plain": [
       "        nct_id                                  title_description\n",
       "0  NCT05614713  Effect of Sensory Integration Therapy on Balan...\n",
       "1  NCT00480844  Comparison of Cognitive Functions of Schizophr...\n",
       "2  NCT03827057  RECONsolidation of Traumatic Memories to ResOL...\n",
       "3  NCT00361205  Electronic Compliance Monitoring in Parkinson'...\n",
       "4  NCT03038269  Transcranial Direct Current Stimulation and Ro..."
      ]
     },
     "execution_count": 272,
     "metadata": {},
     "output_type": "execute_result"
    }
   ],
   "source": [
    "full_corpus_df = all_aact_neuro[[\"nct_id\", \"title_description\"]]\n",
    "full_corpus_df.head()"
   ]
  },
  {
   "cell_type": "code",
   "execution_count": 273,
   "id": "5da423fb-8328-4a58-a543-aa3ebde793ad",
   "metadata": {},
   "outputs": [
    {
     "name": "stderr",
     "output_type": "stream",
     "text": [
      "/var/folders/px/wtj901jn7z9f26xgbys4l7jh0000gp/T/ipykernel_9466/359770276.py:1: SettingWithCopyWarning: \n",
      "A value is trying to be set on a copy of a slice from a DataFrame.\n",
      "Try using .loc[row_indexer,col_indexer] = value instead\n",
      "\n",
      "See the caveats in the documentation: https://pandas.pydata.org/pandas-docs/stable/user_guide/indexing.html#returning-a-view-versus-a-copy\n",
      "  full_corpus_df['pairs'] = full_corpus_df['title_description'].apply(extract_abbreviation_definition_pairs)\n"
     ]
    }
   ],
   "source": [
    "full_corpus_df['pairs'] = full_corpus_df['title_description'].apply(extract_abbreviation_definition_pairs)\n"
   ]
  },
  {
   "cell_type": "code",
   "execution_count": 279,
   "id": "4985f252-7eb9-4b19-ba81-13af36923c98",
   "metadata": {},
   "outputs": [],
   "source": [
    "\n",
    "# Step 1: Extract all pairs from the 'pairs' column into a list of dictionaries\n",
    "all_pairs_list_of_dicts = full_corpus_df['pairs'].tolist()\n",
    "\n",
    "# Initialize a defaultdict to store the frequency of each combination\n",
    "frequency_dict = defaultdict(int)\n",
    "\n",
    "# Iterate through each dictionary in the list and count the frequency of each combination\n",
    "for dictionary in all_pairs_list_of_dicts:\n",
    "    for key, value in dictionary.items():\n",
    "        value = value.lower()\n",
    "        combination = f\"{key}: {value}\"\n",
    "        frequency_dict[combination] += 1\n",
    "\n",
    "# Sort the combinations by frequency in descending order\n",
    "sorted_combinations = sorted(frequency_dict.items(), key=lambda x: x[1], reverse=True)\n",
    "\n",
    "# Convert the sorted_combinations list of tuples back to a dictionary\n",
    "result_dict = dict(sorted_combinations)"
   ]
  },
  {
   "cell_type": "code",
   "execution_count": 280,
   "id": "06fbb01d-9702-46c7-a950-6830850dfb90",
   "metadata": {},
   "outputs": [
    {
     "data": {
      "text/plain": [
       "{\"PD: parkinson's disease\": 672,\n",
       " 'MS: multiple sclerosis': 579,\n",
       " \"AD: alzheimer's disease\": 470,\n",
       " 'OSA: obstructive sleep apnea': 404,\n",
       " 'SCI: spinal cord injury': 332,\n",
       " 'tDCS: transcranial direct current stimulation': 322,\n",
       " 'TBI: traumatic brain injury': 267,\n",
       " 'MRI: magnetic resonance imaging': 261,\n",
       " 'CPAP: continuous positive airway pressure': 242,\n",
       " 'rTMS: repetitive transcranial magnetic stimulation': 209,\n",
       " 'ALS: amyotrophic lateral sclerosis': 201,\n",
       " 'CP: cerebral palsy': 172,\n",
       " 'PK: pharmacokinetics': 169,\n",
       " 'PET: positron emission tomography': 169,\n",
       " 'DBS: deep brain stimulation': 164,\n",
       " 'TMS: transcranial magnetic stimulation': 147,\n",
       " 'MCI: mild cognitive impairment': 125,\n",
       " 'IV: intravenous': 120,\n",
       " 'RCT: randomized controlled trial': 111,\n",
       " 'CSF: cerebrospinal fluid': 110,\n",
       " 'CNS: central nervous system': 104,\n",
       " 'VR: virtual reality': 94,\n",
       " 'DMD: duchenne muscular dystrophy': 93,\n",
       " 'CTS: carpal tunnel syndrome': 84,\n",
       " 'fMRI: functional magnetic resonance imaging': 78,\n",
       " 'FM: fibromyalgia': 77,\n",
       " 'RLS: restless legs syndrome': 74,\n",
       " 'OSAS: obstructive sleep apnea syndrome': 71,\n",
       " 'PD: parkinson disease': 69,\n",
       " 'PK: pharmacokinetic': 69}"
      ]
     },
     "execution_count": 280,
     "metadata": {},
     "output_type": "execute_result"
    }
   ],
   "source": [
    "# Get only the top 10 combinations\n",
    "top_n_combinations = dict(sorted_combinations[:30])\n",
    "top_n_combinations"
   ]
  },
  {
   "cell_type": "code",
   "execution_count": null,
   "id": "34134596-4227-4f07-8685-519b4b13f485",
   "metadata": {},
   "outputs": [],
   "source": []
  }
 ],
 "metadata": {
  "kernelspec": {
   "display_name": "Python 3 (ipykernel)",
   "language": "python",
   "name": "python3"
  },
  "language_info": {
   "codemirror_mode": {
    "name": "ipython",
    "version": 3
   },
   "file_extension": ".py",
   "mimetype": "text/x-python",
   "name": "python",
   "nbconvert_exporter": "python",
   "pygments_lexer": "ipython3",
   "version": "3.9.1"
  }
 },
 "nbformat": 4,
 "nbformat_minor": 5
}
