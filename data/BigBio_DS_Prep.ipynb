{
 "cells": [
  {
   "cell_type": "code",
   "execution_count": 36,
   "id": "b1360ad7-36ca-484f-9a37-1b59a196cb3d",
   "metadata": {},
   "outputs": [],
   "source": [
    "import pandas as pd\n",
    "import ast"
   ]
  },
  {
   "cell_type": "code",
   "execution_count": 146,
   "id": "57f51a97-1869-4b88-8611-96ba5e41f5e6",
   "metadata": {},
   "outputs": [],
   "source": [
    "data_path = \"./annotated_data/data_splits/stratified_entities/\"\n",
    "dev_file = f\"{data_path}ct_neuro_dev_merged_153.csv\"\n",
    "train_file = f\"{data_path}ct_neuro_train_merged_787.csv\"\n",
    "test_file = f\"{data_path}ct_neuro_test_merged_153.csv\""
   ]
  },
  {
   "cell_type": "code",
   "execution_count": 148,
   "id": "89469c43-5d10-495b-8800-e53f7f08e789",
   "metadata": {},
   "outputs": [],
   "source": [
    "dev = pd.read_csv(dev_file)\n",
    "test = pd.read_csv(test_file)\n",
    "train = pd.read_csv(train_file)"
   ]
  },
  {
   "cell_type": "code",
   "execution_count": 150,
   "id": "ba70008d-f252-43f0-ab5a-95a96810fc65",
   "metadata": {},
   "outputs": [
    {
     "data": {
      "text/plain": [
       "\"The Contribution of a Speech Perception Intervention to the Prevention of Phonological Awareness Deficits in Children With Speech Sound Disorders | Recent research reveals genetic and symptomatic overlap among children with speech sound disorders (i.e., those who (misarticulate more sounds than would be expected for their age) and children with dyslexia (i.e., those who struggle to learn to read). Children who have speech sound disorders as preschoolers are at risk for the later emergence of dyslexia, a risk that often reveals itself in the form of poor phonological awareness skills during the preschool period. Traditional speech therapy methods focus on articulation accuracy and do not focus on the child's more abstract knowledge of the sound system of the language. The ultimate objective of this research program is to prevent reading disability in children who present with speech sounds disorders. The relative effectiveness of different interventions to help these children achieve age-appropriate phonological processing skills prior to school entry will be investigated. It is expected that a combination of treatment approaches that focus on speech perception skills and vocabulary knowledge will have a superior impact on phonological awareness in comparison with a treatment approach that focuses solely on articulation accuracy.\""
      ]
     },
     "execution_count": 150,
     "metadata": {},
     "output_type": "execute_result"
    }
   ],
   "source": [
    "dev['text'][0]"
   ]
  },
  {
   "cell_type": "code",
   "execution_count": 154,
   "id": "4a6f6992-c11a-4b78-a96b-260224cd05d4",
   "metadata": {},
   "outputs": [],
   "source": [
    "dev['text'] = dev['text'].astype(str)\n",
    "train['text'] = train['text'].astype(str)\n",
    "test['text'] = test['text'].astype(str)\n",
    "\n",
    "# Now, split the 'text' column into 'study_official_title' and 'study_brief_summary'\n",
    "dev[['study_official_title', 'study_brief_summary']] = dev['text'].str.split('|', expand=True, n=1)\n",
    "train[['study_official_title', 'study_brief_summary']] = train['text'].str.split('|', expand=True, n=1)\n",
    "test[['study_official_title', 'study_brief_summary']] = test['text'].str.split('|', expand=True, n=1)"
   ]
  },
  {
   "cell_type": "code",
   "execution_count": 156,
   "id": "80cf0330-083b-46ea-b9bb-0e29a4475e09",
   "metadata": {},
   "outputs": [
    {
     "data": {
      "text/html": [
       "<div>\n",
       "<style scoped>\n",
       "    .dataframe tbody tr th:only-of-type {\n",
       "        vertical-align: middle;\n",
       "    }\n",
       "\n",
       "    .dataframe tbody tr th {\n",
       "        vertical-align: top;\n",
       "    }\n",
       "\n",
       "    .dataframe thead th {\n",
       "        text-align: right;\n",
       "    }\n",
       "</style>\n",
       "<table border=\"1\" class=\"dataframe\">\n",
       "  <thead>\n",
       "    <tr style=\"text-align: right;\">\n",
       "      <th></th>\n",
       "      <th>tokens</th>\n",
       "      <th>ner_tags</th>\n",
       "      <th>id</th>\n",
       "      <th>nct_id</th>\n",
       "      <th>text</th>\n",
       "      <th>ner_manual_ct_target</th>\n",
       "      <th>study_official_title</th>\n",
       "      <th>study_brief_summary</th>\n",
       "    </tr>\n",
       "  </thead>\n",
       "  <tbody>\n",
       "    <tr>\n",
       "      <th>0</th>\n",
       "      <td>['The', 'Contribution', 'of', 'a', 'Speech', '...</td>\n",
       "      <td>['O', 'O', 'O', 'O', 'B-OTHER', 'I-OTHER', 'I-...</td>\n",
       "      <td>NCT00818428</td>\n",
       "      <td>NCT00818428</td>\n",
       "      <td>The Contribution of a Speech Perception Interv...</td>\n",
       "      <td>[(22, 52, 'OTHER', 'Speech Perception Interven...</td>\n",
       "      <td>The Contribution of a Speech Perception Interv...</td>\n",
       "      <td>Recent research reveals genetic and symptomat...</td>\n",
       "    </tr>\n",
       "    <tr>\n",
       "      <th>1</th>\n",
       "      <td>['A', 'Pilot', 'Study', 'of', 'Mitoxantrone', ...</td>\n",
       "      <td>['O', 'O', 'O', 'O', 'B-DRUG', 'O', 'O', 'O', ...</td>\n",
       "      <td>NCT00304291</td>\n",
       "      <td>NCT00304291</td>\n",
       "      <td>A Pilot Study of Mitoxantrone for the Treatmen...</td>\n",
       "      <td>[(17, 29, 'DRUG', 'Mitoxantrone'), (51, 81, 'C...</td>\n",
       "      <td>A Pilot Study of Mitoxantrone for the Treatmen...</td>\n",
       "      <td>Neuromyelitis optica (NMO) is a severe demyel...</td>\n",
       "    </tr>\n",
       "    <tr>\n",
       "      <th>2</th>\n",
       "      <td>['Protection', 'Against', 'Emboli', 'During', ...</td>\n",
       "      <td>['O', 'O', 'B-COND', 'O', 'B-COND', 'I-COND', ...</td>\n",
       "      <td>NCT04201132</td>\n",
       "      <td>NCT04201132</td>\n",
       "      <td>Protection Against Emboli During Carotid Arter...</td>\n",
       "      <td>[(19, 25, 'CONDITION', 'Emboli'), (33, 56, 'CO...</td>\n",
       "      <td>Protection Against Emboli During Carotid Arter...</td>\n",
       "      <td>A prospective, multicenter single-arm, open l...</td>\n",
       "    </tr>\n",
       "    <tr>\n",
       "      <th>3</th>\n",
       "      <td>['Additional', 'Effects', 'of', 'Motor', 'Imag...</td>\n",
       "      <td>['O', 'O', 'O', 'B-OTHER', 'I-OTHER', 'I-OTHER...</td>\n",
       "      <td>NCT04086004</td>\n",
       "      <td>NCT04086004</td>\n",
       "      <td>Additional Effects of Motor Imagery Practice W...</td>\n",
       "      <td>[(22, 44, 'OTHER', 'Motor Imagery Practice'), ...</td>\n",
       "      <td>Additional Effects of Motor Imagery Practice W...</td>\n",
       "      <td>The importance of potent rehabilitation with ...</td>\n",
       "    </tr>\n",
       "    <tr>\n",
       "      <th>4</th>\n",
       "      <td>['Combined', 'Botulinum', 'Toxin', 'Type', 'A'...</td>\n",
       "      <td>['O', 'B-DRUG', 'I-DRUG', 'I-DRUG', 'I-DRUG', ...</td>\n",
       "      <td>NCT00723866</td>\n",
       "      <td>NCT00723866</td>\n",
       "      <td>Combined Botulinum Toxin Type A With Modified ...</td>\n",
       "      <td>[(9, 31, 'DRUG', 'Botulinum Toxin Type A'), (3...</td>\n",
       "      <td>Combined Botulinum Toxin Type A With Modified ...</td>\n",
       "      <td>Botulinum toxin type A (BtxA) injection and m...</td>\n",
       "    </tr>\n",
       "  </tbody>\n",
       "</table>\n",
       "</div>"
      ],
      "text/plain": [
       "                                              tokens  \\\n",
       "0  ['The', 'Contribution', 'of', 'a', 'Speech', '...   \n",
       "1  ['A', 'Pilot', 'Study', 'of', 'Mitoxantrone', ...   \n",
       "2  ['Protection', 'Against', 'Emboli', 'During', ...   \n",
       "3  ['Additional', 'Effects', 'of', 'Motor', 'Imag...   \n",
       "4  ['Combined', 'Botulinum', 'Toxin', 'Type', 'A'...   \n",
       "\n",
       "                                            ner_tags           id  \\\n",
       "0  ['O', 'O', 'O', 'O', 'B-OTHER', 'I-OTHER', 'I-...  NCT00818428   \n",
       "1  ['O', 'O', 'O', 'O', 'B-DRUG', 'O', 'O', 'O', ...  NCT00304291   \n",
       "2  ['O', 'O', 'B-COND', 'O', 'B-COND', 'I-COND', ...  NCT04201132   \n",
       "3  ['O', 'O', 'O', 'B-OTHER', 'I-OTHER', 'I-OTHER...  NCT04086004   \n",
       "4  ['O', 'B-DRUG', 'I-DRUG', 'I-DRUG', 'I-DRUG', ...  NCT00723866   \n",
       "\n",
       "        nct_id                                               text  \\\n",
       "0  NCT00818428  The Contribution of a Speech Perception Interv...   \n",
       "1  NCT00304291  A Pilot Study of Mitoxantrone for the Treatmen...   \n",
       "2  NCT04201132  Protection Against Emboli During Carotid Arter...   \n",
       "3  NCT04086004  Additional Effects of Motor Imagery Practice W...   \n",
       "4  NCT00723866  Combined Botulinum Toxin Type A With Modified ...   \n",
       "\n",
       "                                ner_manual_ct_target  \\\n",
       "0  [(22, 52, 'OTHER', 'Speech Perception Interven...   \n",
       "1  [(17, 29, 'DRUG', 'Mitoxantrone'), (51, 81, 'C...   \n",
       "2  [(19, 25, 'CONDITION', 'Emboli'), (33, 56, 'CO...   \n",
       "3  [(22, 44, 'OTHER', 'Motor Imagery Practice'), ...   \n",
       "4  [(9, 31, 'DRUG', 'Botulinum Toxin Type A'), (3...   \n",
       "\n",
       "                                study_official_title  \\\n",
       "0  The Contribution of a Speech Perception Interv...   \n",
       "1  A Pilot Study of Mitoxantrone for the Treatmen...   \n",
       "2  Protection Against Emboli During Carotid Arter...   \n",
       "3  Additional Effects of Motor Imagery Practice W...   \n",
       "4  Combined Botulinum Toxin Type A With Modified ...   \n",
       "\n",
       "                                 study_brief_summary  \n",
       "0   Recent research reveals genetic and symptomat...  \n",
       "1   Neuromyelitis optica (NMO) is a severe demyel...  \n",
       "2   A prospective, multicenter single-arm, open l...  \n",
       "3   The importance of potent rehabilitation with ...  \n",
       "4   Botulinum toxin type A (BtxA) injection and m...  "
      ]
     },
     "execution_count": 156,
     "metadata": {},
     "output_type": "execute_result"
    }
   ],
   "source": [
    "dev.head()"
   ]
  },
  {
   "cell_type": "code",
   "execution_count": 174,
   "id": "d0e271f1-cc4f-4660-bc79-84422f2b5a2d",
   "metadata": {},
   "outputs": [],
   "source": [
    "# Convert the 'tokens' and 'ner_manual_ct_target' columns safely to lists if they are strings\n",
    "def convert_to_json_format(row):\n",
    "    ner_manual_ct_target = ast.literal_eval(row['ner_manual_ct_target']) if isinstance(row['ner_manual_ct_target'], str) else row['ner_manual_ct_target']\n",
    "\n",
    "    # Processing entities\n",
    "    entities = [\n",
    "        {\n",
    "            \"start\": ent[0],\n",
    "            \"end\": ent[1],\n",
    "            \"text\": ent[3],\n",
    "            \"type\": ent[2]\n",
    "        } for ent in ner_manual_ct_target\n",
    "    ]\n",
    "    \n",
    "    # Returning the formatted JSON output\n",
    "    return {\n",
    "        \"nctid\": row['nct_id'],\n",
    "        \"study_official_title\": row['study_official_title'] + \"|\",\n",
    "        \"study_brief_summary\": row['study_brief_summary'],\n",
    "        \"text\": row['text'],\n",
    "        \"tokens\": str(row['tokens']),  # Joining tokens as a single string\n",
    "        \"token_bio_labels\": row['ner_tags'],  # Joining token_bio_labels as a single string\n",
    "        \"entities\": entities\n",
    "    }\n",
    "\n",
    "# Convert the dataframe to the desired JSON format\n",
    "json_output_dev = [convert_to_json_format(row) for index, row in dev.iterrows()]\n",
    "json_output_test = [convert_to_json_format(row) for index, row in test.iterrows()]\n",
    "json_output_train = [convert_to_json_format(row) for index, row in train.iterrows()]\n"
   ]
  },
  {
   "cell_type": "code",
   "execution_count": 176,
   "id": "27502ef3-8b85-4bb8-ba02-1052963b2945",
   "metadata": {},
   "outputs": [
    {
     "data": {
      "text/plain": [
       "{'nctid': 'NCT00818428',\n",
       " 'study_official_title': 'The Contribution of a Speech Perception Intervention to the Prevention of Phonological Awareness Deficits in Children With Speech Sound Disorders |',\n",
       " 'study_brief_summary': \" Recent research reveals genetic and symptomatic overlap among children with speech sound disorders (i.e., those who (misarticulate more sounds than would be expected for their age) and children with dyslexia (i.e., those who struggle to learn to read). Children who have speech sound disorders as preschoolers are at risk for the later emergence of dyslexia, a risk that often reveals itself in the form of poor phonological awareness skills during the preschool period. Traditional speech therapy methods focus on articulation accuracy and do not focus on the child's more abstract knowledge of the sound system of the language. The ultimate objective of this research program is to prevent reading disability in children who present with speech sounds disorders. The relative effectiveness of different interventions to help these children achieve age-appropriate phonological processing skills prior to school entry will be investigated. It is expected that a combination of treatment approaches that focus on speech perception skills and vocabulary knowledge will have a superior impact on phonological awareness in comparison with a treatment approach that focuses solely on articulation accuracy.\",\n",
       " 'text': \"The Contribution of a Speech Perception Intervention to the Prevention of Phonological Awareness Deficits in Children With Speech Sound Disorders | Recent research reveals genetic and symptomatic overlap among children with speech sound disorders (i.e., those who (misarticulate more sounds than would be expected for their age) and children with dyslexia (i.e., those who struggle to learn to read). Children who have speech sound disorders as preschoolers are at risk for the later emergence of dyslexia, a risk that often reveals itself in the form of poor phonological awareness skills during the preschool period. Traditional speech therapy methods focus on articulation accuracy and do not focus on the child's more abstract knowledge of the sound system of the language. The ultimate objective of this research program is to prevent reading disability in children who present with speech sounds disorders. The relative effectiveness of different interventions to help these children achieve age-appropriate phonological processing skills prior to school entry will be investigated. It is expected that a combination of treatment approaches that focus on speech perception skills and vocabulary knowledge will have a superior impact on phonological awareness in comparison with a treatment approach that focuses solely on articulation accuracy.\",\n",
       " 'tokens': '[\\'The\\', \\'Contribution\\', \\'of\\', \\'a\\', \\'Speech\\', \\'Perception\\', \\'Intervention\\', \\'to\\', \\'the\\', \\'Prevention\\', \\'of\\', \\'Phonological\\', \\'Awareness\\', \\'Deficits\\', \\'in\\', \\'Children\\', \\'With\\', \\'Speech\\', \\'Sound\\', \\'Disorders\\', \\'|\\', \\'Recent\\', \\'research\\', \\'reveals\\', \\'genetic\\', \\'and\\', \\'symptomatic\\', \\'overlap\\', \\'among\\', \\'children\\', \\'with\\', \\'speech\\', \\'sound\\', \\'disorders\\', \\'(\\', \\'i.e.\\', \\',\\', \\'those\\', \\'who\\', \\'(\\', \\'misarticulate\\', \\'more\\', \\'sounds\\', \\'than\\', \\'would\\', \\'be\\', \\'expected\\', \\'for\\', \\'their\\', \\'age\\', \\')\\', \\'and\\', \\'children\\', \\'with\\', \\'dyslexia\\', \\'(\\', \\'i.e.\\', \\',\\', \\'those\\', \\'who\\', \\'struggle\\', \\'to\\', \\'learn\\', \\'to\\', \\'read\\', \\')\\', \\'.\\', \\'Children\\', \\'who\\', \\'have\\', \\'speech\\', \\'sound\\', \\'disorders\\', \\'as\\', \\'preschoolers\\', \\'are\\', \\'at\\', \\'risk\\', \\'for\\', \\'the\\', \\'later\\', \\'emergence\\', \\'of\\', \\'dyslexia\\', \\',\\', \\'a\\', \\'risk\\', \\'that\\', \\'often\\', \\'reveals\\', \\'itself\\', \\'in\\', \\'the\\', \\'form\\', \\'of\\', \\'poor\\', \\'phonological\\', \\'awareness\\', \\'skills\\', \\'during\\', \\'the\\', \\'preschool\\', \\'period\\', \\'.\\', \\'Traditional\\', \\'speech\\', \\'therapy\\', \\'methods\\', \\'focus\\', \\'on\\', \\'articulation\\', \\'accuracy\\', \\'and\\', \\'do\\', \\'not\\', \\'focus\\', \\'on\\', \\'the\\', \\'child\\', \"\\'s\", \\'more\\', \\'abstract\\', \\'knowledge\\', \\'of\\', \\'the\\', \\'sound\\', \\'system\\', \\'of\\', \\'the\\', \\'language\\', \\'.\\', \\'The\\', \\'ultimate\\', \\'objective\\', \\'of\\', \\'this\\', \\'research\\', \\'program\\', \\'is\\', \\'to\\', \\'prevent\\', \\'reading\\', \\'disability\\', \\'in\\', \\'children\\', \\'who\\', \\'present\\', \\'with\\', \\'speech\\', \\'sounds\\', \\'disorders\\', \\'.\\', \\'The\\', \\'relative\\', \\'effectiveness\\', \\'of\\', \\'different\\', \\'interventions\\', \\'to\\', \\'help\\', \\'these\\', \\'children\\', \\'achieve\\', \\'age\\', \\'-\\', \\'appropriate\\', \\'phonological\\', \\'processing\\', \\'skills\\', \\'prior\\', \\'to\\', \\'school\\', \\'entry\\', \\'will\\', \\'be\\', \\'investigated\\', \\'.\\', \\'It\\', \\'is\\', \\'expected\\', \\'that\\', \\'a\\', \\'combination\\', \\'of\\', \\'treatment\\', \\'approaches\\', \\'that\\', \\'focus\\', \\'on\\', \\'speech\\', \\'perception\\', \\'skills\\', \\'and\\', \\'vocabulary\\', \\'knowledge\\', \\'will\\', \\'have\\', \\'a\\', \\'superior\\', \\'impact\\', \\'on\\', \\'phonological\\', \\'awareness\\', \\'in\\', \\'comparison\\', \\'with\\', \\'a\\', \\'treatment\\', \\'approach\\', \\'that\\', \\'focuses\\', \\'solely\\', \\'on\\', \\'articulation\\', \\'accuracy\\', \\'.\\']',\n",
       " 'token_bio_labels': \"['O', 'O', 'O', 'O', 'B-OTHER', 'I-OTHER', 'I-OTHER', 'O', 'O', 'O', 'O', 'O', 'O', 'O', 'O', 'O', 'O', 'B-COND', 'I-COND', 'I-COND', 'O', 'O', 'O', 'O', 'O', 'O', 'O', 'O', 'O', 'O', 'O', 'B-COND', 'I-COND', 'I-COND', 'O', 'O', 'O', 'O', 'O', 'O', 'O', 'O', 'O', 'O', 'O', 'O', 'O', 'O', 'O', 'O', 'O', 'O', 'O', 'O', 'O', 'O', 'O', 'O', 'O', 'O', 'O', 'O', 'O', 'O', 'O', 'O', 'O', 'O', 'O', 'O', 'B-COND', 'I-COND', 'I-COND', 'O', 'O', 'O', 'O', 'O', 'O', 'O', 'O', 'O', 'O', 'O', 'O', 'O', 'O', 'O', 'O', 'O', 'O', 'O', 'O', 'O', 'O', 'O', 'O', 'O', 'O', 'O', 'O', 'O', 'O', 'O', 'O', 'O', 'O', 'O', 'O', 'O', 'O', 'O', 'O', 'O', 'O', 'O', 'O', 'O', 'O', 'O', 'O', 'O', 'O', 'O', 'O', 'O', 'O', 'O', 'O', 'O', 'O', 'O', 'O', 'O', 'O', 'O', 'O', 'O', 'O', 'O', 'O', 'O', 'O', 'O', 'O', 'O', 'O', 'O', 'B-COND', 'I-COND', 'I-COND', 'O', 'O', 'O', 'O', 'O', 'O', 'O', 'O', 'O', 'O', 'O', 'O', 'O', 'O', 'O', 'O', 'O', 'O', 'O', 'O', 'O', 'O', 'O', 'O', 'O', 'O', 'O', 'O', 'O', 'O', 'O', 'B-OTHER', 'I-OTHER', 'I-OTHER', 'I-OTHER', 'I-OTHER', 'I-OTHER', 'I-OTHER', 'I-OTHER', 'I-OTHER', 'I-OTHER', 'I-OTHER', 'I-OTHER', 'I-OTHER', 'O', 'O', 'O', 'O', 'O', 'O', 'O', 'O', 'O', 'O', 'O', 'O', 'B-OTHER', 'I-OTHER', 'I-OTHER', 'I-OTHER', 'I-OTHER', 'I-OTHER', 'I-OTHER', 'I-OTHER', 'O']\",\n",
       " 'entities': [{'start': 22,\n",
       "   'end': 52,\n",
       "   'text': 'Speech Perception Intervention',\n",
       "   'type': 'OTHER'},\n",
       "  {'start': 123,\n",
       "   'end': 145,\n",
       "   'text': 'Speech Sound Disorders',\n",
       "   'type': 'CONDITION'},\n",
       "  {'start': 224,\n",
       "   'end': 246,\n",
       "   'text': 'speech sound disorders',\n",
       "   'type': 'CONDITION'},\n",
       "  {'start': 419,\n",
       "   'end': 441,\n",
       "   'text': 'speech sound disorders',\n",
       "   'type': 'CONDITION'},\n",
       "  {'start': 888,\n",
       "   'end': 911,\n",
       "   'text': 'speech sounds disorders',\n",
       "   'type': 'CONDITION'},\n",
       "  {'start': 1111,\n",
       "   'end': 1210,\n",
       "   'text': 'combination of treatment approaches that focus on speech perception skills and vocabulary knowledge',\n",
       "   'type': 'OTHER'},\n",
       "  {'start': 1286,\n",
       "   'end': 1349,\n",
       "   'text': 'treatment approach that focuses solely on articulation accuracy',\n",
       "   'type': 'OTHER'}]}"
      ]
     },
     "execution_count": 176,
     "metadata": {},
     "output_type": "execute_result"
    }
   ],
   "source": [
    "json_output_dev[0]"
   ]
  },
  {
   "cell_type": "code",
   "execution_count": 178,
   "id": "8b4ad652-8990-4176-a45d-f25e22c74b87",
   "metadata": {},
   "outputs": [],
   "source": [
    "def save_to_json(output_file_path, json_output):\n",
    "    with open(output_file_path, 'w') as json_file:\n",
    "        json.dump(json_output, json_file, indent=4)"
   ]
  },
  {
   "cell_type": "code",
   "execution_count": 180,
   "id": "22d61447-25c8-452a-bad9-b5a740066da1",
   "metadata": {},
   "outputs": [],
   "source": [
    "json_outputs = [json_output_dev, json_output_test, json_output_train]\n",
    "file_suffix = [\"dev\",\"test\",\"train\"]\n",
    "bigbio_path = \"./annotated_data/bigbio/\"\n",
    "\n",
    "for json_out, filename in zip(json_outputs, file_suffix):\n",
    "    save_to_json(f'{bigbio_path}{filename}.json', json_out)"
   ]
  },
  {
   "cell_type": "code",
   "execution_count": 182,
   "id": "95b5f714-ad89-46d5-a5e0-b3e932071016",
   "metadata": {},
   "outputs": [],
   "source": [
    "import json"
   ]
  },
  {
   "cell_type": "code",
   "execution_count": 91,
   "id": "46c57ad1-cc85-4b91-bc87-d7e6e77e550d",
   "metadata": {},
   "outputs": [],
   "source": [
    "with open(\"./annotated_data/bigbio/dev.json\", \"r\") as f:\n",
    "    data_dev = json.load(f)"
   ]
  },
  {
   "cell_type": "code",
   "execution_count": 99,
   "id": "7a1d41ab-ef7f-4090-b873-8fd609a9f908",
   "metadata": {},
   "outputs": [],
   "source": [
    "with open(\"./annotated_data/bigbio/test.json\", \"r\") as f:\n",
    "    data_test = json.load(f)"
   ]
  },
  {
   "cell_type": "code",
   "execution_count": 101,
   "id": "f45791a5-3f4c-4b43-ab4f-273da291a915",
   "metadata": {},
   "outputs": [],
   "source": [
    "with open(\"./annotated_data/bigbio/train.json\", \"r\") as f:\n",
    "    data_test = json.load(f)"
   ]
  }
 ],
 "metadata": {
  "kernelspec": {
   "display_name": "neurotrialner-notebooks",
   "language": "python",
   "name": "neurotrialner-notebooks"
  },
  "language_info": {
   "codemirror_mode": {
    "name": "ipython",
    "version": 3
   },
   "file_extension": ".py",
   "mimetype": "text/x-python",
   "name": "python",
   "nbconvert_exporter": "python",
   "pygments_lexer": "ipython3",
   "version": "3.12.3"
  }
 },
 "nbformat": 4,
 "nbformat_minor": 5
}
